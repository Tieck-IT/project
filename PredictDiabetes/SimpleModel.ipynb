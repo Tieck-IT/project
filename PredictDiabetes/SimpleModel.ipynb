{
 "cells": [
  {
   "cell_type": "markdown",
   "id": "a6c15bfd",
   "metadata": {},
   "source": [
    "# data set load & EDA"
   ]
  },
  {
   "cell_type": "code",
   "execution_count": 1,
   "id": "346eb9be",
   "metadata": {
    "ExecuteTime": {
     "end_time": "2021-12-16T03:29:06.004088Z",
     "start_time": "2021-12-16T03:29:04.896348Z"
    }
   },
   "outputs": [
    {
     "name": "stderr",
     "output_type": "stream",
     "text": [
      "Missing colon in file WindowsPath('C:/Users/medici/anaconda3/lib/site-packages/matplotlib/mpl-data/matplotlibrc'), line 409 (' use Unicode for the minus symbol rather than hyphen.  See')\n"
     ]
    }
   ],
   "source": [
    "DATADIR = \"dataset/\"\n",
    "import pandas as pd\n",
    "import numpy as np\n",
    "import matplotlib.pyplot as plt\n",
    "import seaborn as sns\n",
    "import warnings\n",
    "%matplotlib inline\n",
    "warnings.filterwarnings('ignore')"
   ]
  },
  {
   "cell_type": "code",
   "execution_count": 2,
   "id": "4321e20d",
   "metadata": {
    "ExecuteTime": {
     "end_time": "2021-12-16T03:29:06.019995Z",
     "start_time": "2021-12-16T03:29:06.006098Z"
    }
   },
   "outputs": [],
   "source": [
    "import os"
   ]
  },
  {
   "cell_type": "code",
   "execution_count": 3,
   "id": "3dca7a27",
   "metadata": {
    "ExecuteTime": {
     "end_time": "2021-12-16T03:29:06.035854Z",
     "start_time": "2021-12-16T03:29:06.021009Z"
    }
   },
   "outputs": [
    {
     "data": {
      "text/plain": [
       "'C:\\\\jupyter\\\\ML\\\\heart-disease'"
      ]
     },
     "execution_count": 3,
     "metadata": {},
     "output_type": "execute_result"
    }
   ],
   "source": [
    "os.getcwd()"
   ]
  },
  {
   "cell_type": "code",
   "execution_count": 4,
   "id": "468357ff",
   "metadata": {
    "ExecuteTime": {
     "end_time": "2021-12-16T03:29:06.115072Z",
     "start_time": "2021-12-16T03:29:06.037849Z"
    }
   },
   "outputs": [],
   "source": [
    "base_df = pd.read_csv(DATADIR+\"merged_base.csv\")\n",
    "follow_df = pd.read_csv(DATADIR+\"merged_follow.csv\")\n",
    "base_cols = pd.read_csv(DATADIR+\"base_colnames.csv\")"
   ]
  },
  {
   "cell_type": "code",
   "execution_count": 5,
   "id": "3a1d4fdf",
   "metadata": {
    "ExecuteTime": {
     "end_time": "2021-12-16T03:29:06.131077Z",
     "start_time": "2021-12-16T03:29:06.117067Z"
    }
   },
   "outputs": [],
   "source": [
    "base_ID = base_df[\"T_ID\"]\n",
    "# base_DCLASS = base_df[\"T_DATA_CLASS\"]\n",
    "base_df = base_df.drop(columns = [\"T_ID\",\"T_DATA_CLASS\"])"
   ]
  },
  {
   "cell_type": "code",
   "execution_count": 6,
   "id": "7b792737",
   "metadata": {
    "ExecuteTime": {
     "end_time": "2021-12-16T03:29:06.146680Z",
     "start_time": "2021-12-16T03:29:06.132077Z"
    }
   },
   "outputs": [
    {
     "data": {
      "text/html": [
       "<div>\n",
       "<style scoped>\n",
       "    .dataframe tbody tr th:only-of-type {\n",
       "        vertical-align: middle;\n",
       "    }\n",
       "\n",
       "    .dataframe tbody tr th {\n",
       "        vertical-align: top;\n",
       "    }\n",
       "\n",
       "    .dataframe thead th {\n",
       "        text-align: right;\n",
       "    }\n",
       "</style>\n",
       "<table border=\"1\" class=\"dataframe\">\n",
       "  <thead>\n",
       "    <tr style=\"text-align: right;\">\n",
       "      <th></th>\n",
       "      <th>tablename</th>\n",
       "      <th>class</th>\n",
       "      <th>colnames</th>\n",
       "      <th>coltype</th>\n",
       "      <th>ordinalTrue</th>\n",
       "    </tr>\n",
       "  </thead>\n",
       "  <tbody>\n",
       "    <tr>\n",
       "      <th>0</th>\n",
       "      <td>BASE_DATA1</td>\n",
       "      <td>기본정보</td>\n",
       "      <td>T_ID</td>\n",
       "      <td>NaN</td>\n",
       "      <td>NaN</td>\n",
       "    </tr>\n",
       "    <tr>\n",
       "      <th>1</th>\n",
       "      <td>BASE_DATA1</td>\n",
       "      <td>기본정보</td>\n",
       "      <td>T_DATA_CLASS</td>\n",
       "      <td>범주형</td>\n",
       "      <td>0</td>\n",
       "    </tr>\n",
       "    <tr>\n",
       "      <th>2</th>\n",
       "      <td>BASE_DATA1</td>\n",
       "      <td>기본정보</td>\n",
       "      <td>T_EDATE</td>\n",
       "      <td>연속형</td>\n",
       "      <td>연속형</td>\n",
       "    </tr>\n",
       "    <tr>\n",
       "      <th>3</th>\n",
       "      <td>BASE_DATA1</td>\n",
       "      <td>기본정보</td>\n",
       "      <td>T_SEX</td>\n",
       "      <td>범주형</td>\n",
       "      <td>0</td>\n",
       "    </tr>\n",
       "    <tr>\n",
       "      <th>4</th>\n",
       "      <td>BASE_DATA1</td>\n",
       "      <td>기본정보</td>\n",
       "      <td>T_AGE</td>\n",
       "      <td>연속형</td>\n",
       "      <td>연속형</td>\n",
       "    </tr>\n",
       "    <tr>\n",
       "      <th>...</th>\n",
       "      <td>...</td>\n",
       "      <td>...</td>\n",
       "      <td>...</td>\n",
       "      <td>...</td>\n",
       "      <td>...</td>\n",
       "    </tr>\n",
       "    <tr>\n",
       "      <th>56</th>\n",
       "      <td>BASE_DATA3</td>\n",
       "      <td>임상검사</td>\n",
       "      <td>T_HDL</td>\n",
       "      <td>연속형</td>\n",
       "      <td>연속형</td>\n",
       "    </tr>\n",
       "    <tr>\n",
       "      <th>57</th>\n",
       "      <td>BASE_DATA3</td>\n",
       "      <td>임상검사</td>\n",
       "      <td>T_LDL</td>\n",
       "      <td>연속형</td>\n",
       "      <td>연속형</td>\n",
       "    </tr>\n",
       "    <tr>\n",
       "      <th>58</th>\n",
       "      <td>BASE_DATA3</td>\n",
       "      <td>임상검사</td>\n",
       "      <td>T_TG</td>\n",
       "      <td>연속형</td>\n",
       "      <td>연속형</td>\n",
       "    </tr>\n",
       "    <tr>\n",
       "      <th>59</th>\n",
       "      <td>BASE_NONE</td>\n",
       "      <td>미상</td>\n",
       "      <td>T_PACKYR</td>\n",
       "      <td>연속형</td>\n",
       "      <td>연속형</td>\n",
       "    </tr>\n",
       "    <tr>\n",
       "      <th>60</th>\n",
       "      <td>BASE_NONE</td>\n",
       "      <td>미상</td>\n",
       "      <td>T_TOTALC</td>\n",
       "      <td>연속형</td>\n",
       "      <td>연속형</td>\n",
       "    </tr>\n",
       "  </tbody>\n",
       "</table>\n",
       "<p>61 rows × 5 columns</p>\n",
       "</div>"
      ],
      "text/plain": [
       "     tablename class      colnames coltype ordinalTrue\n",
       "0   BASE_DATA1  기본정보          T_ID     NaN         NaN\n",
       "1   BASE_DATA1  기본정보  T_DATA_CLASS     범주형           0\n",
       "2   BASE_DATA1  기본정보       T_EDATE     연속형         연속형\n",
       "3   BASE_DATA1  기본정보         T_SEX     범주형           0\n",
       "4   BASE_DATA1  기본정보         T_AGE     연속형         연속형\n",
       "..         ...   ...           ...     ...         ...\n",
       "56  BASE_DATA3  임상검사         T_HDL     연속형         연속형\n",
       "57  BASE_DATA3  임상검사         T_LDL     연속형         연속형\n",
       "58  BASE_DATA3  임상검사          T_TG     연속형         연속형\n",
       "59   BASE_NONE    미상      T_PACKYR     연속형         연속형\n",
       "60   BASE_NONE    미상      T_TOTALC     연속형         연속형\n",
       "\n",
       "[61 rows x 5 columns]"
      ]
     },
     "execution_count": 6,
     "metadata": {},
     "output_type": "execute_result"
    }
   ],
   "source": [
    "base_cols"
   ]
  },
  {
   "cell_type": "code",
   "execution_count": 7,
   "id": "1442611d",
   "metadata": {
    "ExecuteTime": {
     "end_time": "2021-12-16T03:29:06.161887Z",
     "start_time": "2021-12-16T03:29:06.147681Z"
    }
   },
   "outputs": [],
   "source": [
    "base_cols.drop(index=[0,1],inplace=True)"
   ]
  },
  {
   "cell_type": "code",
   "execution_count": 8,
   "id": "559c145d",
   "metadata": {
    "ExecuteTime": {
     "end_time": "2021-12-16T03:29:06.193575Z",
     "start_time": "2021-12-16T03:29:06.163867Z"
    }
   },
   "outputs": [
    {
     "data": {
      "text/html": [
       "<div>\n",
       "<style scoped>\n",
       "    .dataframe tbody tr th:only-of-type {\n",
       "        vertical-align: middle;\n",
       "    }\n",
       "\n",
       "    .dataframe tbody tr th {\n",
       "        vertical-align: top;\n",
       "    }\n",
       "\n",
       "    .dataframe thead th {\n",
       "        text-align: right;\n",
       "    }\n",
       "</style>\n",
       "<table border=\"1\" class=\"dataframe\">\n",
       "  <thead>\n",
       "    <tr style=\"text-align: right;\">\n",
       "      <th></th>\n",
       "      <th>T_EDATE</th>\n",
       "      <th>T_SEX</th>\n",
       "      <th>T_AGE</th>\n",
       "      <th>T_INCOME</th>\n",
       "      <th>T_MARRY</th>\n",
       "      <th>T_HTN</th>\n",
       "      <th>T_HTNAG</th>\n",
       "      <th>T_DM</th>\n",
       "      <th>T_DMAG</th>\n",
       "      <th>T_LIP</th>\n",
       "      <th>...</th>\n",
       "      <th>T_BMI</th>\n",
       "      <th>T_HBA1C</th>\n",
       "      <th>T_GLU0</th>\n",
       "      <th>T_CREATINE</th>\n",
       "      <th>T_AST</th>\n",
       "      <th>T_ALT</th>\n",
       "      <th>T_TCHL</th>\n",
       "      <th>T_HDL</th>\n",
       "      <th>T_LDL</th>\n",
       "      <th>T_TG</th>\n",
       "    </tr>\n",
       "  </thead>\n",
       "  <tbody>\n",
       "    <tr>\n",
       "      <th>0</th>\n",
       "      <td>200802</td>\n",
       "      <td>2</td>\n",
       "      <td>42</td>\n",
       "      <td>99999</td>\n",
       "      <td>99999</td>\n",
       "      <td>1</td>\n",
       "      <td>77777</td>\n",
       "      <td>1</td>\n",
       "      <td>77777</td>\n",
       "      <td>2</td>\n",
       "      <td>...</td>\n",
       "      <td>24</td>\n",
       "      <td>66666.0</td>\n",
       "      <td>68</td>\n",
       "      <td>0.60</td>\n",
       "      <td>20</td>\n",
       "      <td>12</td>\n",
       "      <td>172</td>\n",
       "      <td>62</td>\n",
       "      <td>102</td>\n",
       "      <td>38</td>\n",
       "    </tr>\n",
       "    <tr>\n",
       "      <th>1</th>\n",
       "      <td>200306</td>\n",
       "      <td>2</td>\n",
       "      <td>58</td>\n",
       "      <td>1</td>\n",
       "      <td>2</td>\n",
       "      <td>2</td>\n",
       "      <td>50</td>\n",
       "      <td>1</td>\n",
       "      <td>77777</td>\n",
       "      <td>1</td>\n",
       "      <td>...</td>\n",
       "      <td>26</td>\n",
       "      <td>66666.0</td>\n",
       "      <td>86</td>\n",
       "      <td>0.60</td>\n",
       "      <td>17</td>\n",
       "      <td>13</td>\n",
       "      <td>197</td>\n",
       "      <td>62</td>\n",
       "      <td>119</td>\n",
       "      <td>79</td>\n",
       "    </tr>\n",
       "    <tr>\n",
       "      <th>2</th>\n",
       "      <td>201108</td>\n",
       "      <td>2</td>\n",
       "      <td>60</td>\n",
       "      <td>99999</td>\n",
       "      <td>2</td>\n",
       "      <td>2</td>\n",
       "      <td>50</td>\n",
       "      <td>1</td>\n",
       "      <td>77777</td>\n",
       "      <td>2</td>\n",
       "      <td>...</td>\n",
       "      <td>23</td>\n",
       "      <td>66666.0</td>\n",
       "      <td>86</td>\n",
       "      <td>0.80</td>\n",
       "      <td>39</td>\n",
       "      <td>53</td>\n",
       "      <td>156</td>\n",
       "      <td>46</td>\n",
       "      <td>88</td>\n",
       "      <td>112</td>\n",
       "    </tr>\n",
       "    <tr>\n",
       "      <th>3</th>\n",
       "      <td>201004</td>\n",
       "      <td>2</td>\n",
       "      <td>73</td>\n",
       "      <td>1</td>\n",
       "      <td>5</td>\n",
       "      <td>2</td>\n",
       "      <td>63</td>\n",
       "      <td>1</td>\n",
       "      <td>77777</td>\n",
       "      <td>1</td>\n",
       "      <td>...</td>\n",
       "      <td>27</td>\n",
       "      <td>66666.0</td>\n",
       "      <td>108</td>\n",
       "      <td>0.76</td>\n",
       "      <td>16</td>\n",
       "      <td>28</td>\n",
       "      <td>170</td>\n",
       "      <td>39</td>\n",
       "      <td>109</td>\n",
       "      <td>109</td>\n",
       "    </tr>\n",
       "    <tr>\n",
       "      <th>4</th>\n",
       "      <td>200410</td>\n",
       "      <td>2</td>\n",
       "      <td>59</td>\n",
       "      <td>2</td>\n",
       "      <td>2</td>\n",
       "      <td>1</td>\n",
       "      <td>77777</td>\n",
       "      <td>1</td>\n",
       "      <td>77777</td>\n",
       "      <td>1</td>\n",
       "      <td>...</td>\n",
       "      <td>27</td>\n",
       "      <td>66666.0</td>\n",
       "      <td>91</td>\n",
       "      <td>0.68</td>\n",
       "      <td>18</td>\n",
       "      <td>13</td>\n",
       "      <td>178</td>\n",
       "      <td>65</td>\n",
       "      <td>103</td>\n",
       "      <td>52</td>\n",
       "    </tr>\n",
       "    <tr>\n",
       "      <th>...</th>\n",
       "      <td>...</td>\n",
       "      <td>...</td>\n",
       "      <td>...</td>\n",
       "      <td>...</td>\n",
       "      <td>...</td>\n",
       "      <td>...</td>\n",
       "      <td>...</td>\n",
       "      <td>...</td>\n",
       "      <td>...</td>\n",
       "      <td>...</td>\n",
       "      <td>...</td>\n",
       "      <td>...</td>\n",
       "      <td>...</td>\n",
       "      <td>...</td>\n",
       "      <td>...</td>\n",
       "      <td>...</td>\n",
       "      <td>...</td>\n",
       "      <td>...</td>\n",
       "      <td>...</td>\n",
       "      <td>...</td>\n",
       "      <td>...</td>\n",
       "    </tr>\n",
       "    <tr>\n",
       "      <th>9995</th>\n",
       "      <td>201003</td>\n",
       "      <td>1</td>\n",
       "      <td>66</td>\n",
       "      <td>3</td>\n",
       "      <td>2</td>\n",
       "      <td>1</td>\n",
       "      <td>77777</td>\n",
       "      <td>1</td>\n",
       "      <td>77777</td>\n",
       "      <td>1</td>\n",
       "      <td>...</td>\n",
       "      <td>23</td>\n",
       "      <td>66666.0</td>\n",
       "      <td>93</td>\n",
       "      <td>0.90</td>\n",
       "      <td>25</td>\n",
       "      <td>25</td>\n",
       "      <td>149</td>\n",
       "      <td>53</td>\n",
       "      <td>85</td>\n",
       "      <td>53</td>\n",
       "    </tr>\n",
       "    <tr>\n",
       "      <th>9996</th>\n",
       "      <td>200510</td>\n",
       "      <td>1</td>\n",
       "      <td>58</td>\n",
       "      <td>7</td>\n",
       "      <td>2</td>\n",
       "      <td>2</td>\n",
       "      <td>58</td>\n",
       "      <td>2</td>\n",
       "      <td>48</td>\n",
       "      <td>1</td>\n",
       "      <td>...</td>\n",
       "      <td>25</td>\n",
       "      <td>66666.0</td>\n",
       "      <td>120</td>\n",
       "      <td>0.70</td>\n",
       "      <td>19</td>\n",
       "      <td>16</td>\n",
       "      <td>159</td>\n",
       "      <td>39</td>\n",
       "      <td>101</td>\n",
       "      <td>93</td>\n",
       "    </tr>\n",
       "    <tr>\n",
       "      <th>9997</th>\n",
       "      <td>201107</td>\n",
       "      <td>1</td>\n",
       "      <td>57</td>\n",
       "      <td>5</td>\n",
       "      <td>2</td>\n",
       "      <td>1</td>\n",
       "      <td>77777</td>\n",
       "      <td>1</td>\n",
       "      <td>77777</td>\n",
       "      <td>1</td>\n",
       "      <td>...</td>\n",
       "      <td>23</td>\n",
       "      <td>66666.0</td>\n",
       "      <td>86</td>\n",
       "      <td>1.40</td>\n",
       "      <td>22</td>\n",
       "      <td>28</td>\n",
       "      <td>188</td>\n",
       "      <td>34</td>\n",
       "      <td>76</td>\n",
       "      <td>389</td>\n",
       "    </tr>\n",
       "    <tr>\n",
       "      <th>9998</th>\n",
       "      <td>201108</td>\n",
       "      <td>2</td>\n",
       "      <td>43</td>\n",
       "      <td>7</td>\n",
       "      <td>2</td>\n",
       "      <td>1</td>\n",
       "      <td>77777</td>\n",
       "      <td>1</td>\n",
       "      <td>77777</td>\n",
       "      <td>1</td>\n",
       "      <td>...</td>\n",
       "      <td>24</td>\n",
       "      <td>66666.0</td>\n",
       "      <td>104</td>\n",
       "      <td>0.80</td>\n",
       "      <td>37</td>\n",
       "      <td>46</td>\n",
       "      <td>200</td>\n",
       "      <td>63</td>\n",
       "      <td>126</td>\n",
       "      <td>54</td>\n",
       "    </tr>\n",
       "    <tr>\n",
       "      <th>9999</th>\n",
       "      <td>201309</td>\n",
       "      <td>2</td>\n",
       "      <td>43</td>\n",
       "      <td>8</td>\n",
       "      <td>2</td>\n",
       "      <td>1</td>\n",
       "      <td>77777</td>\n",
       "      <td>1</td>\n",
       "      <td>77777</td>\n",
       "      <td>1</td>\n",
       "      <td>...</td>\n",
       "      <td>28</td>\n",
       "      <td>66666.0</td>\n",
       "      <td>69</td>\n",
       "      <td>0.60</td>\n",
       "      <td>19</td>\n",
       "      <td>17</td>\n",
       "      <td>205</td>\n",
       "      <td>38</td>\n",
       "      <td>139</td>\n",
       "      <td>142</td>\n",
       "    </tr>\n",
       "  </tbody>\n",
       "</table>\n",
       "<p>10000 rows × 59 columns</p>\n",
       "</div>"
      ],
      "text/plain": [
       "      T_EDATE  T_SEX  T_AGE  T_INCOME  T_MARRY  T_HTN  T_HTNAG  T_DM  T_DMAG  \\\n",
       "0      200802      2     42     99999    99999      1    77777     1   77777   \n",
       "1      200306      2     58         1        2      2       50     1   77777   \n",
       "2      201108      2     60     99999        2      2       50     1   77777   \n",
       "3      201004      2     73         1        5      2       63     1   77777   \n",
       "4      200410      2     59         2        2      1    77777     1   77777   \n",
       "...       ...    ...    ...       ...      ...    ...      ...   ...     ...   \n",
       "9995   201003      1     66         3        2      1    77777     1   77777   \n",
       "9996   200510      1     58         7        2      2       58     2      48   \n",
       "9997   201107      1     57         5        2      1    77777     1   77777   \n",
       "9998   201108      2     43         7        2      1    77777     1   77777   \n",
       "9999   201309      2     43         8        2      1    77777     1   77777   \n",
       "\n",
       "      T_LIP  ...  T_BMI  T_HBA1C  T_GLU0  T_CREATINE  T_AST  T_ALT  T_TCHL  \\\n",
       "0         2  ...     24  66666.0      68        0.60     20     12     172   \n",
       "1         1  ...     26  66666.0      86        0.60     17     13     197   \n",
       "2         2  ...     23  66666.0      86        0.80     39     53     156   \n",
       "3         1  ...     27  66666.0     108        0.76     16     28     170   \n",
       "4         1  ...     27  66666.0      91        0.68     18     13     178   \n",
       "...     ...  ...    ...      ...     ...         ...    ...    ...     ...   \n",
       "9995      1  ...     23  66666.0      93        0.90     25     25     149   \n",
       "9996      1  ...     25  66666.0     120        0.70     19     16     159   \n",
       "9997      1  ...     23  66666.0      86        1.40     22     28     188   \n",
       "9998      1  ...     24  66666.0     104        0.80     37     46     200   \n",
       "9999      1  ...     28  66666.0      69        0.60     19     17     205   \n",
       "\n",
       "      T_HDL  T_LDL  T_TG  \n",
       "0        62    102    38  \n",
       "1        62    119    79  \n",
       "2        46     88   112  \n",
       "3        39    109   109  \n",
       "4        65    103    52  \n",
       "...     ...    ...   ...  \n",
       "9995     53     85    53  \n",
       "9996     39    101    93  \n",
       "9997     34     76   389  \n",
       "9998     63    126    54  \n",
       "9999     38    139   142  \n",
       "\n",
       "[10000 rows x 59 columns]"
      ]
     },
     "execution_count": 8,
     "metadata": {},
     "output_type": "execute_result"
    }
   ],
   "source": [
    "base_df"
   ]
  },
  {
   "cell_type": "code",
   "execution_count": 9,
   "id": "308cbcd8",
   "metadata": {
    "ExecuteTime": {
     "end_time": "2021-12-16T03:29:06.325970Z",
     "start_time": "2021-12-16T03:29:06.303959Z"
    }
   },
   "outputs": [
    {
     "data": {
      "text/plain": [
       "T_DM \n",
       "1        9269\n",
       "2         712\n",
       "99999      19\n",
       "dtype: int64"
      ]
     },
     "execution_count": 9,
     "metadata": {},
     "output_type": "execute_result"
    }
   ],
   "source": [
    "base_df[[\"T_DM\"]].value_counts()"
   ]
  },
  {
   "cell_type": "code",
   "execution_count": 10,
   "id": "a1621f77",
   "metadata": {
    "ExecuteTime": {
     "end_time": "2021-12-16T03:29:06.500190Z",
     "start_time": "2021-12-16T03:29:06.486176Z"
    }
   },
   "outputs": [
    {
     "data": {
      "text/plain": [
       "T_INCOME\n",
       "5           1716\n",
       "6           1472\n",
       "7           1152\n",
       "99999       1139\n",
       "4            897\n",
       "66666        873\n",
       "3            804\n",
       "1            729\n",
       "2            632\n",
       "8            586\n",
       "dtype: int64"
      ]
     },
     "execution_count": 10,
     "metadata": {},
     "output_type": "execute_result"
    }
   ],
   "source": [
    "base_df[[\"T_INCOME\"]].value_counts()"
   ]
  },
  {
   "cell_type": "code",
   "execution_count": 11,
   "id": "d334c4b4",
   "metadata": {
    "ExecuteTime": {
     "end_time": "2021-12-16T03:29:08.107663Z",
     "start_time": "2021-12-16T03:29:08.096655Z"
    }
   },
   "outputs": [
    {
     "data": {
      "text/html": [
       "<div>\n",
       "<style scoped>\n",
       "    .dataframe tbody tr th:only-of-type {\n",
       "        vertical-align: middle;\n",
       "    }\n",
       "\n",
       "    .dataframe tbody tr th {\n",
       "        vertical-align: top;\n",
       "    }\n",
       "\n",
       "    .dataframe thead th {\n",
       "        text-align: right;\n",
       "    }\n",
       "</style>\n",
       "<table border=\"1\" class=\"dataframe\">\n",
       "  <thead>\n",
       "    <tr style=\"text-align: right;\">\n",
       "      <th></th>\n",
       "      <th>tablename</th>\n",
       "      <th>class</th>\n",
       "      <th>colnames</th>\n",
       "      <th>coltype</th>\n",
       "      <th>ordinalTrue</th>\n",
       "    </tr>\n",
       "  </thead>\n",
       "  <tbody>\n",
       "    <tr>\n",
       "      <th>42</th>\n",
       "      <td>BASE_DATA3</td>\n",
       "      <td>임상검사</td>\n",
       "      <td>T_SBP</td>\n",
       "      <td>연속형</td>\n",
       "      <td>연속형</td>\n",
       "    </tr>\n",
       "    <tr>\n",
       "      <th>43</th>\n",
       "      <td>BASE_DATA3</td>\n",
       "      <td>임상검사</td>\n",
       "      <td>T_DBP</td>\n",
       "      <td>연속형</td>\n",
       "      <td>연속형</td>\n",
       "    </tr>\n",
       "    <tr>\n",
       "      <th>44</th>\n",
       "      <td>BASE_DATA3</td>\n",
       "      <td>임상검사</td>\n",
       "      <td>T_PULSE</td>\n",
       "      <td>연속형</td>\n",
       "      <td>연속형</td>\n",
       "    </tr>\n",
       "    <tr>\n",
       "      <th>45</th>\n",
       "      <td>BASE_DATA3</td>\n",
       "      <td>임상검사</td>\n",
       "      <td>T_WAIST</td>\n",
       "      <td>연속형</td>\n",
       "      <td>연속형</td>\n",
       "    </tr>\n",
       "    <tr>\n",
       "      <th>46</th>\n",
       "      <td>BASE_DATA3</td>\n",
       "      <td>임상검사</td>\n",
       "      <td>T_HIP</td>\n",
       "      <td>연속형</td>\n",
       "      <td>연속형</td>\n",
       "    </tr>\n",
       "    <tr>\n",
       "      <th>47</th>\n",
       "      <td>BASE_DATA3</td>\n",
       "      <td>임상검사</td>\n",
       "      <td>T_HEIGHT</td>\n",
       "      <td>연속형</td>\n",
       "      <td>연속형</td>\n",
       "    </tr>\n",
       "    <tr>\n",
       "      <th>48</th>\n",
       "      <td>BASE_DATA3</td>\n",
       "      <td>임상검사</td>\n",
       "      <td>T_WEIGHT</td>\n",
       "      <td>연속형</td>\n",
       "      <td>연속형</td>\n",
       "    </tr>\n",
       "    <tr>\n",
       "      <th>49</th>\n",
       "      <td>BASE_DATA3</td>\n",
       "      <td>임상검사</td>\n",
       "      <td>T_BMI</td>\n",
       "      <td>연속형</td>\n",
       "      <td>연속형</td>\n",
       "    </tr>\n",
       "    <tr>\n",
       "      <th>50</th>\n",
       "      <td>BASE_DATA3</td>\n",
       "      <td>임상검사</td>\n",
       "      <td>T_HBA1C</td>\n",
       "      <td>연속형</td>\n",
       "      <td>연속형</td>\n",
       "    </tr>\n",
       "    <tr>\n",
       "      <th>51</th>\n",
       "      <td>BASE_DATA3</td>\n",
       "      <td>임상검사</td>\n",
       "      <td>T_GLU0</td>\n",
       "      <td>연속형</td>\n",
       "      <td>연속형</td>\n",
       "    </tr>\n",
       "    <tr>\n",
       "      <th>52</th>\n",
       "      <td>BASE_DATA3</td>\n",
       "      <td>임상검사</td>\n",
       "      <td>T_CREATINE</td>\n",
       "      <td>연속형</td>\n",
       "      <td>연속형</td>\n",
       "    </tr>\n",
       "    <tr>\n",
       "      <th>53</th>\n",
       "      <td>BASE_DATA3</td>\n",
       "      <td>임상검사</td>\n",
       "      <td>T_AST</td>\n",
       "      <td>연속형</td>\n",
       "      <td>연속형</td>\n",
       "    </tr>\n",
       "    <tr>\n",
       "      <th>54</th>\n",
       "      <td>BASE_DATA3</td>\n",
       "      <td>임상검사</td>\n",
       "      <td>T_ALT</td>\n",
       "      <td>연속형</td>\n",
       "      <td>연속형</td>\n",
       "    </tr>\n",
       "    <tr>\n",
       "      <th>55</th>\n",
       "      <td>BASE_DATA3</td>\n",
       "      <td>임상검사</td>\n",
       "      <td>T_TCHL</td>\n",
       "      <td>연속형</td>\n",
       "      <td>연속형</td>\n",
       "    </tr>\n",
       "    <tr>\n",
       "      <th>56</th>\n",
       "      <td>BASE_DATA3</td>\n",
       "      <td>임상검사</td>\n",
       "      <td>T_HDL</td>\n",
       "      <td>연속형</td>\n",
       "      <td>연속형</td>\n",
       "    </tr>\n",
       "    <tr>\n",
       "      <th>57</th>\n",
       "      <td>BASE_DATA3</td>\n",
       "      <td>임상검사</td>\n",
       "      <td>T_LDL</td>\n",
       "      <td>연속형</td>\n",
       "      <td>연속형</td>\n",
       "    </tr>\n",
       "    <tr>\n",
       "      <th>58</th>\n",
       "      <td>BASE_DATA3</td>\n",
       "      <td>임상검사</td>\n",
       "      <td>T_TG</td>\n",
       "      <td>연속형</td>\n",
       "      <td>연속형</td>\n",
       "    </tr>\n",
       "  </tbody>\n",
       "</table>\n",
       "</div>"
      ],
      "text/plain": [
       "     tablename class    colnames coltype ordinalTrue\n",
       "42  BASE_DATA3  임상검사       T_SBP     연속형         연속형\n",
       "43  BASE_DATA3  임상검사       T_DBP     연속형         연속형\n",
       "44  BASE_DATA3  임상검사     T_PULSE     연속형         연속형\n",
       "45  BASE_DATA3  임상검사     T_WAIST     연속형         연속형\n",
       "46  BASE_DATA3  임상검사       T_HIP     연속형         연속형\n",
       "47  BASE_DATA3  임상검사    T_HEIGHT     연속형         연속형\n",
       "48  BASE_DATA3  임상검사    T_WEIGHT     연속형         연속형\n",
       "49  BASE_DATA3  임상검사       T_BMI     연속형         연속형\n",
       "50  BASE_DATA3  임상검사     T_HBA1C     연속형         연속형\n",
       "51  BASE_DATA3  임상검사      T_GLU0     연속형         연속형\n",
       "52  BASE_DATA3  임상검사  T_CREATINE     연속형         연속형\n",
       "53  BASE_DATA3  임상검사       T_AST     연속형         연속형\n",
       "54  BASE_DATA3  임상검사       T_ALT     연속형         연속형\n",
       "55  BASE_DATA3  임상검사      T_TCHL     연속형         연속형\n",
       "56  BASE_DATA3  임상검사       T_HDL     연속형         연속형\n",
       "57  BASE_DATA3  임상검사       T_LDL     연속형         연속형\n",
       "58  BASE_DATA3  임상검사        T_TG     연속형         연속형"
      ]
     },
     "execution_count": 11,
     "metadata": {},
     "output_type": "execute_result"
    }
   ],
   "source": [
    "base_cols[base_cols[\"class\"]==\"임상검사\"]"
   ]
  },
  {
   "cell_type": "markdown",
   "id": "98b83adb",
   "metadata": {},
   "source": [
    "- 설명이 없는 2가지 변수 발견\n",
    "    - T_PACKYR\n",
    "    - T_TOTALC\n",
    "- base_none , 미상 으로 추가 (base_colnames.csv 파일에)"
   ]
  },
  {
   "cell_type": "markdown",
   "id": "ef58532a",
   "metadata": {},
   "source": [
    "# 인코딩"
   ]
  },
  {
   "cell_type": "markdown",
   "id": "2259999d",
   "metadata": {},
   "source": [
    "## 척도 분리 (범주형 - 순위 / 명목)"
   ]
  },
  {
   "cell_type": "code",
   "execution_count": 12,
   "id": "a4d558f5",
   "metadata": {
    "ExecuteTime": {
     "end_time": "2021-12-16T03:29:13.712885Z",
     "start_time": "2021-12-16T03:29:13.702873Z"
    }
   },
   "outputs": [
    {
     "data": {
      "text/html": [
       "<div>\n",
       "<style scoped>\n",
       "    .dataframe tbody tr th:only-of-type {\n",
       "        vertical-align: middle;\n",
       "    }\n",
       "\n",
       "    .dataframe tbody tr th {\n",
       "        vertical-align: top;\n",
       "    }\n",
       "\n",
       "    .dataframe thead th {\n",
       "        text-align: right;\n",
       "    }\n",
       "</style>\n",
       "<table border=\"1\" class=\"dataframe\">\n",
       "  <thead>\n",
       "    <tr style=\"text-align: right;\">\n",
       "      <th></th>\n",
       "      <th>tablename</th>\n",
       "      <th>class</th>\n",
       "      <th>colnames</th>\n",
       "      <th>coltype</th>\n",
       "      <th>ordinalTrue</th>\n",
       "    </tr>\n",
       "  </thead>\n",
       "  <tbody>\n",
       "    <tr>\n",
       "      <th>3</th>\n",
       "      <td>BASE_DATA1</td>\n",
       "      <td>기본정보</td>\n",
       "      <td>T_SEX</td>\n",
       "      <td>범주형</td>\n",
       "      <td>0</td>\n",
       "    </tr>\n",
       "    <tr>\n",
       "      <th>5</th>\n",
       "      <td>BASE_DATA1</td>\n",
       "      <td>일반정보</td>\n",
       "      <td>T_INCOME</td>\n",
       "      <td>범주형</td>\n",
       "      <td>1</td>\n",
       "    </tr>\n",
       "    <tr>\n",
       "      <th>6</th>\n",
       "      <td>BASE_DATA1</td>\n",
       "      <td>일반정보</td>\n",
       "      <td>T_MARRY</td>\n",
       "      <td>범주형</td>\n",
       "      <td>0</td>\n",
       "    </tr>\n",
       "    <tr>\n",
       "      <th>7</th>\n",
       "      <td>BASE_DATA2</td>\n",
       "      <td>과거력</td>\n",
       "      <td>T_HTN</td>\n",
       "      <td>범주형</td>\n",
       "      <td>0</td>\n",
       "    </tr>\n",
       "    <tr>\n",
       "      <th>9</th>\n",
       "      <td>BASE_DATA2</td>\n",
       "      <td>과거력</td>\n",
       "      <td>T_DM</td>\n",
       "      <td>범주형</td>\n",
       "      <td>1</td>\n",
       "    </tr>\n",
       "  </tbody>\n",
       "</table>\n",
       "</div>"
      ],
      "text/plain": [
       "    tablename class  colnames coltype ordinalTrue\n",
       "3  BASE_DATA1  기본정보     T_SEX     범주형           0\n",
       "5  BASE_DATA1  일반정보  T_INCOME     범주형           1\n",
       "6  BASE_DATA1  일반정보   T_MARRY     범주형           0\n",
       "7  BASE_DATA2   과거력     T_HTN     범주형           0\n",
       "9  BASE_DATA2   과거력      T_DM     범주형           1"
      ]
     },
     "execution_count": 12,
     "metadata": {},
     "output_type": "execute_result"
    }
   ],
   "source": [
    "base_cols[base_cols[\"coltype\"]==\"범주형\"].head()"
   ]
  },
  {
   "cell_type": "markdown",
   "id": "9d88ec92",
   "metadata": {},
   "source": [
    "## 그룹별 cols 묶기"
   ]
  },
  {
   "cell_type": "code",
   "execution_count": 13,
   "id": "9e027ced",
   "metadata": {
    "ExecuteTime": {
     "end_time": "2021-12-16T03:29:15.268226Z",
     "start_time": "2021-12-16T03:29:15.250943Z"
    }
   },
   "outputs": [],
   "source": [
    "lifestyle_cols = base_cols[base_cols[\"class\"]==\"생활습관\"][\"colnames\"]\n",
    "female_cols = base_cols[base_cols[\"class\"]==\"여성력\"][\"colnames\"]\n",
    "history_cols = base_cols[base_cols[\"class\"]==\"과거력\"][\"colnames\"]\n",
    "family_cols = base_cols[base_cols[\"class\"]==\"가족력\"][\"colnames\"]\n",
    "start_cols = base_cols[(base_cols[\"class\"]==\"기본정보\") | (base_cols[\"class\"]==\"일반정보\")][\"colnames\"]\n"
   ]
  },
  {
   "cell_type": "code",
   "execution_count": 14,
   "id": "a81720f2",
   "metadata": {
    "ExecuteTime": {
     "end_time": "2021-12-16T03:29:16.917248Z",
     "start_time": "2021-12-16T03:29:16.903158Z"
    }
   },
   "outputs": [],
   "source": [
    "used_cols = pd.Series([\"T_HEIGHT\", \"T_WEIGHT\",\"T_BMI\"])\n",
    "target_cols = pd.Series([\"T_DM\",\"T_GLU0\"])"
   ]
  },
  {
   "cell_type": "markdown",
   "id": "a4b0097e",
   "metadata": {},
   "source": [
    "### 사용할 col (start_cols) 지정"
   ]
  },
  {
   "cell_type": "markdown",
   "id": "7b58dad9",
   "metadata": {},
   "source": [
    "- 사용 안하는 col\n",
    "    - ID\n",
    "    - T_DATA_CLASS : 조사단위, 시간 EDATE와 의미가 중복됨"
   ]
  },
  {
   "cell_type": "code",
   "execution_count": 15,
   "id": "bb4bc7f2",
   "metadata": {
    "ExecuteTime": {
     "end_time": "2021-12-16T03:29:20.212970Z",
     "start_time": "2021-12-16T03:29:20.200824Z"
    }
   },
   "outputs": [
    {
     "data": {
      "text/plain": [
       "28"
      ]
     },
     "execution_count": 15,
     "metadata": {},
     "output_type": "execute_result"
    }
   ],
   "source": [
    "start_cols = start_cols.append([used_cols,target_cols,lifestyle_cols]).reset_index(drop=True)\n",
    "start_cols.drop(index = [0,1],inplace=True) # \"T_ID\", \"T_DATA_CLASS\" drop\n",
    "len(start_cols)"
   ]
  },
  {
   "cell_type": "markdown",
   "id": "cf0ef85c",
   "metadata": {},
   "source": [
    "### 4가지 척도로 변수 분류(범주형, 순서형, 이산형, 연속형)"
   ]
  },
  {
   "cell_type": "code",
   "execution_count": 16,
   "id": "4c010b1c",
   "metadata": {
    "ExecuteTime": {
     "end_time": "2021-12-16T03:29:21.807016Z",
     "start_time": "2021-12-16T03:29:21.802081Z"
    }
   },
   "outputs": [],
   "source": [
    "categori_cols = base_cols[base_cols[\"coltype\"]==\"범주형\"][\"colnames\"]\n",
    "continous_cols = base_cols[base_cols[\"coltype\"]==\"연속형\"][\"colnames\"]"
   ]
  },
  {
   "cell_type": "code",
   "execution_count": 17,
   "id": "5aab6ec6",
   "metadata": {
    "ExecuteTime": {
     "end_time": "2021-12-16T03:29:23.612375Z",
     "start_time": "2021-12-16T03:29:23.596309Z"
    }
   },
   "outputs": [
    {
     "data": {
      "text/plain": [
       "((23,), (36,))"
      ]
     },
     "execution_count": 17,
     "metadata": {},
     "output_type": "execute_result"
    }
   ],
   "source": [
    "categori_cols.shape, continous_cols.shape"
   ]
  },
  {
   "cell_type": "markdown",
   "id": "b11f90cb",
   "metadata": {},
   "source": [
    "#### 이산형 변수 형변환 (float64 -> int64)"
   ]
  },
  {
   "cell_type": "markdown",
   "id": "3914edae",
   "metadata": {},
   "source": [
    "- 자료형 변환\n",
    "- 반올림"
   ]
  },
  {
   "cell_type": "markdown",
   "id": "6a173381",
   "metadata": {},
   "source": [
    "- 1.8잔을 2잔으로 반올림해도 성능에 유의미한 변화 없을것\n",
    "- 숫자형 변수의 전부 이산형 \n",
    "    - ex. 와인 1잔, 2잔 ...\n",
    "- 연속형 변수는 임상시험에 몰려 있음 \n",
    "    - ex. 공복혈당 126.6 mg/dL"
   ]
  },
  {
   "cell_type": "code",
   "execution_count": 18,
   "id": "04ffc36b",
   "metadata": {
    "ExecuteTime": {
     "end_time": "2021-12-16T03:29:30.359616Z",
     "start_time": "2021-12-16T03:29:30.348556Z"
    }
   },
   "outputs": [],
   "source": [
    "import copy\n",
    "data1 = copy.deepcopy(base_df)"
   ]
  },
  {
   "cell_type": "code",
   "execution_count": 19,
   "id": "b5011ae5",
   "metadata": {
    "ExecuteTime": {
     "end_time": "2021-12-16T03:29:30.994444Z",
     "start_time": "2021-12-16T03:29:30.978369Z"
    }
   },
   "outputs": [
    {
     "data": {
      "text/plain": [
       "int64      24\n",
       "float64    12\n",
       "dtype: int64"
      ]
     },
     "execution_count": 19,
     "metadata": {},
     "output_type": "execute_result"
    }
   ],
   "source": [
    "data1[continous_cols].dtypes.value_counts()"
   ]
  },
  {
   "cell_type": "code",
   "execution_count": 20,
   "id": "febe9f6f",
   "metadata": {
    "ExecuteTime": {
     "end_time": "2021-12-16T03:29:33.229784Z",
     "start_time": "2021-12-16T03:29:33.214775Z"
    }
   },
   "outputs": [],
   "source": [
    "data1[continous_cols] = data1[continous_cols].astype(\"int64\")"
   ]
  },
  {
   "cell_type": "code",
   "execution_count": 21,
   "id": "434905f8",
   "metadata": {
    "ExecuteTime": {
     "end_time": "2021-12-16T03:29:33.822415Z",
     "start_time": "2021-12-16T03:29:33.798329Z"
    }
   },
   "outputs": [
    {
     "data": {
      "text/plain": [
       "int64    36\n",
       "dtype: int64"
      ]
     },
     "execution_count": 21,
     "metadata": {},
     "output_type": "execute_result"
    }
   ],
   "source": [
    "data1[continous_cols].dtypes.value_counts()"
   ]
  },
  {
   "cell_type": "code",
   "execution_count": 22,
   "id": "023aed9b",
   "metadata": {
    "ExecuteTime": {
     "end_time": "2021-12-16T03:29:35.840907Z",
     "start_time": "2021-12-16T03:29:35.820728Z"
    }
   },
   "outputs": [
    {
     "data": {
      "text/html": [
       "<div>\n",
       "<style scoped>\n",
       "    .dataframe tbody tr th:only-of-type {\n",
       "        vertical-align: middle;\n",
       "    }\n",
       "\n",
       "    .dataframe tbody tr th {\n",
       "        vertical-align: top;\n",
       "    }\n",
       "\n",
       "    .dataframe thead th {\n",
       "        text-align: right;\n",
       "    }\n",
       "</style>\n",
       "<table border=\"1\" class=\"dataframe\">\n",
       "  <thead>\n",
       "    <tr style=\"text-align: right;\">\n",
       "      <th></th>\n",
       "      <th>T_EDATE</th>\n",
       "      <th>T_SEX</th>\n",
       "      <th>T_AGE</th>\n",
       "      <th>T_INCOME</th>\n",
       "      <th>T_MARRY</th>\n",
       "      <th>T_HTN</th>\n",
       "      <th>T_HTNAG</th>\n",
       "      <th>T_DM</th>\n",
       "      <th>T_DMAG</th>\n",
       "      <th>T_LIP</th>\n",
       "      <th>...</th>\n",
       "      <th>T_BMI</th>\n",
       "      <th>T_HBA1C</th>\n",
       "      <th>T_GLU0</th>\n",
       "      <th>T_CREATINE</th>\n",
       "      <th>T_AST</th>\n",
       "      <th>T_ALT</th>\n",
       "      <th>T_TCHL</th>\n",
       "      <th>T_HDL</th>\n",
       "      <th>T_LDL</th>\n",
       "      <th>T_TG</th>\n",
       "    </tr>\n",
       "  </thead>\n",
       "  <tbody>\n",
       "    <tr>\n",
       "      <th>0</th>\n",
       "      <td>200802</td>\n",
       "      <td>2</td>\n",
       "      <td>42</td>\n",
       "      <td>99999</td>\n",
       "      <td>99999</td>\n",
       "      <td>1</td>\n",
       "      <td>77777</td>\n",
       "      <td>1</td>\n",
       "      <td>77777</td>\n",
       "      <td>2</td>\n",
       "      <td>...</td>\n",
       "      <td>24</td>\n",
       "      <td>66666</td>\n",
       "      <td>68</td>\n",
       "      <td>0</td>\n",
       "      <td>20</td>\n",
       "      <td>12</td>\n",
       "      <td>172</td>\n",
       "      <td>62</td>\n",
       "      <td>102</td>\n",
       "      <td>38</td>\n",
       "    </tr>\n",
       "    <tr>\n",
       "      <th>1</th>\n",
       "      <td>200306</td>\n",
       "      <td>2</td>\n",
       "      <td>58</td>\n",
       "      <td>1</td>\n",
       "      <td>2</td>\n",
       "      <td>2</td>\n",
       "      <td>50</td>\n",
       "      <td>1</td>\n",
       "      <td>77777</td>\n",
       "      <td>1</td>\n",
       "      <td>...</td>\n",
       "      <td>26</td>\n",
       "      <td>66666</td>\n",
       "      <td>86</td>\n",
       "      <td>0</td>\n",
       "      <td>17</td>\n",
       "      <td>13</td>\n",
       "      <td>197</td>\n",
       "      <td>62</td>\n",
       "      <td>119</td>\n",
       "      <td>79</td>\n",
       "    </tr>\n",
       "    <tr>\n",
       "      <th>2</th>\n",
       "      <td>201108</td>\n",
       "      <td>2</td>\n",
       "      <td>60</td>\n",
       "      <td>99999</td>\n",
       "      <td>2</td>\n",
       "      <td>2</td>\n",
       "      <td>50</td>\n",
       "      <td>1</td>\n",
       "      <td>77777</td>\n",
       "      <td>2</td>\n",
       "      <td>...</td>\n",
       "      <td>23</td>\n",
       "      <td>66666</td>\n",
       "      <td>86</td>\n",
       "      <td>0</td>\n",
       "      <td>39</td>\n",
       "      <td>53</td>\n",
       "      <td>156</td>\n",
       "      <td>46</td>\n",
       "      <td>88</td>\n",
       "      <td>112</td>\n",
       "    </tr>\n",
       "    <tr>\n",
       "      <th>3</th>\n",
       "      <td>201004</td>\n",
       "      <td>2</td>\n",
       "      <td>73</td>\n",
       "      <td>1</td>\n",
       "      <td>5</td>\n",
       "      <td>2</td>\n",
       "      <td>63</td>\n",
       "      <td>1</td>\n",
       "      <td>77777</td>\n",
       "      <td>1</td>\n",
       "      <td>...</td>\n",
       "      <td>27</td>\n",
       "      <td>66666</td>\n",
       "      <td>108</td>\n",
       "      <td>0</td>\n",
       "      <td>16</td>\n",
       "      <td>28</td>\n",
       "      <td>170</td>\n",
       "      <td>39</td>\n",
       "      <td>109</td>\n",
       "      <td>109</td>\n",
       "    </tr>\n",
       "    <tr>\n",
       "      <th>4</th>\n",
       "      <td>200410</td>\n",
       "      <td>2</td>\n",
       "      <td>59</td>\n",
       "      <td>2</td>\n",
       "      <td>2</td>\n",
       "      <td>1</td>\n",
       "      <td>77777</td>\n",
       "      <td>1</td>\n",
       "      <td>77777</td>\n",
       "      <td>1</td>\n",
       "      <td>...</td>\n",
       "      <td>27</td>\n",
       "      <td>66666</td>\n",
       "      <td>91</td>\n",
       "      <td>0</td>\n",
       "      <td>18</td>\n",
       "      <td>13</td>\n",
       "      <td>178</td>\n",
       "      <td>65</td>\n",
       "      <td>103</td>\n",
       "      <td>52</td>\n",
       "    </tr>\n",
       "  </tbody>\n",
       "</table>\n",
       "<p>5 rows × 59 columns</p>\n",
       "</div>"
      ],
      "text/plain": [
       "   T_EDATE  T_SEX  T_AGE  T_INCOME  T_MARRY  T_HTN  T_HTNAG  T_DM  T_DMAG  \\\n",
       "0   200802      2     42     99999    99999      1    77777     1   77777   \n",
       "1   200306      2     58         1        2      2       50     1   77777   \n",
       "2   201108      2     60     99999        2      2       50     1   77777   \n",
       "3   201004      2     73         1        5      2       63     1   77777   \n",
       "4   200410      2     59         2        2      1    77777     1   77777   \n",
       "\n",
       "   T_LIP  ...  T_BMI  T_HBA1C  T_GLU0  T_CREATINE  T_AST  T_ALT  T_TCHL  \\\n",
       "0      2  ...     24    66666      68           0     20     12     172   \n",
       "1      1  ...     26    66666      86           0     17     13     197   \n",
       "2      2  ...     23    66666      86           0     39     53     156   \n",
       "3      1  ...     27    66666     108           0     16     28     170   \n",
       "4      1  ...     27    66666      91           0     18     13     178   \n",
       "\n",
       "   T_HDL  T_LDL  T_TG  \n",
       "0     62    102    38  \n",
       "1     62    119    79  \n",
       "2     46     88   112  \n",
       "3     39    109   109  \n",
       "4     65    103    52  \n",
       "\n",
       "[5 rows x 59 columns]"
      ]
     },
     "execution_count": 22,
     "metadata": {},
     "output_type": "execute_result"
    }
   ],
   "source": [
    "data1.head()"
   ]
  },
  {
   "cell_type": "code",
   "execution_count": 23,
   "id": "76ecfe97",
   "metadata": {
    "ExecuteTime": {
     "end_time": "2021-12-16T03:29:36.251617Z",
     "start_time": "2021-12-16T03:29:36.239567Z"
    }
   },
   "outputs": [
    {
     "data": {
      "text/plain": [
       "(10000, 59)"
      ]
     },
     "execution_count": 23,
     "metadata": {},
     "output_type": "execute_result"
    }
   ],
   "source": [
    "data1.shape"
   ]
  },
  {
   "cell_type": "code",
   "execution_count": 24,
   "id": "8e00218d",
   "metadata": {
    "ExecuteTime": {
     "end_time": "2021-12-16T03:29:36.878261Z",
     "start_time": "2021-12-16T03:29:36.869016Z"
    }
   },
   "outputs": [
    {
     "data": {
      "text/plain": [
       "(59, 59)"
      ]
     },
     "execution_count": 24,
     "metadata": {},
     "output_type": "execute_result"
    }
   ],
   "source": [
    "len(categori_cols) + len(continous_cols),len(data1.columns)"
   ]
  },
  {
   "cell_type": "markdown",
   "id": "74e1adce",
   "metadata": {},
   "source": [
    "## 척도별 결측치 채우기"
   ]
  },
  {
   "cell_type": "markdown",
   "id": "a0e97f40",
   "metadata": {},
   "source": [
    "- 범주형 변수 -> 최빈값(mode)으로 결측치 채우기\n",
    "- ordialTrue == 1 : 순서형\n",
    "    - OrdinalEncoding  : (숫자형 : 방치) / (object형 : LabelEncoding)\n",
    "- ordialTrue == 0 : 명목형\n",
    "    - OneHotEncoder"
   ]
  },
  {
   "cell_type": "code",
   "execution_count": 25,
   "id": "9367a20d",
   "metadata": {
    "ExecuteTime": {
     "end_time": "2021-12-16T03:29:45.534462Z",
     "start_time": "2021-12-16T03:29:45.339486Z"
    }
   },
   "outputs": [],
   "source": [
    "from sklearn.impute import SimpleImputer"
   ]
  },
  {
   "cell_type": "markdown",
   "id": "3a493eb2",
   "metadata": {},
   "source": [
    "### 의미상 결측치 -> None 으로 대체!"
   ]
  },
  {
   "cell_type": "markdown",
   "id": "95863e2f",
   "metadata": {},
   "source": [
    "'미상/무응답’, ‘설문 문항 간의 상·하위 관계(해당없음)’, ‘해당변수의 조사유무\n",
    "(조사안함)"
   ]
  },
  {
   "cell_type": "markdown",
   "id": "e55afa68",
   "metadata": {},
   "source": [
    "- 66666: (조사안함)특정 조사단위에 조사되지 않은 항목의 경우; \n",
    "- 77777: 조사항목에 대해 응답의 대상이 아닌 경우 ; \n",
    "- 99999: 미상/무응답"
   ]
  },
  {
   "cell_type": "markdown",
   "id": "275fcbb7",
   "metadata": {},
   "source": [
    "### 해당없음(77777) -> 0으로 채우기"
   ]
  },
  {
   "cell_type": "markdown",
   "id": "52fbb16e",
   "metadata": {},
   "source": [
    "- 귀하는 병·의원에서 의사로부터 고혈압으로 진단받은 적이 있습니까?\n",
    "    - 있으면 7-1번으로\n",
    "    - 없으면 8번으로\n",
    "    "
   ]
  },
  {
   "cell_type": "code",
   "execution_count": 26,
   "id": "f7f688c0",
   "metadata": {
    "ExecuteTime": {
     "end_time": "2021-12-16T03:29:49.412696Z",
     "start_time": "2021-12-16T03:29:49.391633Z"
    }
   },
   "outputs": [],
   "source": [
    "data1.replace(dict.fromkeys([77777.0],0),inplace=True)\n",
    "data1.replace(dict.fromkeys([77777],0),inplace=True)"
   ]
  },
  {
   "cell_type": "markdown",
   "id": "42a2f74d",
   "metadata": {},
   "source": [
    "### 나머지([66666.0,66666,55555.0,55555,99999.0,99999]) -> None"
   ]
  },
  {
   "cell_type": "code",
   "execution_count": 28,
   "id": "433edef9",
   "metadata": {
    "ExecuteTime": {
     "end_time": "2021-12-16T03:30:05.198166Z",
     "start_time": "2021-12-16T03:30:05.128167Z"
    }
   },
   "outputs": [],
   "source": [
    "base_na = data1.replace(dict.fromkeys([66666.0,66666,55555.0,55555,99999.0,99999],None))"
   ]
  },
  {
   "cell_type": "code",
   "execution_count": 53,
   "id": "5a78b83a",
   "metadata": {
    "ExecuteTime": {
     "end_time": "2021-12-16T03:20:22.299523Z",
     "start_time": "2021-12-16T03:20:22.289521Z"
    }
   },
   "outputs": [],
   "source": [
    "import missingno as msno"
   ]
  },
  {
   "cell_type": "code",
   "execution_count": 55,
   "id": "13bc913f",
   "metadata": {
    "ExecuteTime": {
     "end_time": "2021-12-16T03:20:38.483121Z",
     "start_time": "2021-12-16T03:20:38.205845Z"
    }
   },
   "outputs": [
    {
     "data": {
      "text/plain": [
       "<AxesSubplot:>"
      ]
     },
     "execution_count": 55,
     "metadata": {},
     "output_type": "execute_result"
    },
    {
     "data": {
      "image/png": "[encoded data removed]",
      "text/plain": [
       "<Figure size 1800x720 with 2 Axes>"
      ]
     },
     "metadata": {
      "needs_background": "light"
     },
     "output_type": "display_data"
    }
   ],
   "source": [
    "msno.matrix(base_na)"
   ]
  },
  {
   "cell_type": "code",
   "execution_count": 83,
   "id": "73eb3fdd",
   "metadata": {
    "ExecuteTime": {
     "end_time": "2021-12-16T03:24:42.371361Z",
     "start_time": "2021-12-16T03:24:42.353368Z"
    }
   },
   "outputs": [
    {
     "data": {
      "text/plain": [
       "T_HBA1C     6235\n",
       "T_SMDUMO    4781\n",
       "T_INCOME    2012\n",
       "T_PACKYR    1289\n",
       "T_PULSE      445\n",
       "dtype: int64"
      ]
     },
     "execution_count": 83,
     "metadata": {},
     "output_type": "execute_result"
    }
   ],
   "source": [
    "nasort = base_na.isna().sum().argsort()[::-1]\n",
    "base_na.isna().sum()[nasort].head()"
   ]
  },
  {
   "cell_type": "code",
   "execution_count": 52,
   "id": "c35d61f5",
   "metadata": {
    "ExecuteTime": {
     "end_time": "2021-12-16T03:19:52.674398Z",
     "start_time": "2021-12-16T03:19:52.663293Z"
    }
   },
   "outputs": [
    {
     "data": {
      "text/plain": [
       "[0.6235, 0.4781, 0.2012, 0.1289, 0.0445]"
      ]
     },
     "execution_count": 52,
     "metadata": {},
     "output_type": "execute_result"
    }
   ],
   "source": [
    "sorted(base_na.isna().sum() / 10000,reverse=True)[:5]"
   ]
  },
  {
   "cell_type": "code",
   "execution_count": 28,
   "id": "7aa653d1",
   "metadata": {
    "ExecuteTime": {
     "end_time": "2021-12-16T03:07:29.414943Z",
     "start_time": "2021-12-16T03:07:29.401943Z"
    }
   },
   "outputs": [
    {
     "data": {
      "text/plain": [
       "18951"
      ]
     },
     "execution_count": 28,
     "metadata": {},
     "output_type": "execute_result"
    }
   ],
   "source": [
    "base_na.isnull().sum().sum()"
   ]
  },
  {
   "cell_type": "code",
   "execution_count": null,
   "id": "0be7ed57",
   "metadata": {},
   "outputs": [],
   "source": [
    "base_na[\"T_BEERAM\"].value_counts()"
   ]
  },
  {
   "cell_type": "markdown",
   "id": "77b5fac2",
   "metadata": {},
   "source": [
    "### 결측치 채우기 - Imputer"
   ]
  },
  {
   "cell_type": "markdown",
   "id": "1969e60d",
   "metadata": {},
   "source": [
    "극단값이 많은 의료 데이터 셋이므로\n",
    "- 숫자형 변수 : 중앙값으로 대체\n",
    "- 범주형 변수 : 최빈값으로 대체"
   ]
  },
  {
   "cell_type": "code",
   "execution_count": 86,
   "id": "0ed87c03",
   "metadata": {
    "ExecuteTime": {
     "end_time": "2021-12-16T03:26:39.239788Z",
     "start_time": "2021-12-16T03:26:39.188665Z"
    }
   },
   "outputs": [
    {
     "data": {
      "text/plain": [
       "0"
      ]
     },
     "execution_count": 86,
     "metadata": {},
     "output_type": "execute_result"
    }
   ],
   "source": [
    "imputers = []\n",
    "for col in base_na.columns:\n",
    "    if col in categori_cols.to_list():\n",
    "        imputer = SimpleImputer(strategy=\"most_frequent\") \n",
    "    elif col in continous_cols:\n",
    "        imputer = SimpleImputer(strategy=\"median\")               \n",
    "    else : pass\n",
    "    imputer.fit(base_na[col].values.reshape(-1,1))\n",
    "    base_na[col] = imputer.transform(base_na[col].values.reshape(-1,1))\n",
    "    imputers.append(imputer)\n",
    "base_na.isna().sum().sum()"
   ]
  },
  {
   "cell_type": "code",
   "execution_count": 87,
   "id": "861c6479",
   "metadata": {
    "ExecuteTime": {
     "end_time": "2021-12-16T03:27:08.889136Z",
     "start_time": "2021-12-16T03:27:08.878776Z"
    }
   },
   "outputs": [
    {
     "data": {
      "text/plain": [
       "0.0     7982\n",
       "2.0      671\n",
       "1.0      353\n",
       "3.0      327\n",
       "5.0      321\n",
       "4.0       94\n",
       "10.0      68\n",
       "7.0       54\n",
       "6.0       43\n",
       "8.0       25\n",
       "Name: T_BEERAM, dtype: int64"
      ]
     },
     "execution_count": 87,
     "metadata": {},
     "output_type": "execute_result"
    }
   ],
   "source": [
    "base_na[\"T_BEERAM\"].value_counts().head(10)"
   ]
  },
  {
   "cell_type": "code",
   "execution_count": 88,
   "id": "980d8a7d",
   "metadata": {
    "ExecuteTime": {
     "end_time": "2021-12-16T03:27:18.148315Z",
     "start_time": "2021-12-16T03:27:18.138253Z"
    }
   },
   "outputs": [
    {
     "data": {
      "text/plain": [
       "5.0     9167\n",
       "6.0      520\n",
       "4.0      118\n",
       "7.0      109\n",
       "8.0       45\n",
       "9.0       16\n",
       "10.0      10\n",
       "11.0       6\n",
       "3.0        4\n",
       "13.0       3\n",
       "Name: T_HBA1C, dtype: int64"
      ]
     },
     "execution_count": 88,
     "metadata": {},
     "output_type": "execute_result"
    }
   ],
   "source": [
    "base_na[\"T_HBA1C\"].value_counts().head(10)"
   ]
  },
  {
   "cell_type": "code",
   "execution_count": 89,
   "id": "c234bd31",
   "metadata": {
    "ExecuteTime": {
     "end_time": "2021-12-16T03:27:42.066945Z",
     "start_time": "2021-12-16T03:27:42.056959Z"
    }
   },
   "outputs": [
    {
     "data": {
      "text/plain": [
       "0.0     9933\n",
       "6.0       21\n",
       "10.0       8\n",
       "5.0        6\n",
       "11.0       6\n",
       "7.0        5\n",
       "1.0        5\n",
       "2.0        4\n",
       "9.0        4\n",
       "4.0        3\n",
       "Name: T_SMDUMO, dtype: int64"
      ]
     },
     "execution_count": 89,
     "metadata": {},
     "output_type": "execute_result"
    }
   ],
   "source": [
    "base_na[\"T_SMDUMO\"].value_counts().head(10)"
   ]
  },
  {
   "cell_type": "markdown",
   "id": "6b1127a2",
   "metadata": {},
   "source": [
    "## 순서형 변수 인코딩"
   ]
  },
  {
   "cell_type": "code",
   "execution_count": 152,
   "id": "f3e89a97",
   "metadata": {
    "ExecuteTime": {
     "end_time": "2021-12-16T03:04:53.023755Z",
     "start_time": "2021-12-16T03:04:53.009699Z"
    }
   },
   "outputs": [],
   "source": [
    "from sklearn.preprocessing import LabelEncoder, OneHotEncoder, OrdinalEncoder"
   ]
  },
  {
   "cell_type": "markdown",
   "id": "f5fccbf7",
   "metadata": {},
   "source": [
    "- 이미 순서의 의미를 갖으므로 pass / 1=5년이하,\n",
    "2=6-10년,\n",
    "3=11-20년,\n",
    "4=21년 이상\n"
   ]
  },
  {
   "cell_type": "code",
   "execution_count": 153,
   "id": "d3e34e8f",
   "metadata": {
    "ExecuteTime": {
     "end_time": "2021-12-16T03:04:58.494596Z",
     "start_time": "2021-12-16T03:04:58.478548Z"
    }
   },
   "outputs": [
    {
     "data": {
      "text/plain": [
       "연속형    36\n",
       "범주형    24\n",
       "Name: coltype, dtype: int64"
      ]
     },
     "execution_count": 153,
     "metadata": {},
     "output_type": "execute_result"
    }
   ],
   "source": [
    "base_cols[\"coltype\"].value_counts()"
   ]
  },
  {
   "cell_type": "code",
   "execution_count": 157,
   "id": "d6cba441",
   "metadata": {
    "ExecuteTime": {
     "end_time": "2021-12-16T03:06:42.214620Z",
     "start_time": "2021-12-16T03:06:42.202577Z"
    }
   },
   "outputs": [],
   "source": [
    "# fig = plt.figure(figsize = (30, 30))\n",
    "# sns.pairplot(base_na[start_cols])\n",
    "# plt.show()"
   ]
  },
  {
   "cell_type": "code",
   "execution_count": null,
   "id": "97ca5e3f",
   "metadata": {},
   "outputs": [],
   "source": [
    "break MICE"
   ]
  },
  {
   "cell_type": "markdown",
   "id": "7d7437fc",
   "metadata": {},
   "source": [
    "# 결측치 채우기 - MICE"
   ]
  },
  {
   "cell_type": "code",
   "execution_count": 29,
   "id": "a0754963",
   "metadata": {
    "ExecuteTime": {
     "end_time": "2021-12-16T03:30:13.484018Z",
     "start_time": "2021-12-16T03:30:13.467972Z"
    }
   },
   "outputs": [],
   "source": [
    "input_df = base_na[start_cols]\n",
    "input_df[\"T_DM\"].replace({1.0 : 0},inplace=True)\n",
    "input_df[\"T_DM\"].replace({2.0 : 1},inplace=True)\n",
    "mice_df_na = copy.deepcopy(input_df)"
   ]
  },
  {
   "cell_type": "code",
   "execution_count": 30,
   "id": "719c75db",
   "metadata": {
    "ExecuteTime": {
     "end_time": "2021-12-16T03:30:14.353839Z",
     "start_time": "2021-12-16T03:30:14.341796Z"
    }
   },
   "outputs": [
    {
     "data": {
      "text/plain": [
       "0.0    9269\n",
       "1.0     712\n",
       "Name: T_DM, dtype: int64"
      ]
     },
     "execution_count": 30,
     "metadata": {},
     "output_type": "execute_result"
    }
   ],
   "source": [
    "input_df[\"T_DM\"].value_counts()"
   ]
  },
  {
   "cell_type": "code",
   "execution_count": 31,
   "id": "5579d843",
   "metadata": {
    "ExecuteTime": {
     "end_time": "2021-12-16T03:30:21.100417Z",
     "start_time": "2021-12-16T03:30:21.095422Z"
    }
   },
   "outputs": [
    {
     "data": {
      "text/plain": [
       "(10000, 28)"
      ]
     },
     "execution_count": 31,
     "metadata": {},
     "output_type": "execute_result"
    }
   ],
   "source": [
    "# 변환전\n",
    "mice_df_na.shape"
   ]
  },
  {
   "cell_type": "code",
   "execution_count": 32,
   "id": "a4bd854b",
   "metadata": {
    "ExecuteTime": {
     "end_time": "2021-12-16T03:30:22.009638Z",
     "start_time": "2021-12-16T03:30:21.993595Z"
    }
   },
   "outputs": [
    {
     "data": {
      "text/plain": [
       "8677"
      ]
     },
     "execution_count": 32,
     "metadata": {},
     "output_type": "execute_result"
    }
   ],
   "source": [
    "mice_df_na.isnull().sum().sum()"
   ]
  },
  {
   "cell_type": "code",
   "execution_count": 33,
   "id": "8b12bea8",
   "metadata": {
    "ExecuteTime": {
     "end_time": "2021-12-16T03:31:47.094468Z",
     "start_time": "2021-12-16T03:30:33.059644Z"
    }
   },
   "outputs": [],
   "source": [
    "#변환\n",
    "from impyute.imputation.cs import mice\n",
    "np_imputed=mice(mice_df_na.values) # mice 학습시작"
   ]
  },
  {
   "cell_type": "code",
   "execution_count": 34,
   "id": "48178296",
   "metadata": {
    "ExecuteTime": {
     "end_time": "2021-12-16T03:31:47.110448Z",
     "start_time": "2021-12-16T03:31:47.094468Z"
    }
   },
   "outputs": [
    {
     "data": {
      "text/plain": [
       "(10000, 28)"
      ]
     },
     "execution_count": 34,
     "metadata": {},
     "output_type": "execute_result"
    }
   ],
   "source": [
    "np_imputed.shape"
   ]
  },
  {
   "cell_type": "code",
   "execution_count": 35,
   "id": "75329195",
   "metadata": {
    "ExecuteTime": {
     "end_time": "2021-12-16T03:31:47.129203Z",
     "start_time": "2021-12-16T03:31:47.111449Z"
    }
   },
   "outputs": [],
   "source": [
    "df_imputed = pd.DataFrame(np_imputed,columns=mice_df_na.columns)"
   ]
  },
  {
   "cell_type": "code",
   "execution_count": 36,
   "id": "71b57787",
   "metadata": {
    "ExecuteTime": {
     "end_time": "2021-12-16T03:31:47.144202Z",
     "start_time": "2021-12-16T03:31:47.132201Z"
    }
   },
   "outputs": [
    {
     "data": {
      "text/plain": [
       "0"
      ]
     },
     "execution_count": 36,
     "metadata": {},
     "output_type": "execute_result"
    }
   ],
   "source": [
    "df_imputed.isnull().sum().sum()"
   ]
  },
  {
   "cell_type": "code",
   "execution_count": 37,
   "id": "fe380c70",
   "metadata": {
    "ExecuteTime": {
     "end_time": "2021-12-16T03:31:47.175994Z",
     "start_time": "2021-12-16T03:31:47.145202Z"
    }
   },
   "outputs": [
    {
     "data": {
      "text/html": [
       "<div>\n",
       "<style scoped>\n",
       "    .dataframe tbody tr th:only-of-type {\n",
       "        vertical-align: middle;\n",
       "    }\n",
       "\n",
       "    .dataframe tbody tr th {\n",
       "        vertical-align: top;\n",
       "    }\n",
       "\n",
       "    .dataframe thead th {\n",
       "        text-align: right;\n",
       "    }\n",
       "</style>\n",
       "<table border=\"1\" class=\"dataframe\">\n",
       "  <thead>\n",
       "    <tr style=\"text-align: right;\">\n",
       "      <th></th>\n",
       "      <th>T_AGE</th>\n",
       "      <th>T_INCOME</th>\n",
       "      <th>T_MARRY</th>\n",
       "      <th>T_HEIGHT</th>\n",
       "      <th>T_WEIGHT</th>\n",
       "      <th>T_BMI</th>\n",
       "      <th>T_DM</th>\n",
       "      <th>T_GLU0</th>\n",
       "      <th>T_DRINK</th>\n",
       "      <th>T_DRDU</th>\n",
       "      <th>...</th>\n",
       "      <th>T_BEERFQ</th>\n",
       "      <th>T_BEERAM</th>\n",
       "      <th>T_HLIQFQ</th>\n",
       "      <th>T_HLIQAM</th>\n",
       "      <th>T_SMOKE</th>\n",
       "      <th>T_SMDUYR</th>\n",
       "      <th>T_SMDUMO</th>\n",
       "      <th>T_SMAM</th>\n",
       "      <th>T_PSM</th>\n",
       "      <th>T_EXER</th>\n",
       "    </tr>\n",
       "  </thead>\n",
       "  <tbody>\n",
       "    <tr>\n",
       "      <th>0</th>\n",
       "      <td>42.0</td>\n",
       "      <td>6.387132</td>\n",
       "      <td>1.893766</td>\n",
       "      <td>164.0</td>\n",
       "      <td>64.0</td>\n",
       "      <td>24.0</td>\n",
       "      <td>0.0</td>\n",
       "      <td>68.0</td>\n",
       "      <td>1.0</td>\n",
       "      <td>0.0</td>\n",
       "      <td>...</td>\n",
       "      <td>0.0</td>\n",
       "      <td>0.0</td>\n",
       "      <td>0.0</td>\n",
       "      <td>0.0</td>\n",
       "      <td>1.0</td>\n",
       "      <td>0.0</td>\n",
       "      <td>-0.033757</td>\n",
       "      <td>0.0</td>\n",
       "      <td>1.0</td>\n",
       "      <td>2.0</td>\n",
       "    </tr>\n",
       "    <tr>\n",
       "      <th>1</th>\n",
       "      <td>58.0</td>\n",
       "      <td>1.000000</td>\n",
       "      <td>2.000000</td>\n",
       "      <td>156.0</td>\n",
       "      <td>64.0</td>\n",
       "      <td>26.0</td>\n",
       "      <td>0.0</td>\n",
       "      <td>86.0</td>\n",
       "      <td>2.0</td>\n",
       "      <td>3.0</td>\n",
       "      <td>...</td>\n",
       "      <td>0.0</td>\n",
       "      <td>0.0</td>\n",
       "      <td>0.0</td>\n",
       "      <td>0.0</td>\n",
       "      <td>1.0</td>\n",
       "      <td>0.0</td>\n",
       "      <td>0.098561</td>\n",
       "      <td>0.0</td>\n",
       "      <td>2.0</td>\n",
       "      <td>1.0</td>\n",
       "    </tr>\n",
       "    <tr>\n",
       "      <th>2</th>\n",
       "      <td>60.0</td>\n",
       "      <td>4.376298</td>\n",
       "      <td>2.000000</td>\n",
       "      <td>154.0</td>\n",
       "      <td>54.0</td>\n",
       "      <td>23.0</td>\n",
       "      <td>0.0</td>\n",
       "      <td>86.0</td>\n",
       "      <td>1.0</td>\n",
       "      <td>0.0</td>\n",
       "      <td>...</td>\n",
       "      <td>0.0</td>\n",
       "      <td>0.0</td>\n",
       "      <td>0.0</td>\n",
       "      <td>0.0</td>\n",
       "      <td>1.0</td>\n",
       "      <td>0.0</td>\n",
       "      <td>0.000000</td>\n",
       "      <td>0.0</td>\n",
       "      <td>1.0</td>\n",
       "      <td>2.0</td>\n",
       "    </tr>\n",
       "    <tr>\n",
       "      <th>3</th>\n",
       "      <td>73.0</td>\n",
       "      <td>1.000000</td>\n",
       "      <td>5.000000</td>\n",
       "      <td>143.0</td>\n",
       "      <td>55.0</td>\n",
       "      <td>27.0</td>\n",
       "      <td>0.0</td>\n",
       "      <td>108.0</td>\n",
       "      <td>1.0</td>\n",
       "      <td>0.0</td>\n",
       "      <td>...</td>\n",
       "      <td>0.0</td>\n",
       "      <td>0.0</td>\n",
       "      <td>0.0</td>\n",
       "      <td>0.0</td>\n",
       "      <td>1.0</td>\n",
       "      <td>0.0</td>\n",
       "      <td>0.000000</td>\n",
       "      <td>0.0</td>\n",
       "      <td>1.0</td>\n",
       "      <td>2.0</td>\n",
       "    </tr>\n",
       "    <tr>\n",
       "      <th>4</th>\n",
       "      <td>59.0</td>\n",
       "      <td>2.000000</td>\n",
       "      <td>2.000000</td>\n",
       "      <td>150.0</td>\n",
       "      <td>60.0</td>\n",
       "      <td>27.0</td>\n",
       "      <td>0.0</td>\n",
       "      <td>91.0</td>\n",
       "      <td>1.0</td>\n",
       "      <td>0.0</td>\n",
       "      <td>...</td>\n",
       "      <td>0.0</td>\n",
       "      <td>0.0</td>\n",
       "      <td>0.0</td>\n",
       "      <td>0.0</td>\n",
       "      <td>1.0</td>\n",
       "      <td>0.0</td>\n",
       "      <td>0.000000</td>\n",
       "      <td>0.0</td>\n",
       "      <td>1.0</td>\n",
       "      <td>1.0</td>\n",
       "    </tr>\n",
       "  </tbody>\n",
       "</table>\n",
       "<p>5 rows × 28 columns</p>\n",
       "</div>"
      ],
      "text/plain": [
       "   T_AGE  T_INCOME   T_MARRY  T_HEIGHT  T_WEIGHT  T_BMI  T_DM  T_GLU0  \\\n",
       "0   42.0  6.387132  1.893766     164.0      64.0   24.0   0.0    68.0   \n",
       "1   58.0  1.000000  2.000000     156.0      64.0   26.0   0.0    86.0   \n",
       "2   60.0  4.376298  2.000000     154.0      54.0   23.0   0.0    86.0   \n",
       "3   73.0  1.000000  5.000000     143.0      55.0   27.0   0.0   108.0   \n",
       "4   59.0  2.000000  2.000000     150.0      60.0   27.0   0.0    91.0   \n",
       "\n",
       "   T_DRINK  T_DRDU  ...  T_BEERFQ  T_BEERAM  T_HLIQFQ  T_HLIQAM  T_SMOKE  \\\n",
       "0      1.0     0.0  ...       0.0       0.0       0.0       0.0      1.0   \n",
       "1      2.0     3.0  ...       0.0       0.0       0.0       0.0      1.0   \n",
       "2      1.0     0.0  ...       0.0       0.0       0.0       0.0      1.0   \n",
       "3      1.0     0.0  ...       0.0       0.0       0.0       0.0      1.0   \n",
       "4      1.0     0.0  ...       0.0       0.0       0.0       0.0      1.0   \n",
       "\n",
       "   T_SMDUYR  T_SMDUMO  T_SMAM  T_PSM  T_EXER  \n",
       "0       0.0 -0.033757     0.0    1.0     2.0  \n",
       "1       0.0  0.098561     0.0    2.0     1.0  \n",
       "2       0.0  0.000000     0.0    1.0     2.0  \n",
       "3       0.0  0.000000     0.0    1.0     2.0  \n",
       "4       0.0  0.000000     0.0    1.0     1.0  \n",
       "\n",
       "[5 rows x 28 columns]"
      ]
     },
     "execution_count": 37,
     "metadata": {},
     "output_type": "execute_result"
    }
   ],
   "source": [
    "df_imputed.head()"
   ]
  },
  {
   "cell_type": "code",
   "execution_count": null,
   "id": "6deccac3",
   "metadata": {
    "ExecuteTime": {
     "end_time": "2021-12-16T02:17:07.114466Z",
     "start_time": "2021-12-16T02:17:07.114466Z"
    }
   },
   "outputs": [],
   "source": [
    "# fig = plt.figure(figsize = (30, 30))\n",
    "# sns.pairplot(df_imputed)\n",
    "# plt.show()"
   ]
  },
  {
   "cell_type": "markdown",
   "id": "4f225471",
   "metadata": {},
   "source": [
    "### MICE 결측치 처리 결과 검증"
   ]
  },
  {
   "cell_type": "code",
   "execution_count": null,
   "id": "3e7b56ac",
   "metadata": {
    "ExecuteTime": {
     "end_time": "2021-12-16T02:17:07.115468Z",
     "start_time": "2021-12-16T02:17:07.115468Z"
    }
   },
   "outputs": [],
   "source": [
    "# input_df.hist(figsize = (20,20))\n",
    "# plt.show()"
   ]
  },
  {
   "cell_type": "code",
   "execution_count": null,
   "id": "92e59abd",
   "metadata": {
    "ExecuteTime": {
     "end_time": "2021-12-16T02:17:07.116467Z",
     "start_time": "2021-12-16T02:17:07.116467Z"
    }
   },
   "outputs": [],
   "source": [
    "# df_imputed.hist(figsize = (20,20))\n",
    "# plt.show()"
   ]
  },
  {
   "cell_type": "code",
   "execution_count": 44,
   "id": "7b3ef1c1",
   "metadata": {
    "ExecuteTime": {
     "end_time": "2021-12-16T03:34:25.737670Z",
     "start_time": "2021-12-16T03:34:25.725613Z"
    }
   },
   "outputs": [
    {
     "data": {
      "text/plain": [
       " 0.000000     9892\n",
       " 1.000000       17\n",
       " 2.000000       17\n",
       " 3.000000       14\n",
       " 5.000000       10\n",
       " 10.000000       9\n",
       " 7.000000        7\n",
       " 6.000000        5\n",
       " 4.000000        3\n",
       " 12.000000       2\n",
       " 15.000000       2\n",
       " 0.157417        1\n",
       " 0.057888        1\n",
       " 2.012158        1\n",
       " 0.029938        1\n",
       " 0.009043        1\n",
       "-0.003539        1\n",
       " 6.021441        1\n",
       " 0.030108        1\n",
       " 2.041639        1\n",
       "-0.036365        1\n",
       " 0.018876        1\n",
       " 0.138639        1\n",
       " 2.047351        1\n",
       " 14.000000       1\n",
       " 2.048418        1\n",
       " 2.221227        1\n",
       " 0.025938        1\n",
       " 0.186613        1\n",
       " 1.965153        1\n",
       " 2.200577        1\n",
       " 2.059903        1\n",
       " 0.024484        1\n",
       "Name: T_RICEAM, dtype: int64"
      ]
     },
     "execution_count": 44,
     "metadata": {},
     "output_type": "execute_result"
    }
   ],
   "source": [
    "# 정종 1회 음주량\n",
    "df_imputed[\"T_RICEAM\"].value_counts() "
   ]
  },
  {
   "cell_type": "markdown",
   "id": "51fa18ba",
   "metadata": {},
   "source": [
    "#### 음수 => 0으로 처리"
   ]
  },
  {
   "cell_type": "code",
   "execution_count": 45,
   "id": "cc87ec9a",
   "metadata": {
    "ExecuteTime": {
     "end_time": "2021-12-16T03:35:01.057321Z",
     "start_time": "2021-12-16T03:35:01.034142Z"
    }
   },
   "outputs": [],
   "source": [
    "for col in df_imputed:\n",
    "    df_imputed[df_imputed[col] < 0] = 0 "
   ]
  },
  {
   "cell_type": "markdown",
   "id": "c02ac28c",
   "metadata": {},
   "source": [
    "#### Target class T_DM 확인"
   ]
  },
  {
   "cell_type": "code",
   "execution_count": 46,
   "id": "689ab503",
   "metadata": {
    "ExecuteTime": {
     "end_time": "2021-12-16T03:35:11.796434Z",
     "start_time": "2021-12-16T03:35:11.769238Z"
    }
   },
   "outputs": [
    {
     "data": {
      "text/plain": [
       "0.000000    9277\n",
       "1.000000     707\n",
       "0.174930       1\n",
       "0.115011       1\n",
       "0.123111       1\n",
       "0.056079       1\n",
       "0.072344       1\n",
       "0.075040       1\n",
       "0.094938       1\n",
       "0.054535       1\n",
       "0.087259       1\n",
       "0.077637       1\n",
       "0.028140       1\n",
       "0.758691       1\n",
       "0.031687       1\n",
       "0.063833       1\n",
       "0.100733       1\n",
       "0.035835       1\n",
       "Name: T_DM, dtype: int64"
      ]
     },
     "execution_count": 46,
     "metadata": {},
     "output_type": "execute_result"
    }
   ],
   "source": [
    "df_imputed[\"T_DM\"].value_counts()"
   ]
  },
  {
   "cell_type": "code",
   "execution_count": 47,
   "id": "646186f2",
   "metadata": {
    "ExecuteTime": {
     "end_time": "2021-12-16T03:35:21.182784Z",
     "start_time": "2021-12-16T03:35:21.162716Z"
    }
   },
   "outputs": [
    {
     "data": {
      "text/plain": [
       "0.0    9269\n",
       "1.0     712\n",
       "Name: T_DM, dtype: int64"
      ]
     },
     "execution_count": 47,
     "metadata": {},
     "output_type": "execute_result"
    }
   ],
   "source": [
    "input_df[\"T_DM\"].value_counts()"
   ]
  },
  {
   "cell_type": "code",
   "execution_count": 48,
   "id": "56a48a81",
   "metadata": {
    "ExecuteTime": {
     "end_time": "2021-12-16T03:35:21.609157Z",
     "start_time": "2021-12-16T03:35:21.597158Z"
    }
   },
   "outputs": [
    {
     "data": {
      "text/plain": [
       "0.000000    9277\n",
       "1.000000     707\n",
       "0.174930       1\n",
       "0.115011       1\n",
       "0.123111       1\n",
       "0.056079       1\n",
       "0.072344       1\n",
       "0.075040       1\n",
       "0.094938       1\n",
       "0.054535       1\n",
       "0.087259       1\n",
       "0.077637       1\n",
       "0.028140       1\n",
       "0.758691       1\n",
       "0.031687       1\n",
       "0.063833       1\n",
       "0.100733       1\n",
       "0.035835       1\n",
       "Name: T_DM, dtype: int64"
      ]
     },
     "execution_count": 48,
     "metadata": {},
     "output_type": "execute_result"
    }
   ],
   "source": [
    "input_df[\"T_DM\"].value_counts()\n",
    "df_imputed[\"T_DM\"].value_counts()"
   ]
  },
  {
   "cell_type": "markdown",
   "id": "a7fd713f",
   "metadata": {},
   "source": [
    "#### 이산형 float64 -> int64"
   ]
  },
  {
   "cell_type": "code",
   "execution_count": 49,
   "id": "e1383892",
   "metadata": {
    "ExecuteTime": {
     "end_time": "2021-12-16T03:35:31.291108Z",
     "start_time": "2021-12-16T03:35:31.275045Z"
    }
   },
   "outputs": [],
   "source": [
    "df_imputed = df_imputed.astype(\"int64\")"
   ]
  },
  {
   "cell_type": "code",
   "execution_count": 50,
   "id": "26c2fdc0",
   "metadata": {
    "ExecuteTime": {
     "end_time": "2021-12-16T03:35:36.909660Z",
     "start_time": "2021-12-16T03:35:36.897884Z"
    }
   },
   "outputs": [],
   "source": [
    "imbalanced_cols = []\n",
    "for col in start_cols.to_list():\n",
    "    if df_imputed[col].value_counts().iloc[0] > 5000:\n",
    "        imbalanced_cols.append(col)"
   ]
  },
  {
   "cell_type": "code",
   "execution_count": 51,
   "id": "6d140e38",
   "metadata": {
    "ExecuteTime": {
     "end_time": "2021-12-16T03:35:37.519073Z",
     "start_time": "2021-12-16T03:35:37.512014Z"
    }
   },
   "outputs": [],
   "source": [
    "balanced_cols = []\n",
    "for col in df_imputed:\n",
    "    if col not in imbalanced_cols:\n",
    "        balanced_cols.append(col)"
   ]
  },
  {
   "cell_type": "code",
   "execution_count": 52,
   "id": "9f2cb49e",
   "metadata": {
    "ExecuteTime": {
     "end_time": "2021-12-16T03:35:40.855975Z",
     "start_time": "2021-12-16T03:35:40.117026Z"
    }
   },
   "outputs": [
    {
     "data": {
      "image/png": "[encoded data removed]",
      "text/plain": [
       "<Figure size 1440x1440 with 9 Axes>"
      ]
     },
     "metadata": {
      "needs_background": "light"
     },
     "output_type": "display_data"
    }
   ],
   "source": [
    "df_imputed[balanced_cols].hist(figsize = (20,20))\n",
    "plt.show()"
   ]
  },
  {
   "cell_type": "code",
   "execution_count": 53,
   "id": "ec449264",
   "metadata": {
    "ExecuteTime": {
     "end_time": "2021-12-16T03:35:44.766397Z",
     "start_time": "2021-12-16T03:35:43.252476Z"
    }
   },
   "outputs": [
    {
     "data": {
      "image/png": "[encoded data removed]",
      "text/plain": [
       "<Figure size 1440x1440 with 20 Axes>"
      ]
     },
     "metadata": {
      "needs_background": "light"
     },
     "output_type": "display_data"
    }
   ],
   "source": [
    "df_imputed[imbalanced_cols].hist(figsize = (20,20))\n",
    "plt.show()"
   ]
  },
  {
   "cell_type": "code",
   "execution_count": null,
   "id": "7512c9ab",
   "metadata": {
    "ExecuteTime": {
     "end_time": "2021-12-16T02:17:07.129469Z",
     "start_time": "2021-12-16T02:17:07.129469Z"
    }
   },
   "outputs": [],
   "source": [
    "df_imputed.to_csv(DATADIR+\"perfect_base.csv\",index=False)"
   ]
  },
  {
   "cell_type": "markdown",
   "id": "b4c7ed1f",
   "metadata": {},
   "source": [
    "# second start point"
   ]
  },
  {
   "cell_type": "markdown",
   "id": "725974e8",
   "metadata": {},
   "source": [
    "### 결측치 처리한 데이터셋 저장"
   ]
  },
  {
   "cell_type": "code",
   "execution_count": 1,
   "id": "fb3a4683",
   "metadata": {
    "ExecuteTime": {
     "end_time": "2021-12-16T05:05:16.180924Z",
     "start_time": "2021-12-16T05:05:14.547974Z"
    }
   },
   "outputs": [
    {
     "name": "stderr",
     "output_type": "stream",
     "text": [
      "Missing colon in file WindowsPath('C:/Users/medici/anaconda3/lib/site-packages/matplotlib/mpl-data/matplotlibrc'), line 409 (' use Unicode for the minus symbol rather than hyphen.  See')\n"
     ]
    }
   ],
   "source": [
    "DATADIR = \"dataset/\"\n",
    "import pandas as pd\n",
    "import numpy as np\n",
    "import matplotlib.pyplot as plt\n",
    "import seaborn as sns\n",
    "import warnings\n",
    "%matplotlib inline\n",
    "warnings.filterwarnings('ignore')"
   ]
  },
  {
   "cell_type": "code",
   "execution_count": 2,
   "id": "045c0e93",
   "metadata": {
    "ExecuteTime": {
     "end_time": "2021-12-16T05:05:17.877845Z",
     "start_time": "2021-12-16T05:05:17.862161Z"
    }
   },
   "outputs": [],
   "source": [
    "import copy"
   ]
  },
  {
   "cell_type": "code",
   "execution_count": 3,
   "id": "f4c5112f",
   "metadata": {
    "ExecuteTime": {
     "end_time": "2021-12-16T05:05:18.301066Z",
     "start_time": "2021-12-16T05:05:18.265793Z"
    }
   },
   "outputs": [],
   "source": [
    "snd_dataset = pd.read_csv(DATADIR+\"perfect_base.csv\")\n",
    "df_imputed = copy.deepcopy(snd_dataset)"
   ]
  },
  {
   "cell_type": "code",
   "execution_count": 4,
   "id": "fa1a260e",
   "metadata": {
    "ExecuteTime": {
     "end_time": "2021-12-16T05:05:18.635408Z",
     "start_time": "2021-12-16T05:05:18.617366Z"
    }
   },
   "outputs": [],
   "source": [
    "base_cols = pd.read_csv(DATADIR+\"base_colnames.csv\")\n",
    "lifestyle_cols = base_cols[base_cols[\"class\"]==\"생활습관\"][\"colnames\"]\n",
    "female_cols = base_cols[base_cols[\"class\"]==\"여성력\"][\"colnames\"]\n",
    "history_cols = base_cols[base_cols[\"class\"]==\"과거력\"][\"colnames\"]\n",
    "family_cols = base_cols[base_cols[\"class\"]==\"가족력\"][\"colnames\"]\n",
    "start_cols = base_cols[(base_cols[\"class\"]==\"기본정보\") | (base_cols[\"class\"]==\"일반정보\")][\"colnames\"]\n",
    "used_cols = pd.Series([\"T_HEIGHT\", \"T_WEIGHT\",\"T_BMI\"])\n",
    "target_cols = pd.Series([\"T_DM\",\"T_GLU0\"])"
   ]
  },
  {
   "cell_type": "code",
   "execution_count": 5,
   "id": "4feacc87",
   "metadata": {
    "ExecuteTime": {
     "end_time": "2021-12-16T05:05:19.173091Z",
     "start_time": "2021-12-16T05:05:19.144656Z"
    }
   },
   "outputs": [
    {
     "data": {
      "text/plain": [
       "30"
      ]
     },
     "execution_count": 5,
     "metadata": {},
     "output_type": "execute_result"
    }
   ],
   "source": [
    "start_cols = start_cols.append([used_cols,target_cols,lifestyle_cols]).reset_index(drop=True)\n",
    "start_cols.drop(index = [0,1],inplace=True) # \"T_ID\", \"T_DATA_CLASS\" drop\n",
    "len(start_cols)"
   ]
  },
  {
   "cell_type": "code",
   "execution_count": 6,
   "id": "cd7f428d",
   "metadata": {
    "ExecuteTime": {
     "end_time": "2021-12-16T05:05:19.715821Z",
     "start_time": "2021-12-16T05:05:19.701751Z"
    }
   },
   "outputs": [],
   "source": [
    "normial_cols = base_cols[base_cols[\"ordinalTrue\"]==\"0\"][\"colnames\"]\n",
    "ordinal_cols = base_cols[base_cols[\"ordinalTrue\"]==\"1\"][\"colnames\"]"
   ]
  },
  {
   "cell_type": "code",
   "execution_count": 7,
   "id": "28913d0f",
   "metadata": {
    "ExecuteTime": {
     "end_time": "2021-12-16T05:05:20.969974Z",
     "start_time": "2021-12-16T05:05:20.961991Z"
    }
   },
   "outputs": [],
   "source": [
    "categori_cols = base_cols[base_cols[\"coltype\"]==\"범주형\"][\"colnames\"]\n",
    "continous_cols = base_cols[base_cols[\"coltype\"]==\"연속형\"][\"colnames\"]"
   ]
  },
  {
   "cell_type": "code",
   "execution_count": 8,
   "id": "3528077a",
   "metadata": {
    "ExecuteTime": {
     "end_time": "2021-12-16T05:05:21.830770Z",
     "start_time": "2021-12-16T05:05:21.800331Z"
    }
   },
   "outputs": [],
   "source": [
    "binary_cols = []\n",
    "\n",
    "for col in df_imputed:\n",
    "    if df_imputed[col].value_counts().index.shape[0] < 3:\n",
    "        binary_cols.append(col)"
   ]
  },
  {
   "cell_type": "code",
   "execution_count": 9,
   "id": "eb25c9cd",
   "metadata": {
    "ExecuteTime": {
     "end_time": "2021-12-16T05:05:22.341881Z",
     "start_time": "2021-12-16T05:05:22.331768Z"
    }
   },
   "outputs": [],
   "source": [
    "start_normial_cols = [] # 명목 척도\n",
    "start_ordinal_cols = [] # 서열 척도\n",
    "start_continous_cols = [] # 숫자형(연속형, 이산형)\n",
    "start_target_cols = [] # 타겟\n",
    "\n",
    "for col in df_imputed:\n",
    "    if col in target_cols.to_list():\n",
    "        start_target_cols.append(col)\n",
    "    else:\n",
    "        if col in normial_cols.to_list():\n",
    "            start_normial_cols.append(col)\n",
    "        if col in ordinal_cols.to_list():\n",
    "            start_ordinal_cols.append(col)\n",
    "        if col in continous_cols.to_list():\n",
    "            start_continous_cols.append(col)\n",
    "    "
   ]
  },
  {
   "cell_type": "code",
   "execution_count": 10,
   "id": "d38f6443",
   "metadata": {
    "ExecuteTime": {
     "end_time": "2021-12-16T05:05:23.143093Z",
     "start_time": "2021-12-16T05:05:23.124082Z"
    }
   },
   "outputs": [
    {
     "data": {
      "text/plain": [
       "['T_DM', 'T_GLU0']"
      ]
     },
     "execution_count": 10,
     "metadata": {},
     "output_type": "execute_result"
    }
   ],
   "source": [
    "start_target_cols"
   ]
  },
  {
   "cell_type": "code",
   "execution_count": 11,
   "id": "b268703a",
   "metadata": {
    "ExecuteTime": {
     "end_time": "2021-12-16T05:05:33.284634Z",
     "start_time": "2021-12-16T05:05:33.279626Z"
    }
   },
   "outputs": [
    {
     "data": {
      "text/plain": [
       "(28, 28)"
      ]
     },
     "execution_count": 11,
     "metadata": {},
     "output_type": "execute_result"
    }
   ],
   "source": [
    "df_imputed.shape[1], len(start_normial_cols) + len(start_ordinal_cols) + len(start_continous_cols) + len(start_target_cols)"
   ]
  },
  {
   "cell_type": "markdown",
   "id": "4878afbf",
   "metadata": {},
   "source": [
    "## 원핫 인코딩"
   ]
  },
  {
   "cell_type": "code",
   "execution_count": 12,
   "id": "fc573764",
   "metadata": {
    "ExecuteTime": {
     "end_time": "2021-12-16T05:05:36.441175Z",
     "start_time": "2021-12-16T05:05:36.277544Z"
    }
   },
   "outputs": [],
   "source": [
    "from sklearn.preprocessing import OneHotEncoder"
   ]
  },
  {
   "cell_type": "code",
   "execution_count": 13,
   "id": "f78d5c4b",
   "metadata": {
    "ExecuteTime": {
     "end_time": "2021-12-16T05:05:36.771827Z",
     "start_time": "2021-12-16T05:05:36.732470Z"
    }
   },
   "outputs": [],
   "source": [
    "ohe_encoders = []\n",
    "\n",
    "for col in df_imputed.columns:\n",
    "    if col not in binary_cols: \n",
    "        if col in normial_cols.to_list(): # 명목 척도 -> ohe\n",
    "            encoder = OneHotEncoder(sparse=False)\n",
    "            ohe_values = encoder.fit_transform(df_imputed[col].values.reshape(-1,1))\n",
    "            ohe_df = pd.DataFrame(ohe_values,columns=encoder.get_feature_names([\"_\"+col]))\n",
    "            df_imputed.drop(columns=col,inplace=True)\n",
    "            df_imputed = pd.concat([df_imputed,ohe_df],axis=1)\n",
    "\n",
    "        else:\n",
    "            encoder = \"non_nomial\" # 서열 척도 -> 이미 label 인코딩 된 상태\n",
    "    else:\n",
    "        encoder = \"binary\" # 이진 변수 (클래스 : 0 , 1)는 이미 ohe 처리 된 상태\n",
    "    ohe_encoders.append([col,encoder])"
   ]
  },
  {
   "cell_type": "markdown",
   "id": "5331219c",
   "metadata": {},
   "source": [
    "### 원본 데이터셋과 ohe 결과 비교"
   ]
  },
  {
   "cell_type": "code",
   "execution_count": 14,
   "id": "fb8352e5",
   "metadata": {
    "ExecuteTime": {
     "end_time": "2021-12-16T05:05:39.909557Z",
     "start_time": "2021-12-16T05:05:39.899632Z"
    }
   },
   "outputs": [
    {
     "data": {
      "text/plain": [
       "((10000, 28), (10000, 38))"
      ]
     },
     "execution_count": 14,
     "metadata": {},
     "output_type": "execute_result"
    }
   ],
   "source": [
    "snd_dataset.shape, df_imputed.shape"
   ]
  },
  {
   "cell_type": "markdown",
   "id": "e9064b51",
   "metadata": {},
   "source": [
    "- 28개 -> 38개로 col 증가"
   ]
  },
  {
   "cell_type": "markdown",
   "id": "2ea98668",
   "metadata": {},
   "source": [
    "# data / target 분리"
   ]
  },
  {
   "cell_type": "code",
   "execution_count": 15,
   "id": "13842d92",
   "metadata": {
    "ExecuteTime": {
     "end_time": "2021-12-16T05:05:46.667538Z",
     "start_time": "2021-12-16T05:05:46.660513Z"
    }
   },
   "outputs": [],
   "source": [
    "target_TDM = df_imputed[\"T_DM\"] # 당뇨 진단 \n",
    "df_imputed.drop(columns = \"T_DM\", inplace=True)"
   ]
  },
  {
   "cell_type": "code",
   "execution_count": 16,
   "id": "aa33a067",
   "metadata": {
    "ExecuteTime": {
     "end_time": "2021-12-16T05:05:47.273013Z",
     "start_time": "2021-12-16T05:05:47.268632Z"
    }
   },
   "outputs": [],
   "source": [
    "target_TGLU = df_imputed[\"T_GLU0\"]\n",
    "df_imputed.drop(columns = \"T_GLU0\", inplace=True)"
   ]
  },
  {
   "cell_type": "code",
   "execution_count": 17,
   "id": "761f33f7",
   "metadata": {
    "ExecuteTime": {
     "end_time": "2021-12-16T05:05:49.437708Z",
     "start_time": "2021-12-16T05:05:49.422065Z"
    }
   },
   "outputs": [
    {
     "data": {
      "text/plain": [
       "((10000, 36), (10000,), (10000,))"
      ]
     },
     "execution_count": 17,
     "metadata": {},
     "output_type": "execute_result"
    }
   ],
   "source": [
    "df_imputed.shape, target_TDM.shape,target_TGLU.shape"
   ]
  },
  {
   "cell_type": "markdown",
   "id": "73220f91",
   "metadata": {},
   "source": [
    "# train / test dataset 분리"
   ]
  },
  {
   "cell_type": "code",
   "execution_count": 18,
   "id": "79c97569",
   "metadata": {
    "ExecuteTime": {
     "end_time": "2021-12-16T05:05:53.959246Z",
     "start_time": "2021-12-16T05:05:53.909170Z"
    }
   },
   "outputs": [],
   "source": [
    "from sklearn.model_selection import train_test_split"
   ]
  },
  {
   "cell_type": "markdown",
   "id": "637265f5",
   "metadata": {},
   "source": [
    "## 분류 모델(w. T_DM)"
   ]
  },
  {
   "cell_type": "code",
   "execution_count": 19,
   "id": "ef1b9e30",
   "metadata": {
    "ExecuteTime": {
     "end_time": "2021-12-16T05:05:56.296806Z",
     "start_time": "2021-12-16T05:05:56.288830Z"
    }
   },
   "outputs": [
    {
     "data": {
      "text/plain": [
       "0    9293\n",
       "1     707\n",
       "Name: T_DM, dtype: int64"
      ]
     },
     "execution_count": 19,
     "metadata": {},
     "output_type": "execute_result"
    }
   ],
   "source": [
    "target_TDM.value_counts()"
   ]
  },
  {
   "cell_type": "markdown",
   "id": "3cb0cc6f",
   "metadata": {},
   "source": [
    "- 타겟 분포 유지, 균등 분할"
   ]
  },
  {
   "cell_type": "code",
   "execution_count": 21,
   "id": "73b1342e",
   "metadata": {
    "ExecuteTime": {
     "end_time": "2021-12-16T05:06:27.202901Z",
     "start_time": "2021-12-16T05:06:27.170216Z"
    },
    "scrolled": true
   },
   "outputs": [],
   "source": [
    "CX_train, CX_test, Cy_train, Cy_test = train_test_split(df_imputed, target_TDM, test_size=0.2, random_state=42,stratify=target_TDM)"
   ]
  },
  {
   "cell_type": "code",
   "execution_count": 22,
   "id": "d414ce76",
   "metadata": {
    "ExecuteTime": {
     "end_time": "2021-12-16T05:06:28.052813Z",
     "start_time": "2021-12-16T05:06:28.038617Z"
    }
   },
   "outputs": [
    {
     "data": {
      "text/plain": [
       "0    0.92925\n",
       "1    0.07075\n",
       "Name: T_DM, dtype: float64"
      ]
     },
     "execution_count": 22,
     "metadata": {},
     "output_type": "execute_result"
    }
   ],
   "source": [
    "Cy_train.value_counts() / sum(Cy_train.value_counts())"
   ]
  },
  {
   "cell_type": "code",
   "execution_count": 23,
   "id": "5b255a55",
   "metadata": {
    "ExecuteTime": {
     "end_time": "2021-12-16T05:06:28.607501Z",
     "start_time": "2021-12-16T05:06:28.590484Z"
    }
   },
   "outputs": [
    {
     "data": {
      "text/plain": [
       "0    0.9295\n",
       "1    0.0705\n",
       "Name: T_DM, dtype: float64"
      ]
     },
     "execution_count": 23,
     "metadata": {},
     "output_type": "execute_result"
    }
   ],
   "source": [
    "Cy_test.value_counts() / sum(Cy_test.value_counts())"
   ]
  },
  {
   "cell_type": "markdown",
   "id": "cf9fec91",
   "metadata": {},
   "source": [
    "# [함수화]변수 선택 - permutation importance"
   ]
  },
  {
   "cell_type": "code",
   "execution_count": 78,
   "id": "c39a9175",
   "metadata": {
    "ExecuteTime": {
     "end_time": "2021-12-16T03:37:02.731416Z",
     "start_time": "2021-12-16T03:37:02.052872Z"
    }
   },
   "outputs": [],
   "source": [
    "from sklearn.ensemble import RandomForestClassifier\n",
    "import eli5 \n",
    "from eli5.sklearn import PermutationImportance \n",
    "\n",
    "def rfr_var_select(X_train, X_test,y_train,y_test):\n",
    "    rfr_select = RandomForestClassifier(random_state=42, n_estimators=100, max_depth=7, max_features=0.9)\n",
    "    rfr_select.fit(X_train, y_train)\n",
    "\n",
    "    perm = PermutationImportance(rfr_select, scoring = \"f1\", random_state = 42)\n",
    "    perm.fit(X_test, y_test) \n",
    "    \n",
    "    weights = eli5.show_weights(perm, top = 80, feature_names = X_test.columns.tolist())\n",
    "\n",
    "    return weights, rfr_select"
   ]
  },
  {
   "cell_type": "markdown",
   "id": "6229401a",
   "metadata": {},
   "source": [
    "# 데이터 분포 변환 (정규성)"
   ]
  },
  {
   "cell_type": "markdown",
   "id": "405d4f3d",
   "metadata": {},
   "source": [
    "sol. A : 숫자형 변수 스케일링 (standard / roboust)"
   ]
  },
  {
   "cell_type": "markdown",
   "id": "8c0fbae3",
   "metadata": {},
   "source": [
    "- 숫자형 변수의 스케일링을 통해 정규분포의 모양으로 분포를 변경하기\n",
    "    - standard scaling : 평균 0, 표준편차 1인 표준 정규분포의 형태로 변환\n",
    "    - Roboust sscaling : 중앙값을 사용해서 극단값에 둔감함.\n",
    "        - 극단값이 많고, 불균형하기 때문에 Robust를 사용"
   ]
  },
  {
   "cell_type": "markdown",
   "id": "cd8099df",
   "metadata": {},
   "source": [
    "데이터셋에 Outlier 가 들어있을 때 Robust하게 표준화할 수 있는 방법\n",
    "중앙값(median)과 IQR(interquartile range) 사용. \n",
    "아웃라이어의 영향을 최소화"
   ]
  },
  {
   "cell_type": "markdown",
   "id": "799ec19f",
   "metadata": {},
   "source": [
    "## [분류] ohe + robust + oversampling"
   ]
  },
  {
   "cell_type": "markdown",
   "id": "433cc651",
   "metadata": {},
   "source": [
    "- 중앙값을 사용해서, 극단값에 강한 robust 스케일링!\n",
    "    - 분포가 불균형하고 극단 값이 많은 데이터셋에 적합"
   ]
  },
  {
   "cell_type": "markdown",
   "id": "3c7a38e7",
   "metadata": {},
   "source": [
    "### RobustScaling"
   ]
  },
  {
   "cell_type": "code",
   "execution_count": 24,
   "id": "9b981806",
   "metadata": {
    "ExecuteTime": {
     "end_time": "2021-12-16T05:06:40.239772Z",
     "start_time": "2021-12-16T05:06:40.210765Z"
    }
   },
   "outputs": [],
   "source": [
    "from sklearn.preprocessing import RobustScaler\n",
    "robustScaler = RobustScaler()\n",
    "robustScaler.fit(CX_train)\n",
    "Ctrain_data_robustScaled = robustScaler.transform(CX_train)\n",
    "Ctest_data_robustScaled = robustScaler.transform(CX_test)"
   ]
  },
  {
   "cell_type": "code",
   "execution_count": 25,
   "id": "97b3da96",
   "metadata": {
    "ExecuteTime": {
     "end_time": "2021-12-16T05:06:42.106207Z",
     "start_time": "2021-12-16T05:06:42.101158Z"
    }
   },
   "outputs": [
    {
     "data": {
      "text/plain": [
       "((8000, 36), (2000, 36), (8000,), (2000,))"
      ]
     },
     "execution_count": 25,
     "metadata": {},
     "output_type": "execute_result"
    }
   ],
   "source": [
    "Ctrain_data_robustScaled.shape, Ctest_data_robustScaled.shape, Cy_train.shape, Cy_test.shape"
   ]
  },
  {
   "cell_type": "markdown",
   "id": "525c4e64",
   "metadata": {},
   "source": [
    "### Oversampling"
   ]
  },
  {
   "cell_type": "markdown",
   "id": "23d3c59a",
   "metadata": {},
   "source": [
    "- oversampling은 train set으로만 진행한다. label은 실제 분포를 유지한다."
   ]
  },
  {
   "cell_type": "markdown",
   "id": "651a3542",
   "metadata": {},
   "source": [
    "- knn 기반 SMOTH 오버샘플링"
   ]
  },
  {
   "cell_type": "code",
   "execution_count": 26,
   "id": "7da76940",
   "metadata": {
    "ExecuteTime": {
     "end_time": "2021-12-16T05:06:46.262045Z",
     "start_time": "2021-12-16T05:06:45.975165Z"
    }
   },
   "outputs": [
    {
     "name": "stdout",
     "output_type": "stream",
     "text": [
      "SMOTE 적용 전 학습용 피처/레이블 데이터 세트:  (8000, 36) (8000,)\n",
      "SMOTE 적용 후 학습용 피처/레이블 데이터 세트:  (14868, 36) (14868,)\n",
      "SMOTE 적용 후 레이블 값 분포: \n",
      " 0    7434\n",
      "1    7434\n",
      "Name: T_DM, dtype: int64\n"
     ]
    }
   ],
   "source": [
    "from imblearn.over_sampling import SMOTE\n",
    "smote = SMOTE(random_state=0)\n",
    "CXtrain_ohe_robust_over,Cytrain_ohe_robust_over= smote.fit_resample(Ctrain_data_robustScaled, Cy_train)\n",
    "print('SMOTE 적용 전 학습용 피처/레이블 데이터 세트: ', Ctrain_data_robustScaled.shape, Cy_train.shape)\n",
    "print('SMOTE 적용 후 학습용 피처/레이블 데이터 세트: ', CXtrain_ohe_robust_over.shape, Cytrain_ohe_robust_over.shape)\n",
    "print('SMOTE 적용 후 레이블 값 분포: \\n', pd.Series(Cytrain_ohe_robust_over).value_counts())"
   ]
  },
  {
   "cell_type": "code",
   "execution_count": 27,
   "id": "91ddf54d",
   "metadata": {
    "ExecuteTime": {
     "end_time": "2021-12-16T05:06:48.759994Z",
     "start_time": "2021-12-16T05:06:48.740849Z"
    }
   },
   "outputs": [],
   "source": [
    "CXtest_robustScaled_df = pd.DataFrame(Ctest_data_robustScaled, columns =CX_test.columns )"
   ]
  },
  {
   "cell_type": "markdown",
   "id": "7701dd59",
   "metadata": {},
   "source": [
    "### 변수 선택"
   ]
  },
  {
   "cell_type": "code",
   "execution_count": 83,
   "id": "a34ea209",
   "metadata": {
    "ExecuteTime": {
     "end_time": "2021-12-16T03:37:26.306384Z",
     "start_time": "2021-12-16T03:37:19.444448Z"
    }
   },
   "outputs": [],
   "source": [
    "w, model = rfr_var_select(CXtrain_ohe_robust_over, CXtest_robustScaled_df, Cytrain_ohe_robust_over, Cy_test)"
   ]
  },
  {
   "cell_type": "code",
   "execution_count": 84,
   "id": "1732f14a",
   "metadata": {
    "ExecuteTime": {
     "end_time": "2021-12-16T03:37:26.783218Z",
     "start_time": "2021-12-16T03:37:26.445691Z"
    }
   },
   "outputs": [
    {
     "data": {
      "image/png": "[encoded data removed]",
      "text/plain": [
       "<Figure size 720x432 with 1 Axes>"
      ]
     },
     "metadata": {
      "needs_background": "light"
     },
     "output_type": "display_data"
    }
   ],
   "source": [
    "feature_importance = pd.DataFrame(sorted(zip(model.feature_importances_, CXtest_robustScaled_df.columns)), columns=['Value','Feature'])\n",
    "\n",
    "plt.figure(figsize=(10, 6))\n",
    "sns.barplot(x=\"Value\", y=\"Feature\", data=feature_importance.sort_values(by=\"Value\", ascending=False))\n",
    "plt.title('LightGBM Features')\n",
    "plt.tight_layout()\n",
    "plt.show()"
   ]
  },
  {
   "cell_type": "code",
   "execution_count": 85,
   "id": "fdfda2b3",
   "metadata": {
    "ExecuteTime": {
     "end_time": "2021-12-16T03:37:26.936878Z",
     "start_time": "2021-12-16T03:37:26.926485Z"
    }
   },
   "outputs": [
    {
     "data": {
      "text/html": [
       "\n",
       "    <style>\n",
       "    table.eli5-weights tr:hover {\n",
       "        filter: brightness(85%);\n",
       "    }\n",
       "</style>\n",
       "\n",
       "\n",
       "\n",
       "    \n",
       "\n",
       "    \n",
       "\n",
       "    \n",
       "\n",
       "    \n",
       "\n",
       "    \n",
       "\n",
       "    \n",
       "\n",
       "\n",
       "    \n",
       "\n",
       "    \n",
       "\n",
       "    \n",
       "\n",
       "    \n",
       "\n",
       "    \n",
       "\n",
       "    \n",
       "\n",
       "\n",
       "    \n",
       "\n",
       "    \n",
       "\n",
       "    \n",
       "\n",
       "    \n",
       "\n",
       "    \n",
       "        <table class=\"eli5-weights eli5-feature-importances\" style=\"border-collapse: collapse; border: none; margin-top: 0em; table-layout: auto;\">\n",
       "    <thead>\n",
       "    <tr style=\"border: none;\">\n",
       "        <th style=\"padding: 0 1em 0 0.5em; text-align: right; border: none;\">Weight</th>\n",
       "        <th style=\"padding: 0 0.5em 0 0.5em; text-align: left; border: none;\">Feature</th>\n",
       "    </tr>\n",
       "    </thead>\n",
       "    <tbody>\n",
       "    \n",
       "        <tr style=\"background-color: hsl(120, 100.00%, 80.00%); border: none;\">\n",
       "            <td style=\"padding: 0 1em 0 0.5em; text-align: right; border: none;\">\n",
       "                0.0697\n",
       "                \n",
       "                    &plusmn; 0.0444\n",
       "                \n",
       "            </td>\n",
       "            <td style=\"padding: 0 0.5em 0 0.5em; text-align: left; border: none;\">\n",
       "                T_AGE\n",
       "            </td>\n",
       "        </tr>\n",
       "    \n",
       "        <tr style=\"background-color: hsl(120, 100.00%, 84.04%); border: none;\">\n",
       "            <td style=\"padding: 0 1em 0 0.5em; text-align: right; border: none;\">\n",
       "                0.0505\n",
       "                \n",
       "                    &plusmn; 0.0591\n",
       "                \n",
       "            </td>\n",
       "            <td style=\"padding: 0 0.5em 0 0.5em; text-align: left; border: none;\">\n",
       "                T_BMI\n",
       "            </td>\n",
       "        </tr>\n",
       "    \n",
       "        <tr style=\"background-color: hsl(120, 100.00%, 89.85%); border: none;\">\n",
       "            <td style=\"padding: 0 1em 0 0.5em; text-align: right; border: none;\">\n",
       "                0.0265\n",
       "                \n",
       "                    &plusmn; 0.0300\n",
       "                \n",
       "            </td>\n",
       "            <td style=\"padding: 0 0.5em 0 0.5em; text-align: left; border: none;\">\n",
       "                T_INCOME\n",
       "            </td>\n",
       "        </tr>\n",
       "    \n",
       "        <tr style=\"background-color: hsl(120, 100.00%, 97.05%); border: none;\">\n",
       "            <td style=\"padding: 0 1em 0 0.5em; text-align: right; border: none;\">\n",
       "                0.0045\n",
       "                \n",
       "                    &plusmn; 0.0128\n",
       "                \n",
       "            </td>\n",
       "            <td style=\"padding: 0 0.5em 0 0.5em; text-align: left; border: none;\">\n",
       "                T_DRDU\n",
       "            </td>\n",
       "        </tr>\n",
       "    \n",
       "        <tr style=\"background-color: hsl(120, 100.00%, 97.70%); border: none;\">\n",
       "            <td style=\"padding: 0 1em 0 0.5em; text-align: right; border: none;\">\n",
       "                0.0032\n",
       "                \n",
       "                    &plusmn; 0.0024\n",
       "                \n",
       "            </td>\n",
       "            <td style=\"padding: 0 0.5em 0 0.5em; text-align: left; border: none;\">\n",
       "                T_WEIGHT\n",
       "            </td>\n",
       "        </tr>\n",
       "    \n",
       "        <tr style=\"background-color: hsl(120, 100.00%, 98.60%); border: none;\">\n",
       "            <td style=\"padding: 0 1em 0 0.5em; text-align: right; border: none;\">\n",
       "                0.0016\n",
       "                \n",
       "                    &plusmn; 0.0070\n",
       "                \n",
       "            </td>\n",
       "            <td style=\"padding: 0 0.5em 0 0.5em; text-align: left; border: none;\">\n",
       "                T_DRINK\n",
       "            </td>\n",
       "        </tr>\n",
       "    \n",
       "        <tr style=\"background-color: hsl(120, 100.00%, 99.10%); border: none;\">\n",
       "            <td style=\"padding: 0 1em 0 0.5em; text-align: right; border: none;\">\n",
       "                0.0008\n",
       "                \n",
       "                    &plusmn; 0.0011\n",
       "                \n",
       "            </td>\n",
       "            <td style=\"padding: 0 0.5em 0 0.5em; text-align: left; border: none;\">\n",
       "                T_SOJUFQ\n",
       "            </td>\n",
       "        </tr>\n",
       "    \n",
       "        <tr style=\"background-color: hsl(120, 100.00%, 99.45%); border: none;\">\n",
       "            <td style=\"padding: 0 1em 0 0.5em; text-align: right; border: none;\">\n",
       "                0.0004\n",
       "                \n",
       "                    &plusmn; 0.0014\n",
       "                \n",
       "            </td>\n",
       "            <td style=\"padding: 0 0.5em 0 0.5em; text-align: left; border: none;\">\n",
       "                T_BEERFQ\n",
       "            </td>\n",
       "        </tr>\n",
       "    \n",
       "        <tr style=\"background-color: hsl(120, 100.00%, 99.53%); border: none;\">\n",
       "            <td style=\"padding: 0 1em 0 0.5em; text-align: right; border: none;\">\n",
       "                0.0003\n",
       "                \n",
       "                    &plusmn; 0.0029\n",
       "                \n",
       "            </td>\n",
       "            <td style=\"padding: 0 0.5em 0 0.5em; text-align: left; border: none;\">\n",
       "                T_SMAM\n",
       "            </td>\n",
       "        </tr>\n",
       "    \n",
       "        <tr style=\"background-color: hsl(120, 100.00%, 99.66%); border: none;\">\n",
       "            <td style=\"padding: 0 1em 0 0.5em; text-align: right; border: none;\">\n",
       "                0.0002\n",
       "                \n",
       "                    &plusmn; 0.0005\n",
       "                \n",
       "            </td>\n",
       "            <td style=\"padding: 0 0.5em 0 0.5em; text-align: left; border: none;\">\n",
       "                _T_MARRY_1\n",
       "            </td>\n",
       "        </tr>\n",
       "    \n",
       "        <tr style=\"background-color: hsl(120, 100.00%, 99.79%); border: none;\">\n",
       "            <td style=\"padding: 0 1em 0 0.5em; text-align: right; border: none;\">\n",
       "                0.0001\n",
       "                \n",
       "                    &plusmn; 0.0004\n",
       "                \n",
       "            </td>\n",
       "            <td style=\"padding: 0 0.5em 0 0.5em; text-align: left; border: none;\">\n",
       "                T_TAKAM\n",
       "            </td>\n",
       "        </tr>\n",
       "    \n",
       "        <tr style=\"background-color: hsl(0, 100.00%, 100.00%); border: none;\">\n",
       "            <td style=\"padding: 0 1em 0 0.5em; text-align: right; border: none;\">\n",
       "                0\n",
       "                \n",
       "                    &plusmn; 0.0000\n",
       "                \n",
       "            </td>\n",
       "            <td style=\"padding: 0 0.5em 0 0.5em; text-align: left; border: none;\">\n",
       "                T_HLIQAM\n",
       "            </td>\n",
       "        </tr>\n",
       "    \n",
       "        <tr style=\"background-color: hsl(0, 100.00%, 100.00%); border: none;\">\n",
       "            <td style=\"padding: 0 1em 0 0.5em; text-align: right; border: none;\">\n",
       "                0\n",
       "                \n",
       "                    &plusmn; 0.0000\n",
       "                \n",
       "            </td>\n",
       "            <td style=\"padding: 0 0.5em 0 0.5em; text-align: left; border: none;\">\n",
       "                T_TAKFQ\n",
       "            </td>\n",
       "        </tr>\n",
       "    \n",
       "        <tr style=\"background-color: hsl(0, 100.00%, 100.00%); border: none;\">\n",
       "            <td style=\"padding: 0 1em 0 0.5em; text-align: right; border: none;\">\n",
       "                0\n",
       "                \n",
       "                    &plusmn; 0.0000\n",
       "                \n",
       "            </td>\n",
       "            <td style=\"padding: 0 0.5em 0 0.5em; text-align: left; border: none;\">\n",
       "                T_RICEFQ\n",
       "            </td>\n",
       "        </tr>\n",
       "    \n",
       "        <tr style=\"background-color: hsl(0, 100.00%, 100.00%); border: none;\">\n",
       "            <td style=\"padding: 0 1em 0 0.5em; text-align: right; border: none;\">\n",
       "                0\n",
       "                \n",
       "                    &plusmn; 0.0000\n",
       "                \n",
       "            </td>\n",
       "            <td style=\"padding: 0 0.5em 0 0.5em; text-align: left; border: none;\">\n",
       "                T_RICEAM\n",
       "            </td>\n",
       "        </tr>\n",
       "    \n",
       "        <tr style=\"background-color: hsl(0, 100.00%, 100.00%); border: none;\">\n",
       "            <td style=\"padding: 0 1em 0 0.5em; text-align: right; border: none;\">\n",
       "                0\n",
       "                \n",
       "                    &plusmn; 0.0000\n",
       "                \n",
       "            </td>\n",
       "            <td style=\"padding: 0 0.5em 0 0.5em; text-align: left; border: none;\">\n",
       "                T_WINEAM\n",
       "            </td>\n",
       "        </tr>\n",
       "    \n",
       "        <tr style=\"background-color: hsl(0, 100.00%, 100.00%); border: none;\">\n",
       "            <td style=\"padding: 0 1em 0 0.5em; text-align: right; border: none;\">\n",
       "                0\n",
       "                \n",
       "                    &plusmn; 0.0000\n",
       "                \n",
       "            </td>\n",
       "            <td style=\"padding: 0 0.5em 0 0.5em; text-align: left; border: none;\">\n",
       "                T_HLIQFQ\n",
       "            </td>\n",
       "        </tr>\n",
       "    \n",
       "        <tr style=\"background-color: hsl(0, 100.00%, 100.00%); border: none;\">\n",
       "            <td style=\"padding: 0 1em 0 0.5em; text-align: right; border: none;\">\n",
       "                0\n",
       "                \n",
       "                    &plusmn; 0.0000\n",
       "                \n",
       "            </td>\n",
       "            <td style=\"padding: 0 0.5em 0 0.5em; text-align: left; border: none;\">\n",
       "                T_SMOKE\n",
       "            </td>\n",
       "        </tr>\n",
       "    \n",
       "        <tr style=\"background-color: hsl(0, 100.00%, 100.00%); border: none;\">\n",
       "            <td style=\"padding: 0 1em 0 0.5em; text-align: right; border: none;\">\n",
       "                0\n",
       "                \n",
       "                    &plusmn; 0.0000\n",
       "                \n",
       "            </td>\n",
       "            <td style=\"padding: 0 0.5em 0 0.5em; text-align: left; border: none;\">\n",
       "                _T_MARRY_2\n",
       "            </td>\n",
       "        </tr>\n",
       "    \n",
       "        <tr style=\"background-color: hsl(0, 100.00%, 100.00%); border: none;\">\n",
       "            <td style=\"padding: 0 1em 0 0.5em; text-align: right; border: none;\">\n",
       "                0\n",
       "                \n",
       "                    &plusmn; 0.0000\n",
       "                \n",
       "            </td>\n",
       "            <td style=\"padding: 0 0.5em 0 0.5em; text-align: left; border: none;\">\n",
       "                _T_EXER_0\n",
       "            </td>\n",
       "        </tr>\n",
       "    \n",
       "        <tr style=\"background-color: hsl(0, 100.00%, 100.00%); border: none;\">\n",
       "            <td style=\"padding: 0 1em 0 0.5em; text-align: right; border: none;\">\n",
       "                0\n",
       "                \n",
       "                    &plusmn; 0.0000\n",
       "                \n",
       "            </td>\n",
       "            <td style=\"padding: 0 0.5em 0 0.5em; text-align: left; border: none;\">\n",
       "                _T_PSM_0\n",
       "            </td>\n",
       "        </tr>\n",
       "    \n",
       "        <tr style=\"background-color: hsl(0, 100.00%, 100.00%); border: none;\">\n",
       "            <td style=\"padding: 0 1em 0 0.5em; text-align: right; border: none;\">\n",
       "                0\n",
       "                \n",
       "                    &plusmn; 0.0000\n",
       "                \n",
       "            </td>\n",
       "            <td style=\"padding: 0 0.5em 0 0.5em; text-align: left; border: none;\">\n",
       "                _T_MARRY_5\n",
       "            </td>\n",
       "        </tr>\n",
       "    \n",
       "        <tr style=\"background-color: hsl(0, 100.00%, 100.00%); border: none;\">\n",
       "            <td style=\"padding: 0 1em 0 0.5em; text-align: right; border: none;\">\n",
       "                0\n",
       "                \n",
       "                    &plusmn; 0.0000\n",
       "                \n",
       "            </td"
      ],
      "text/plain": [
       "<IPython.core.display.HTML object>"
      ]
     },
     "execution_count": 85,
     "metadata": {},
     "output_type": "execute_result"
    },
    {
     "data": {
      "text/html": [
       "<b>limit_output extension: Maximum message size of 10000 exceeded with 15636 characters</b>"
      ]
     },
     "metadata": {},
     "output_type": "display_data"
    }
   ],
   "source": [
    "w "
   ]
  },
  {
   "cell_type": "markdown",
   "id": "eb64fa2d",
   "metadata": {
    "ExecuteTime": {
     "end_time": "2021-12-15T03:28:51.470687Z",
     "start_time": "2021-12-15T03:28:51.449445Z"
    }
   },
   "source": [
    "- 설문 답변의 신뢰성\n",
    "    - 술 관련 col이 많다 [소주, 맥주, 와인, 막걸리,양주,정종 ] * [1년 평균 섭취 횟수, 1회 음용 횟수]\n",
    "        - 하지만 중요도가 낮게 나옴\n",
    "            - 추측 : 술 한잔 -> 사실 많이 먹음\n",
    "    - 객관적인 지표의 영향력이 크다.\n",
    "        - 소득, 체중, 나이 등"
   ]
  },
  {
   "cell_type": "markdown",
   "id": "9daf3d5e",
   "metadata": {},
   "source": [
    "#### 원본 데이터 셋 , 정확도"
   ]
  },
  {
   "cell_type": "code",
   "execution_count": 86,
   "id": "2683482c",
   "metadata": {
    "ExecuteTime": {
     "end_time": "2021-12-16T03:37:46.148143Z",
     "start_time": "2021-12-16T03:37:46.133136Z"
    }
   },
   "outputs": [],
   "source": [
    "from sklearn.metrics import accuracy_score"
   ]
  },
  {
   "cell_type": "code",
   "execution_count": 87,
   "id": "cf5485b8",
   "metadata": {
    "ExecuteTime": {
     "end_time": "2021-12-16T03:37:46.559521Z",
     "start_time": "2021-12-16T03:37:46.541961Z"
    }
   },
   "outputs": [],
   "source": [
    "all_data = copy.deepcopy(snd_dataset)"
   ]
  },
  {
   "cell_type": "code",
   "execution_count": 88,
   "id": "d2090d6b",
   "metadata": {
    "ExecuteTime": {
     "end_time": "2021-12-16T03:37:47.630261Z",
     "start_time": "2021-12-16T03:37:47.616209Z"
    }
   },
   "outputs": [],
   "source": [
    "y_tdm = all_data[\"T_DM\"]\n",
    "y_T_GLU0 = all_data[\"T_GLU0\"]\n",
    "\n",
    "all_X = all_data.drop(columns=[\"T_DM\",\"T_GLU0\"])"
   ]
  },
  {
   "cell_type": "code",
   "execution_count": 89,
   "id": "20319d00",
   "metadata": {
    "ExecuteTime": {
     "end_time": "2021-12-16T03:37:49.990088Z",
     "start_time": "2021-12-16T03:37:49.962802Z"
    }
   },
   "outputs": [
    {
     "data": {
      "text/plain": [
       "0    9293\n",
       "1     707\n",
       "Name: T_DM, dtype: int64"
      ]
     },
     "execution_count": 89,
     "metadata": {},
     "output_type": "execute_result"
    }
   ],
   "source": [
    "y_tdm.value_counts()"
   ]
  },
  {
   "cell_type": "code",
   "execution_count": 90,
   "id": "1c2ae9db",
   "metadata": {
    "ExecuteTime": {
     "end_time": "2021-12-16T03:37:51.843105Z",
     "start_time": "2021-12-16T03:37:51.827040Z"
    }
   },
   "outputs": [],
   "source": [
    "AX_train, AX_test, Ay_train, Ay_test = train_test_split(all_X, y_tdm, test_size=0.2, random_state=42)"
   ]
  },
  {
   "cell_type": "code",
   "execution_count": 91,
   "id": "70b44f5f",
   "metadata": {
    "ExecuteTime": {
     "end_time": "2021-12-16T03:37:55.740215Z",
     "start_time": "2021-12-16T03:37:52.152121Z"
    }
   },
   "outputs": [],
   "source": [
    "w, model = rfr_var_select(AX_train, AX_test, Ay_train, Ay_test)"
   ]
  },
  {
   "cell_type": "code",
   "execution_count": 93,
   "id": "62520088",
   "metadata": {
    "ExecuteTime": {
     "end_time": "2021-12-16T03:37:55.993733Z",
     "start_time": "2021-12-16T03:37:55.772470Z"
    }
   },
   "outputs": [
    {
     "data": {
      "image/png": "[encoded data removed]",
      "text/plain": [
       "<Figure size 720x432 with 1 Axes>"
      ]
     },
     "metadata": {
      "needs_background": "light"
     },
     "output_type": "display_data"
    }
   ],
   "source": [
    "feature_importance = pd.DataFrame(sorted(zip(model.feature_importances_, CXtest_robustScaled_df.columns)), columns=['Value','Feature'])\n",
    "\n",
    "plt.figure(figsize=(10, 6))\n",
    "sns.barplot(x=\"Value\", y=\"Feature\", data=feature_importance.sort_values(by=\"Value\", ascending=False))\n",
    "plt.title('LightGBM Features')\n",
    "plt.tight_layout()\n",
    "plt.show()"
   ]
  },
  {
   "cell_type": "markdown",
   "id": "aed51170",
   "metadata": {},
   "source": [
    "- 기본 모델의 성능이?!"
   ]
  },
  {
   "cell_type": "code",
   "execution_count": 92,
   "id": "779656f5",
   "metadata": {
    "ExecuteTime": {
     "end_time": "2021-12-16T03:37:55.771473Z",
     "start_time": "2021-12-16T03:37:55.742215Z"
    }
   },
   "outputs": [
    {
     "data": {
      "text/plain": [
       "0.9265"
      ]
     },
     "execution_count": 92,
     "metadata": {},
     "output_type": "execute_result"
    }
   ],
   "source": [
    "Apred = model.predict(AX_test)\n",
    "accuracy_score(Ay_test, Apred)"
   ]
  },
  {
   "cell_type": "code",
   "execution_count": 94,
   "id": "1b3f520a",
   "metadata": {
    "ExecuteTime": {
     "end_time": "2021-12-16T03:37:57.091912Z",
     "start_time": "2021-12-16T03:37:57.070843Z"
    }
   },
   "outputs": [],
   "source": [
    "AX_train, AX_test, Ay_train, Ay_test = train_test_split(all_X, y_tdm, test_size=0.2, random_state=42,stratify=y_tdm)"
   ]
  },
  {
   "cell_type": "code",
   "execution_count": 95,
   "id": "32d665d0",
   "metadata": {
    "ExecuteTime": {
     "end_time": "2021-12-16T03:37:59.394812Z",
     "start_time": "2021-12-16T03:37:59.363816Z"
    }
   },
   "outputs": [
    {
     "name": "stdout",
     "output_type": "stream",
     "text": [
      "SMOTE 적용 전 학습용 피처/레이블 데이터 세트:  (8000, 26) (8000,)\n",
      "SMOTE 적용 후 학습용 피처/레이블 데이터 세트:  (14868, 26) (14868,)\n",
      "SMOTE 적용 후 레이블 값 분포: \n",
      " 0    7434\n",
      "1    7434\n",
      "Name: T_DM, dtype: int64\n"
     ]
    }
   ],
   "source": [
    "from imblearn.over_sampling import SMOTE\n",
    "smote = SMOTE(random_state=0)\n",
    "AX_train_over,Ay_train_over= smote.fit_resample(AX_train, Ay_train)\n",
    "print('SMOTE 적용 전 학습용 피처/레이블 데이터 세트: ', AX_train.shape, Ay_train.shape)\n",
    "print('SMOTE 적용 후 학습용 피처/레이블 데이터 세트: ', AX_train_over.shape, Ay_train_over.shape)\n",
    "print('SMOTE 적용 후 레이블 값 분포: \\n', pd.Series(Ay_train_over).value_counts())"
   ]
  },
  {
   "cell_type": "code",
   "execution_count": 96,
   "id": "948f37fe",
   "metadata": {
    "ExecuteTime": {
     "end_time": "2021-12-16T03:38:07.960611Z",
     "start_time": "2021-12-16T03:38:03.488991Z"
    }
   },
   "outputs": [],
   "source": [
    "w, model = rfr_var_select(AX_train_over, AX_test, Ay_train_over, Ay_test)"
   ]
  },
  {
   "cell_type": "markdown",
   "id": "db6f3fd7",
   "metadata": {},
   "source": [
    "- 오버 샘플링 후 기본모델 정확도"
   ]
  },
  {
   "cell_type": "code",
   "execution_count": 98,
   "id": "56d69afc",
   "metadata": {
    "ExecuteTime": {
     "end_time": "2021-12-16T03:38:08.006974Z",
     "start_time": "2021-12-16T03:38:07.977596Z"
    }
   },
   "outputs": [
    {
     "data": {
      "text/plain": [
       "0.698"
      ]
     },
     "execution_count": 98,
     "metadata": {},
     "output_type": "execute_result"
    }
   ],
   "source": [
    "Apred = model.predict(AX_test)\n",
    "accuracy_score(Ay_test, Apred)"
   ]
  },
  {
   "cell_type": "code",
   "execution_count": 97,
   "id": "ba90dd57",
   "metadata": {
    "ExecuteTime": {
     "end_time": "2021-12-16T03:38:07.976605Z",
     "start_time": "2021-12-16T03:38:07.962630Z"
    }
   },
   "outputs": [
    {
     "data": {
      "text/html": [
       "\n",
       "    <style>\n",
       "    table.eli5-weights tr:hover {\n",
       "        filter: brightness(85%);\n",
       "    }\n",
       "</style>\n",
       "\n",
       "\n",
       "\n",
       "    \n",
       "\n",
       "    \n",
       "\n",
       "    \n",
       "\n",
       "    \n",
       "\n",
       "    \n",
       "\n",
       "    \n",
       "\n",
       "\n",
       "    \n",
       "\n",
       "    \n",
       "\n",
       "    \n",
       "\n",
       "    \n",
       "\n",
       "    \n",
       "\n",
       "    \n",
       "\n",
       "\n",
       "    \n",
       "\n",
       "    \n",
       "\n",
       "    \n",
       "\n",
       "    \n",
       "\n",
       "    \n",
       "        <table class=\"eli5-weights eli5-feature-importances\" style=\"border-collapse: collapse; border: none; margin-top: 0em; table-layout: auto;\">\n",
       "    <thead>\n",
       "    <tr style=\"border: none;\">\n",
       "        <th style=\"padding: 0 1em 0 0.5em; text-align: right; border: none;\">Weight</th>\n",
       "        <th style=\"padding: 0 0.5em 0 0.5em; text-align: left; border: none;\">Feature</th>\n",
       "    </tr>\n",
       "    </thead>\n",
       "    <tbody>\n",
       "    \n",
       "        <tr style=\"background-color: hsl(120, 100.00%, 80.00%); border: none;\">\n",
       "            <td style=\"padding: 0 1em 0 0.5em; text-align: right; border: none;\">\n",
       "                0.0282\n",
       "                \n",
       "                    &plusmn; 0.0292\n",
       "                \n",
       "            </td>\n",
       "            <td style=\"padding: 0 0.5em 0 0.5em; text-align: left; border: none;\">\n",
       "                T_AGE\n",
       "            </td>\n",
       "        </tr>\n",
       "    \n",
       "        <tr style=\"background-color: hsl(120, 100.00%, 81.05%); border: none;\">\n",
       "            <td style=\"padding: 0 1em 0 0.5em; text-align: right; border: none;\">\n",
       "                0.0261\n",
       "                \n",
       "                    &plusmn; 0.0151\n",
       "                \n",
       "            </td>\n",
       "            <td style=\"padding: 0 0.5em 0 0.5em; text-align: left; border: none;\">\n",
       "                T_INCOME\n",
       "            </td>\n",
       "        </tr>\n",
       "    \n",
       "        <tr style=\"background-color: hsl(120, 100.00%, 82.27%); border: none;\">\n",
       "            <td style=\"padding: 0 1em 0 0.5em; text-align: right; border: none;\">\n",
       "                0.0237\n",
       "                \n",
       "                    &plusmn; 0.0259\n",
       "                \n",
       "            </td>\n",
       "            <td style=\"padding: 0 0.5em 0 0.5em; text-align: left; border: none;\">\n",
       "                T_DRINK\n",
       "            </td>\n",
       "        </tr>\n",
       "    \n",
       "        <tr style=\"background-color: hsl(120, 100.00%, 82.63%); border: none;\">\n",
       "            <td style=\"padding: 0 1em 0 0.5em; text-align: right; border: none;\">\n",
       "                0.0230\n",
       "                \n",
       "                    &plusmn; 0.0133\n",
       "                \n",
       "            </td>\n",
       "            <td style=\"padding: 0 0.5em 0 0.5em; text-align: left; border: none;\">\n",
       "                T_WEIGHT\n",
       "            </td>\n",
       "        </tr>\n",
       "    \n",
       "        <tr style=\"background-color: hsl(120, 100.00%, 83.80%); border: none;\">\n",
       "            <td style=\"padding: 0 1em 0 0.5em; text-align: right; border: none;\">\n",
       "                0.0208\n",
       "                \n",
       "                    &plusmn; 0.0219\n",
       "                \n",
       "            </td>\n",
       "            <td style=\"padding: 0 0.5em 0 0.5em; text-align: left; border: none;\">\n",
       "                T_PSM\n",
       "            </td>\n",
       "        </tr>\n",
       "    \n",
       "        <tr style=\"background-color: hsl(120, 100.00%, 90.86%); border: none;\">\n",
       "            <td style=\"padding: 0 1em 0 0.5em; text-align: right; border: none;\">\n",
       "                0.0092\n",
       "                \n",
       "                    &plusmn; 0.0041\n",
       "                \n",
       "            </td>\n",
       "            <td style=\"padding: 0 0.5em 0 0.5em; text-align: left; border: none;\">\n",
       "                T_BEERFQ\n",
       "            </td>\n",
       "        </tr>\n",
       "    \n",
       "        <tr style=\"background-color: hsl(120, 100.00%, 93.81%); border: none;\">\n",
       "            <td style=\"padding: 0 1em 0 0.5em; text-align: right; border: none;\">\n",
       "                0.0053\n",
       "                \n",
       "                    &plusmn; 0.0055\n",
       "                \n",
       "            </td>\n",
       "            <td style=\"padding: 0 0.5em 0 0.5em; text-align: left; border: none;\">\n",
       "                T_HEIGHT\n",
       "            </td>\n",
       "        </tr>\n",
       "    \n",
       "        <tr style=\"background-color: hsl(120, 100.00%, 94.39%); border: none;\">\n",
       "            <td style=\"padding: 0 1em 0 0.5em; text-align: right; border: none;\">\n",
       "                0.0046\n",
       "                \n",
       "                    &plusmn; 0.0032\n",
       "                \n",
       "            </td>\n",
       "            <td style=\"padding: 0 0.5em 0 0.5em; text-align: left; border: none;\">\n",
       "                T_BMI\n",
       "            </td>\n",
       "        </tr>\n",
       "    \n",
       "        <tr style=\"background-color: hsl(120, 100.00%, 94.54%); border: none;\">\n",
       "            <td style=\"padding: 0 1em 0 0.5em; text-align: right; border: none;\">\n",
       "                0.0044\n",
       "                \n",
       "                    &plusmn; 0.0029\n",
       "                \n",
       "            </td>\n",
       "            <td style=\"padding: 0 0.5em 0 0.5em; text-align: left; border: none;\">\n",
       "                T_EXER\n",
       "            </td>\n",
       "        </tr>\n",
       "    \n",
       "        <tr style=\"background-color: hsl(120, 100.00%, 95.32%); border: none;\">\n",
       "            <td style=\"padding: 0 1em 0 0.5em; text-align: right; border: none;\">\n",
       "                0.0035\n",
       "                \n",
       "                    &plusmn; 0.0023\n",
       "                \n",
       "            </td>\n",
       "            <td style=\"padding: 0 0.5em 0 0.5em; text-align: left; border: none;\">\n",
       "                T_SOJUFQ\n",
       "            </td>\n",
       "        </tr>\n",
       "    \n",
       "        <tr style=\"background-color: hsl(120, 100.00%, 97.01%); border: none;\">\n",
       "            <td style=\"padding: 0 1em 0 0.5em; text-align: right; border: none;\">\n",
       "                0.0019\n",
       "                \n",
       "                    &plusmn; 0.0028\n",
       "                \n",
       "            </td>\n",
       "            <td style=\"padding: 0 0.5em 0 0.5em; text-align: left; border: none;\">\n",
       "                T_SOJUAM\n",
       "            </td>\n",
       "        </tr>\n",
       "    \n",
       "        <tr style=\"background-color: hsl(120, 100.00%, 97.10%); border: none;\">\n",
       "            <td style=\"padding: 0 1em 0 0.5em; text-align: right; border: none;\">\n",
       "                0.0018\n",
       "                \n",
       "                    &plusmn; 0.0035\n",
       "                \n",
       "            </td>\n",
       "            <td style=\"padding: 0 0.5em 0 0.5em; text-align: left; border: none;\">\n",
       "                T_BEERAM\n",
       "            </td>\n",
       "        </tr>\n",
       "    \n",
       "        <tr style=\"background-color: hsl(120, 100.00%, 97.30%); border: none;\">\n",
       "            <td style=\"padding: 0 1em 0 0.5em; text-align: right; border: none;\">\n",
       "                0.0016\n",
       "                \n",
       "                    &plusmn; 0.0013\n",
       "                \n",
       "            </td>\n",
       "            <td style=\"padding: 0 0.5em 0 0.5em; text-align: left; border: none;\">\n",
       "                T_SMDUYR\n",
       "            </td>\n",
       "        </tr>\n",
       "    \n",
       "        <tr style=\"background-color: hsl(120, 100.00%, 97.96%); border: none;\">\n",
       "            <td style=\"padding: 0 1em 0 0.5em; text-align: right; border: none;\">\n",
       "                0.0011\n",
       "                \n",
       "                    &plusmn; 0.0014\n",
       "                \n",
       "            </td>\n",
       "            <td style=\"padding: 0 0.5em 0 0.5em; text-align: left; border: none;\">\n",
       "                T_SMOKE\n",
       "            </td>\n",
       "        </tr>\n",
       "    \n",
       "        <tr style=\"background-color: hsl(120, 100.00%, 98.04%); border: none;\">\n",
       "            <td style=\"padding: 0 1em 0 0.5em; text-align: right; border: none;\">\n",
       "                0.0010\n",
       "                \n",
       "                    &plusmn; 0.0025\n",
       "                \n",
       "            </td>\n",
       "            <td style=\"padding: 0 0.5em 0 0.5em; text-align: left; border: none;\">\n",
       "                T_DRDU\n",
       "            </td>\n",
       "        </tr>\n",
       "    \n",
       "        <tr style=\"background-color: hsl(120, 100.00%, 98.12%); border: none;\">\n",
       "            <td style=\"padding: 0 1em 0 0.5em; text-align: right; border: none;\">\n",
       "                0.0010\n",
       "                \n",
       "                    &plusmn; 0.0009\n",
       "                \n",
       "            </td>\n",
       "            <td style=\"padding: 0 0.5em 0 0.5em; text-align: left; border: none;\">\n",
       "                T_SMAM\n",
       "            </td>\n",
       "        </tr>\n",
       "    \n",
       "        <tr style=\"background-color: hsl(120, 100.00%, 98.74%); border: none;\">\n",
       "            <td style=\"padding: 0 1em 0 0.5em; text-align: right; border: none;\">\n",
       "                0.0005\n",
       "                \n",
       "                    &plusmn; 0.0007\n",
       "                \n",
       "            </td>\n",
       "            <td style=\"padding: 0 0.5em 0 0.5em; text-align: left; border: none;\">\n",
       "                T_TAKFQ\n",
       "            </td>\n",
       "        </tr>\n",
       "    \n",
       "        <tr style=\"background-color: hsl(120, 100.00%, 99.17%); border: none;\">\n",
       "            <td style=\"padding: 0 1em 0 0.5em; text-align: right; border: none;\">\n",
       "                0.0003\n",
       "                \n",
       "                    &plusmn; 0.0000\n",
       "                \n",
       "            </td>\n",
       "            <td style=\"padding: 0 0.5em 0 0.5em; text-align: left; border: none;\">\n",
       "                T_WINEAM\n",
       "            </td>\n",
       "        </tr>\n",
       "    \n",
       "        <tr style=\"background-color: hsl(120, 100.00%, 99.17%); border: none;\">\n",
       "            <td style=\"padding: 0 1em 0 0.5em; text-align: right; border: none;\">\n",
       "                0.0003\n",
       "                \n",
       "                    &plusmn; 0.0004\n",
       "                \n",
       "            </td>\n",
       "            <td style=\"padding: 0 0.5em 0 0.5em; text-align: left; border: none;\">\n",
       "                T_TAKAM\n",
       "            </td>\n",
       "        </tr>\n",
       "    \n",
       "        <tr style=\"background-color: hsl(120, 100.00%, 99.29%); border: none;\">\n",
       "            <td style=\"padding: 0 1em 0 0.5em; text-align: right; border: none;\">\n",
       "                0.0002\n",
       "                \n",
       "                    &plusmn; 0.0008\n",
       "                \n",
       "            </td>\n",
       "            <td style=\"padding: 0 0.5em 0 0.5em; text-align: left; border: none;\">\n",
       "                T_MARRY\n",
       "            </td>\n",
       "        </tr>\n",
       "    \n",
       "        <tr style=\"background-color: hsl(120, 100.00%, 99.42%); border: none;\">\n",
       "            <td style=\"padding: 0 1em 0 0.5em; text-align: right; border: none;\">\n",
       "                0.0002\n",
       "                \n",
       "                    &plusmn; 0.0005\n",
       "                \n",
       "            </td>\n",
       "            <td style=\"padding: 0 0.5em 0 0.5em; text-align: left; border: none;\">\n",
       "                T_WINEFQ\n",
       "            </td>\n",
       "        </tr>\n",
       "    \n",
       "        <tr style=\"background-color: hsl(0, 100.00%, 100.00%); border: none;\">\n",
       "            <td style=\"padding: 0 1em 0 0.5em; text-align: right; border: none;\">\n",
       "                0\n",
       "                \n",
       "                    &plusmn; 0.0000\n",
       "                \n",
       "            </td>\n",
       "            <td style=\"padding: 0 0.5em 0 0.5em; text-align: left; border: none;\">\n",
       "                T_RICEFQ\n",
       "            </td>\n",
       "        </tr>\n",
       "    \n",
       "        <tr style=\"background-color: hsl(0, 100.00%, 100.00%); border: none;\">\n",
       "            <td style=\"padding: 0 1em 0 0.5em; text-align: right; border: none;\">\n",
       "                0\n",
       "                \n",
       "                    &p"
      ],
      "text/plain": [
       "<IPython.core.display.HTML object>"
      ]
     },
     "execution_count": 97,
     "metadata": {},
     "output_type": "execute_result"
    },
    {
     "data": {
      "text/html": [
       "<b>limit_output extension: Maximum message size of 10000 exceeded with 11508 characters</b>"
      ]
     },
     "metadata": {},
     "output_type": "display_data"
    }
   ],
   "source": [
    "w"
   ]
  },
  {
   "cell_type": "markdown",
   "id": "a29e38f5",
   "metadata": {},
   "source": [
    "## [분류] robust + LDA + oversampling"
   ]
  },
  {
   "cell_type": "markdown",
   "id": "0cf7ff27",
   "metadata": {},
   "source": [
    "- robust O\n",
    "- ohe X"
   ]
  },
  {
   "cell_type": "code",
   "execution_count": 99,
   "id": "a53c32fe",
   "metadata": {
    "ExecuteTime": {
     "end_time": "2021-12-16T03:38:32.093434Z",
     "start_time": "2021-12-16T03:38:32.085392Z"
    }
   },
   "outputs": [],
   "source": [
    "LDA_data = copy.deepcopy(snd_dataset)"
   ]
  },
  {
   "cell_type": "code",
   "execution_count": 100,
   "id": "1faae9e8",
   "metadata": {
    "ExecuteTime": {
     "end_time": "2021-12-16T03:38:32.506965Z",
     "start_time": "2021-12-16T03:38:32.493948Z"
    }
   },
   "outputs": [
    {
     "data": {
      "text/plain": [
       "(10000, 28)"
      ]
     },
     "execution_count": 100,
     "metadata": {},
     "output_type": "execute_result"
    }
   ],
   "source": [
    "LDA_data.shape"
   ]
  },
  {
   "cell_type": "code",
   "execution_count": 101,
   "id": "2ed59a4f",
   "metadata": {
    "ExecuteTime": {
     "end_time": "2021-12-16T03:38:33.016777Z",
     "start_time": "2021-12-16T03:38:33.007774Z"
    }
   },
   "outputs": [],
   "source": [
    "LX_train, LX_test, Ly_train, Ly_test = train_test_split(LDA_data, y_tdm, test_size=0.2, random_state=42,stratify=y_tdm)"
   ]
  },
  {
   "cell_type": "code",
   "execution_count": 106,
   "id": "7127931d",
   "metadata": {
    "ExecuteTime": {
     "end_time": "2021-12-16T03:39:41.752380Z",
     "start_time": "2021-12-16T03:39:41.725956Z"
    }
   },
   "outputs": [
    {
     "data": {
      "text/plain": [
       "(8000, 28)"
      ]
     },
     "execution_count": 106,
     "metadata": {},
     "output_type": "execute_result"
    }
   ],
   "source": [
    "LX_train.shape"
   ]
  },
  {
   "cell_type": "code",
   "execution_count": 107,
   "id": "963ed8fb",
   "metadata": {
    "ExecuteTime": {
     "end_time": "2021-12-16T03:39:49.830221Z",
     "start_time": "2021-12-16T03:39:49.779241Z"
    }
   },
   "outputs": [],
   "source": [
    "from sklearn.discriminant_analysis import LinearDiscriminantAnalysis\n",
    "from sklearn.preprocessing import StandardScaler\n",
    "import pandas as pd\n",
    "import matplotlib.pyplot as plt\n",
    "%matplotlib inline\n",
    "\n",
    "# 데이터 정규 스케일링\n",
    "std_scaler = StandardScaler()\n",
    "std_scaler.fit(LX_train)\n",
    "std_X_train = std_scaler.transform(LX_train)\n",
    "std_X_test = std_scaler.transform(LX_test)\n",
    "\n",
    "# 2개의 클래스로 구분하기 위한 LDA 생성\n",
    "lda = LinearDiscriminantAnalysis()\n",
    "\n",
    "# fit()호출 시 target값 입력 \n",
    "lda.fit(std_X_train,Ly_train)\n",
    "lda_X_train = lda.transform(std_X_train)\n",
    "lda_X_test = lda.transform(std_X_test)\n"
   ]
  },
  {
   "cell_type": "code",
   "execution_count": 109,
   "id": "5ab0e94b",
   "metadata": {
    "ExecuteTime": {
     "end_time": "2021-12-16T03:40:03.946988Z",
     "start_time": "2021-12-16T03:40:03.931335Z"
    }
   },
   "outputs": [
    {
     "data": {
      "text/plain": [
       "((8000, 1), (2000, 1), (8000,), (2000,))"
      ]
     },
     "execution_count": 109,
     "metadata": {},
     "output_type": "execute_result"
    }
   ],
   "source": [
    "lda_X_train.shape, lda_X_test.shape, Ly_train.shape, Ly_test.shape"
   ]
  },
  {
   "cell_type": "code",
   "execution_count": 119,
   "id": "e664ddcf",
   "metadata": {
    "ExecuteTime": {
     "end_time": "2021-12-16T03:42:55.582719Z",
     "start_time": "2021-12-16T03:42:55.564658Z"
    }
   },
   "outputs": [],
   "source": [
    "lda_df_X_train = pd.DataFrame(lda_X_train,columns=[\"LDA\"])\n",
    "lda_df_X_test = pd.DataFrame(lda_X_test,columns=[\"LDA\"])\n"
   ]
  },
  {
   "cell_type": "code",
   "execution_count": 120,
   "id": "c19f0870",
   "metadata": {
    "ExecuteTime": {
     "end_time": "2021-12-16T03:42:58.357156Z",
     "start_time": "2021-12-16T03:42:58.131067Z"
    }
   },
   "outputs": [],
   "source": [
    "w, model =rfr_var_select(lda_df_X_train, lda_df_X_test, Ly_train, Ly_test)"
   ]
  },
  {
   "cell_type": "code",
   "execution_count": 121,
   "id": "160239d9",
   "metadata": {
    "ExecuteTime": {
     "end_time": "2021-12-16T03:43:00.094107Z",
     "start_time": "2021-12-16T03:43:00.086068Z"
    }
   },
   "outputs": [
    {
     "data": {
      "text/html": [
       "\n",
       "    <style>\n",
       "    table.eli5-weights tr:hover {\n",
       "        filter: brightness(85%);\n",
       "    }\n",
       "</style>\n",
       "\n",
       "\n",
       "\n",
       "    \n",
       "\n",
       "    \n",
       "\n",
       "    \n",
       "\n",
       "    \n",
       "\n",
       "    \n",
       "\n",
       "    \n",
       "\n",
       "\n",
       "    \n",
       "\n",
       "    \n",
       "\n",
       "    \n",
       "\n",
       "    \n",
       "\n",
       "    \n",
       "\n",
       "    \n",
       "\n",
       "\n",
       "    \n",
       "\n",
       "    \n",
       "\n",
       "    \n",
       "\n",
       "    \n",
       "\n",
       "    \n",
       "        <table class=\"eli5-weights eli5-feature-importances\" style=\"border-collapse: collapse; border: none; margin-top: 0em; table-layout: auto;\">\n",
       "    <thead>\n",
       "    <tr style=\"border: none;\">\n",
       "        <th style=\"padding: 0 1em 0 0.5em; text-align: right; border: none;\">Weight</th>\n",
       "        <th style=\"padding: 0 0.5em 0 0.5em; text-align: left; border: none;\">Feature</th>\n",
       "    </tr>\n",
       "    </thead>\n",
       "    <tbody>\n",
       "    \n",
       "        <tr style=\"background-color: hsl(120, 100.00%, 80.00%); border: none;\">\n",
       "            <td style=\"padding: 0 1em 0 0.5em; text-align: right; border: none;\">\n",
       "                0.9433\n",
       "                \n",
       "                    &plusmn; 0.0237\n",
       "                \n",
       "            </td>\n",
       "            <td style=\"padding: 0 0.5em 0 0.5em; text-align: left; border: none;\">\n",
       "                LDA\n",
       "            </td>\n",
       "        </tr>\n",
       "    \n",
       "    \n",
       "    </tbody>\n",
       "</table>\n",
       "    \n",
       "\n",
       "    \n",
       "\n",
       "\n",
       "    \n",
       "\n",
       "    \n",
       "\n",
       "    \n",
       "\n",
       "    \n",
       "\n",
       "    \n",
       "\n",
       "    \n",
       "\n",
       "\n",
       "\n"
      ],
      "text/plain": [
       "<IPython.core.display.HTML object>"
      ]
     },
     "execution_count": 121,
     "metadata": {},
     "output_type": "execute_result"
    }
   ],
   "source": [
    "w"
   ]
  },
  {
   "cell_type": "code",
   "execution_count": 123,
   "id": "2e2d76d9",
   "metadata": {
    "ExecuteTime": {
     "end_time": "2021-12-16T03:44:18.581723Z",
     "start_time": "2021-12-16T03:44:18.565717Z"
    }
   },
   "outputs": [],
   "source": [
    "from sklearn.model_selection import cross_val_score"
   ]
  },
  {
   "cell_type": "code",
   "execution_count": 124,
   "id": "b4ae26ca",
   "metadata": {
    "ExecuteTime": {
     "end_time": "2021-12-16T03:44:38.723974Z",
     "start_time": "2021-12-16T03:44:38.232844Z"
    }
   },
   "outputs": [
    {
     "data": {
      "text/plain": [
       "array([1., 1., 1., 1., 1.])"
      ]
     },
     "execution_count": 124,
     "metadata": {},
     "output_type": "execute_result"
    }
   ],
   "source": [
    "cross_val_score(model,lda_df_X_test,Ly_test)"
   ]
  },
  {
   "cell_type": "markdown",
   "id": "fa5aa40f",
   "metadata": {},
   "source": [
    "# 모델 만들기 (앙상블 -> 메타모델)"
   ]
  },
  {
   "cell_type": "markdown",
   "id": "5883cccd",
   "metadata": {},
   "source": [
    "## [함수] 모델별 성능 확인 & 시각화"
   ]
  },
  {
   "cell_type": "code",
   "execution_count": 28,
   "id": "8642be65",
   "metadata": {
    "ExecuteTime": {
     "end_time": "2021-12-16T05:07:50.880120Z",
     "start_time": "2021-12-16T05:07:50.855115Z"
    }
   },
   "outputs": [],
   "source": [
    "import matplotlib.pyplot as plt\n",
    "import seaborn as sns\n",
    "from sklearn.metrics import mean_squared_error, accuracy_score\n",
    "\n",
    "my_predictions = {}\n",
    "my_pred = None\n",
    "my_actual = None\n",
    "my_name = None\n",
    "\n",
    "colors = ['r', 'c', 'm', 'y', 'k', 'khaki', 'teal', 'orchid', 'sandybrown',\n",
    "          'greenyellow', 'dodgerblue', 'deepskyblue', 'rosybrown', 'firebrick',\n",
    "          'deeppink', 'crimson', 'salmon', 'darkred', 'olivedrab', 'olive', \n",
    "          'forestgreen', 'royalblue', 'indigo', 'navy', 'mediumpurple', 'chocolate',\n",
    "          'gold', 'darkorange', 'seagreen', 'turquoise', 'steelblue', 'slategray', \n",
    "          'peru', 'midnightblue', 'slateblue', 'dimgray', 'cadetblue', 'tomato'\n",
    "         ]\n",
    " \n",
    "def plot_predictions(name_, pred, actual,isgraph = False, target_CR = \"C\"):\n",
    "    \n",
    "    if target_CR == \"C\":\n",
    "        df = pd.DataFrame({'prediction': pred, 'actual': Cy_test})\n",
    "    elif target_CR == \"R\":\n",
    "        df = pd.DataFrame({'prediction': pred, 'actual': Ry_test})\n",
    "    else:\n",
    "        print(\"Target Regression? Classification? 다시 입력하시오\")\n",
    "        raise \"ERROR\"\n",
    "        \n",
    "    df = df.sort_values(by='actual').reset_index(drop=True)\n",
    "    \n",
    "    if isgraph:\n",
    "        plt.figure(figsize=(11, 8))\n",
    "        plt.scatter(df.index, df['prediction'], marker='x', color='r')\n",
    "        plt.scatter(df.index, df['actual'], alpha=0.7, marker='o', color='black')\n",
    "        plt.title(name_, fontsize=15)\n",
    "        plt.legend(['prediction', 'actual'], fontsize=12)\n",
    "        plt.show()\n",
    "\n",
    "def rmse_eval(name_, pred, actual, isgraph = False):\n",
    "    global my_predictions, colors, my_pred, my_actual, my_name\n",
    "    \n",
    "    my_name = name_\n",
    "    my_pred = pred\n",
    "    my_actual = actual\n",
    "\n",
    "    plot_predictions(name_, pred, actual,isgraph)\n",
    "\n",
    "    rmse = mean_squared_error(pred, actual,squared=False)\n",
    "    my_predictions[name_] = rmse\n",
    "\n",
    "    y_value = sorted(my_predictions.items(), key=lambda x: x[1], reverse=True)\n",
    "    \n",
    "    df = pd.DataFrame(y_value, columns=['model', 'rmse'])\n",
    "    print(df)\n",
    "    min_ = df['rmse'].min() - 10\n",
    "    max_ = df['rmse'].max() + 10\n",
    "    \n",
    "    length = len(df) / 2\n",
    "    \n",
    "    \n",
    "    \n",
    "    if isgraph:\n",
    "        plt.figure(figsize=(9, length))\n",
    "        ax = plt.subplot()\n",
    "        ax.set_yticks(np.arange(len(df)))\n",
    "        ax.set_yticklabels(df['model'], fontsize=12)\n",
    "        bars = ax.barh(np.arange(len(df)), df['rmse'], height=0.3)\n",
    "\n",
    "        for i, v in enumerate(df['rmse']):\n",
    "            idx = np.random.choice(len(colors))\n",
    "            bars[i].set_color(colors[idx])\n",
    "            ax.text(v + 2, i, str(round(v, 3)), color='k', fontsize=12, fontweight='bold', verticalalignment='center')\n",
    "        \n",
    "        \n",
    "        plt.title('RMSE Error', fontsize=16)\n",
    "        plt.xlim(min_, max_)\n",
    "\n",
    "        plt.show()\n",
    "    \n",
    "def add_model(name_, pred, actual):\n",
    "    global my_predictions, my_pred, my_actual, my_name\n",
    "    my_name = name_\n",
    "    my_pred = pred\n",
    "    my_actual = actual\n",
    "    \n",
    "    rmse = mean_squared_error(pred, actual,squared=False)\n",
    "    my_predictions[name_] = rmse\n",
    "\n",
    "def remove_model(name_):\n",
    "    global my_predictions\n",
    "    try:\n",
    "        del my_predictions[name_]\n",
    "    except KeyError:\n",
    "        return False\n",
    "    return True\n",
    "\n",
    "def plot_all():\n",
    "    global my_predictions, my_pred, my_actual, my_name\n",
    "    \n",
    "    plot_predictions(my_name, my_pred, my_actual,True)\n",
    "    \n",
    "    y_value = sorted(my_predictions.items(), key=lambda x: x[1], reverse=True)\n",
    "    \n",
    "    df = pd.DataFrame(y_value, columns=['model', 'rmse'])\n",
    "    print(df)\n",
    "    min_ = df['rmse'].min() - 10\n",
    "    max_ = df['rmse'].max() + 10\n",
    "    \n",
    "    length = len(df) / 2\n",
    "    \n",
    "    plt.figure(figsize=(9, length))\n",
    "    ax = plt.subplot()\n",
    "    ax.set_yticks(np.arange(len(df)))\n",
    "    ax.set_yticklabels(df['model'], fontsize=12)\n",
    "    bars = ax.barh(np.arange(len(df)), df['rmse'], height=0.3)\n",
    "    \n",
    "    for i, v in enumerate(df['rmse']):\n",
    "        idx = np.random.choice(len(colors))\n",
    "        bars[i].set_color(colors[idx])\n",
    "        ax.text(v + 2, i, str(round(v, 3)), color='k', fontsize=12, fontweight='bold', verticalalignment='center')\n",
    "        \n",
    "    plt.title('RMSE Error', fontsize=16)\n",
    "    plt.xlim(min_, max_)\n",
    "    \n",
    "    plt.show()\n",
    "    \n",
    "def acc_eval(name_, pred, actual, isgraph = False):\n",
    "    global my_predictions, colors, my_pred, my_actual, my_name\n",
    "    \n",
    "    my_name = name_\n",
    "    my_pred = pred\n",
    "    my_actual = actual\n",
    "\n",
    "    plot_predictions(name_, pred, actual,isgraph)\n",
    "\n",
    "    rmse = accuracy_score(pred, actual)\n",
    "    my_predictions[name_] = rmse\n",
    "\n",
    "    y_value = sorted(my_predictions.items(), key=lambda x: x[1], reverse=True)\n",
    "    \n",
    "    df = pd.DataFrame(y_value, columns=['model', 'accuracy'])\n",
    "    print(df)\n",
    "    min_ = df['accuracy'].min() - 10\n",
    "    max_ = df['accuracy'].max() + 10\n",
    "    \n",
    "    length = len(df) / 2\n",
    "    \n",
    "    \n",
    "    \n",
    "    if isgraph:\n",
    "        plt.figure(figsize=(9, length))\n",
    "        ax = plt.subplot()\n",
    "        ax.set_yticks(np.arange(len(df)))\n",
    "        ax.set_yticklabels(df['model'], fontsize=12)\n",
    "        bars = ax.barh(np.arange(len(df)), df['accuracy'], height=0.3)\n",
    "\n",
    "        for i, v in enumerate(df['accuracy']):\n",
    "            idx = np.random.choice(len(colors))\n",
    "            bars[i].set_color(colors[idx])\n",
    "            ax.text(v + 2, i, str(round(v, 3)), color='k', fontsize=12, fontweight='bold', verticalalignment='center')\n",
    "        \n",
    "        \n",
    "        plt.title('accuracy', fontsize=16)\n",
    "        plt.xlim(min_, max_)\n",
    "\n",
    "        plt.show()"
   ]
  },
  {
   "cell_type": "markdown",
   "id": "57e1342c",
   "metadata": {},
   "source": [
    "## 모델 학습"
   ]
  },
  {
   "cell_type": "code",
   "execution_count": 29,
   "id": "c7ef54a0",
   "metadata": {
    "ExecuteTime": {
     "end_time": "2021-12-16T05:07:54.227808Z",
     "start_time": "2021-12-16T05:07:53.450401Z"
    }
   },
   "outputs": [],
   "source": [
    "from sklearn.linear_model import LinearRegression\n",
    "from sklearn.linear_model import Ridge\n",
    "from sklearn.linear_model import Lasso\n",
    "from sklearn.linear_model import ElasticNet\n",
    "from sklearn.preprocessing import StandardScaler, MinMaxScaler\n",
    "from sklearn.pipeline import make_pipeline\n",
    "from sklearn.preprocessing import PolynomialFeatures\n",
    "from sklearn.ensemble import RandomForestRegressor, RandomForestClassifier\n",
    "from lightgbm import LGBMRegressor, LGBMClassifier\n",
    "from xgboost import XGBRegressor, XGBClassifier\n",
    "from sklearn.naive_bayes import GaussianNB,BernoulliNB"
   ]
  },
  {
   "cell_type": "markdown",
   "id": "1aaa4729",
   "metadata": {},
   "source": [
    "### [기준]target 기초통계량"
   ]
  },
  {
   "cell_type": "code",
   "execution_count": 127,
   "id": "e3d6020f",
   "metadata": {
    "ExecuteTime": {
     "end_time": "2021-12-16T03:45:25.709386Z",
     "start_time": "2021-12-16T03:45:25.608281Z"
    }
   },
   "outputs": [
    {
     "data": {
      "text/plain": [
       "<AxesSubplot:>"
      ]
     },
     "execution_count": 127,
     "metadata": {},
     "output_type": "execute_result"
    },
    {
     "data": {
      "image/png": "[encoded data removed]",
      "text/plain": [
       "<Figure size 432x288 with 1 Axes>"
      ]
     },
     "metadata": {
      "needs_background": "light"
     },
     "output_type": "display_data"
    }
   ],
   "source": [
    "Cy_train.hist()"
   ]
  },
  {
   "cell_type": "code",
   "execution_count": 128,
   "id": "e8d82114",
   "metadata": {
    "ExecuteTime": {
     "end_time": "2021-12-16T03:45:26.288711Z",
     "start_time": "2021-12-16T03:45:26.262887Z"
    }
   },
   "outputs": [
    {
     "data": {
      "text/plain": [
       "count    8000.000000\n",
       "mean        0.070750\n",
       "std         0.256423\n",
       "min         0.000000\n",
       "25%         0.000000\n",
       "50%         0.000000\n",
       "75%         0.000000\n",
       "max         1.000000\n",
       "Name: T_DM, dtype: float64"
      ]
     },
     "execution_count": 128,
     "metadata": {},
     "output_type": "execute_result"
    }
   ],
   "source": [
    "Cy_train.describe()"
   ]
  },
  {
   "cell_type": "markdown",
   "id": "d333cea2",
   "metadata": {},
   "source": [
    "## 하이퍼 파라미터 튜닝"
   ]
  },
  {
   "cell_type": "markdown",
   "id": "ff14995f",
   "metadata": {},
   "source": [
    "### [함수화] 분류 + ohe + roboust_over"
   ]
  },
  {
   "cell_type": "code",
   "execution_count": 129,
   "id": "89e79624",
   "metadata": {
    "ExecuteTime": {
     "end_time": "2021-12-16T03:45:35.044112Z",
     "start_time": "2021-12-16T03:45:35.039080Z"
    }
   },
   "outputs": [],
   "source": [
    "from sklearn.ensemble import RandomForestClassifier\n",
    "from xgboost import XGBClassifier\n",
    "from lightgbm import LGBMClassifier\n",
    "from sklearn.naive_bayes import BernoulliNB, GaussianNB, MultinomialNB # 이진분류  BernoulliNB, 일반적인 상황 GaussianNB"
   ]
  },
  {
   "cell_type": "markdown",
   "id": "fa3950e2",
   "metadata": {},
   "source": [
    "CXtrain_ohe_robust_over, CXtest_robustScaled_df, Cytrain_ohe_robust_over, Cy_test"
   ]
  },
  {
   "cell_type": "markdown",
   "id": "8f36dc37",
   "metadata": {},
   "source": [
    "CXtrain_robust_over_lda_df, \n",
    "                                           CXtest_robust_lda_df, \n",
    "                                           CL_y_train_over, \n",
    "                                           CLy_test"
   ]
  },
  {
   "cell_type": "code",
   "execution_count": 130,
   "id": "148a343f",
   "metadata": {
    "ExecuteTime": {
     "end_time": "2021-12-16T03:45:39.631528Z",
     "start_time": "2021-12-16T03:45:39.615885Z"
    }
   },
   "outputs": [],
   "source": [
    "best_prams = [['LGBMClassifier',\n",
    "   {'n_estimators': 150, 'max_depth': 30}],\n",
    " ['XGBClassifier',\n",
    "  {'random_state': 2,\n",
    "   'nthread': 4,\n",
    "   'n_estimators': 50,\n",
    "   'min_child_weight': 3,\n",
    "   'max_depth': 8,\n",
    "   'gamma': 3,\n",
    "   'colsample_bytree': 0.5,\n",
    "   'colsample_bylevel': 0.9,\n",
    "   'eval_metric': 'logloss'}],\n",
    " ['RandomForestClassifier',\n",
    "  {'random_state' : 42,\n",
    "    'max_depth': 12,\n",
    "   'min_samples_leaf': 8,\n",
    "   'min_samples_split': 8,\n",
    "   'n_estimators': 100}]]"
   ]
  },
  {
   "cell_type": "markdown",
   "id": "91d8a05d",
   "metadata": {},
   "source": [
    "## lgbm C 튜닝"
   ]
  },
  {
   "cell_type": "markdown",
   "id": "d638d7aa",
   "metadata": {},
   "source": [
    "CXtrain_ohe_robust_over, CXtest_robustScaled_df, Cytrain_ohe_robust_over, Cy_test"
   ]
  },
  {
   "cell_type": "code",
   "execution_count": null,
   "id": "7c04902b",
   "metadata": {
    "ExecuteTime": {
     "end_time": "2021-12-16T02:17:07.180482Z",
     "start_time": "2021-12-16T02:17:07.180482Z"
    }
   },
   "outputs": [],
   "source": [
    "from sklearn.model_selection import GridSearchCV,RandomizedSearchCV"
   ]
  },
  {
   "cell_type": "code",
   "execution_count": null,
   "id": "f2a05ac2",
   "metadata": {
    "ExecuteTime": {
     "end_time": "2021-12-16T02:17:07.181481Z",
     "start_time": "2021-12-16T02:17:07.181481Z"
    }
   },
   "outputs": [],
   "source": [
    "num_leaves = 2^(max_depth)"
   ]
  },
  {
   "cell_type": "code",
   "execution_count": null,
   "id": "803e3fd9",
   "metadata": {
    "ExecuteTime": {
     "end_time": "2021-12-16T02:17:07.182482Z",
     "start_time": "2021-12-16T02:17:07.182482Z"
    }
   },
   "outputs": [],
   "source": [
    "params = {\n",
    "    'n_estimators': [50,100,150,200], \n",
    "    'max_depth': [30,40,50]\n",
    "}"
   ]
  },
  {
   "cell_type": "code",
   "execution_count": null,
   "id": "fee8773e",
   "metadata": {
    "ExecuteTime": {
     "end_time": "2021-12-16T02:17:07.183483Z",
     "start_time": "2021-12-16T02:17:07.183483Z"
    },
    "scrolled": true
   },
   "outputs": [],
   "source": [
    "\n",
    "clf = RandomizedSearchCV(LGBMClassifier(), params, random_state=42, cv=3, n_iter=25, scoring='neg_mean_squared_error')\n",
    "\n",
    "clf.fit(CXtrain_ohe_robust_over, Cytrain_ohe_robust_over)\n",
    "\n",
    "print('최적 하이퍼 파라미터: ', clf.best_params_)\n",
    "print('최고 예측 정확도: {:.4f}'.format(clf.best_score_))"
   ]
  },
  {
   "cell_type": "code",
   "execution_count": null,
   "id": "da3daa62",
   "metadata": {
    "ExecuteTime": {
     "end_time": "2021-12-16T02:17:07.184483Z",
     "start_time": "2021-12-16T02:17:07.184483Z"
    }
   },
   "outputs": [],
   "source": [
    "best_prams = []"
   ]
  },
  {
   "cell_type": "code",
   "execution_count": null,
   "id": "f5fb021f",
   "metadata": {
    "ExecuteTime": {
     "end_time": "2021-12-16T02:17:07.185483Z",
     "start_time": "2021-12-16T02:17:07.185483Z"
    }
   },
   "outputs": [],
   "source": [
    "best_prams.append([\"LGBMClassifier\",clf.best_params_])"
   ]
  },
  {
   "cell_type": "code",
   "execution_count": null,
   "id": "9a30fd29",
   "metadata": {
    "ExecuteTime": {
     "end_time": "2021-12-16T02:17:07.186484Z",
     "start_time": "2021-12-16T02:17:07.186484Z"
    }
   },
   "outputs": [],
   "source": [
    "# {'n_estimators': 150, 'max_depth': 30}\n",
    "best_lgbmc = LGBMClassifier(**clf.best_params_)"
   ]
  },
  {
   "cell_type": "markdown",
   "id": "0c181117",
   "metadata": {},
   "source": [
    "## xgbm 튜닝"
   ]
  },
  {
   "cell_type": "code",
   "execution_count": null,
   "id": "dbacc66e",
   "metadata": {
    "ExecuteTime": {
     "end_time": "2021-12-16T02:17:07.187483Z",
     "start_time": "2021-12-16T02:17:07.187483Z"
    }
   },
   "outputs": [],
   "source": [
    "from xgboost import XGBClassifier\n",
    "\n",
    "params={'max_depth':[5,6,8],\n",
    "                 'min_child_weight':[1,3,5],\n",
    "                 'gamma':[0,1,2,3],\n",
    "                 'nthread':[4],\n",
    "                 'colsample_bytree':[0.5,0.8],\n",
    "                 'colsample_bylevel':[0.9],\n",
    "                 'n_estimators':[50],\n",
    "                 'random_state':[2]}"
   ]
  },
  {
   "cell_type": "code",
   "execution_count": null,
   "id": "0b69a295",
   "metadata": {
    "ExecuteTime": {
     "end_time": "2021-12-16T02:17:07.188483Z",
     "start_time": "2021-12-16T02:17:07.188483Z"
    },
    "scrolled": false
   },
   "outputs": [],
   "source": [
    "\n",
    "clf = RandomizedSearchCV(XGBClassifier(eval_metric='logloss'), params, random_state=42, cv=3, n_iter=25, scoring='neg_mean_squared_error')\n",
    "\n",
    "clf.fit(CXtrain_ohe_robust_over, Cytrain_ohe_robust_over)\n",
    "\n",
    "print('최적 하이퍼 파라미터: ', clf.best_params_)\n",
    "print('최고 예측 정확도: {:.4f}'.format(clf.best_score_))"
   ]
  },
  {
   "cell_type": "code",
   "execution_count": null,
   "id": "651b4bfb",
   "metadata": {
    "ExecuteTime": {
     "end_time": "2021-12-16T02:17:07.189483Z",
     "start_time": "2021-12-16T02:17:07.189483Z"
    }
   },
   "outputs": [],
   "source": [
    "bestdict = clf.best_params_\n",
    "bestdict[\"eval_metric\"] = \"logloss\""
   ]
  },
  {
   "cell_type": "code",
   "execution_count": null,
   "id": "4e2839ad",
   "metadata": {
    "ExecuteTime": {
     "end_time": "2021-12-16T02:17:07.190485Z",
     "start_time": "2021-12-16T02:17:07.190485Z"
    }
   },
   "outputs": [],
   "source": [
    "best_prams.append([\"XGBClassifier\",bestdict])"
   ]
  },
  {
   "cell_type": "code",
   "execution_count": null,
   "id": "1dab025d",
   "metadata": {
    "ExecuteTime": {
     "end_time": "2021-12-16T02:17:07.191484Z",
     "start_time": "2021-12-16T02:17:07.191484Z"
    }
   },
   "outputs": [],
   "source": [
    "bestdict"
   ]
  },
  {
   "cell_type": "code",
   "execution_count": null,
   "id": "226af1dc",
   "metadata": {
    "ExecuteTime": {
     "end_time": "2021-12-16T02:17:07.192486Z",
     "start_time": "2021-12-16T02:17:07.192486Z"
    }
   },
   "outputs": [],
   "source": [
    "best_XGBc = XGBClassifier(**bestdict)"
   ]
  },
  {
   "cell_type": "markdown",
   "id": "65cd4b9f",
   "metadata": {},
   "source": [
    "## rfr c 튜닝"
   ]
  },
  {
   "cell_type": "code",
   "execution_count": null,
   "id": "fd354c64",
   "metadata": {
    "ExecuteTime": {
     "end_time": "2021-12-16T02:17:07.193485Z",
     "start_time": "2021-12-16T02:17:07.193485Z"
    }
   },
   "outputs": [],
   "source": [
    "from sklearn.model_selection import GridSearchCV\n",
    "\n",
    "params = { 'n_estimators' : [10, 100],\n",
    "           'max_depth' : [6, 8, 10, 12],\n",
    "           'min_samples_leaf' : [8, 12, 18],\n",
    "           'min_samples_split' : [8, 16, 20]\n",
    "            }\n",
    "\n",
    "# RandomForestClassifier 객체 생성 후 GridSearchCV 수행\n",
    "rf_clf = RandomForestClassifier(random_state = 0, n_jobs = -1)\n",
    "grid_cv = GridSearchCV(rf_clf, param_grid = params, cv = 3, n_jobs = -1)\n",
    "grid_cv.fit(CXtrain_ohe_robust_over, Cytrain_ohe_robust_over)\n",
    "\n",
    "print('최적 하이퍼 파라미터: ', grid_cv.best_params_)\n",
    "print('최고 예측 정확도: {:.4f}'.format(grid_cv.best_score_))"
   ]
  },
  {
   "cell_type": "code",
   "execution_count": null,
   "id": "7f0c34f7",
   "metadata": {
    "ExecuteTime": {
     "end_time": "2021-12-16T02:17:07.194485Z",
     "start_time": "2021-12-16T02:17:07.194485Z"
    }
   },
   "outputs": [],
   "source": [
    "best_prams.append([\"RandomForestClassifier\",grid_cv.best_params_])"
   ]
  },
  {
   "cell_type": "code",
   "execution_count": null,
   "id": "3dc5cadb",
   "metadata": {
    "ExecuteTime": {
     "end_time": "2021-12-16T02:17:07.195483Z",
     "start_time": "2021-12-16T02:17:07.195483Z"
    }
   },
   "outputs": [],
   "source": [
    "best_prams\n",
    "best_prams[2][1][\"random_state\"] = 42"
   ]
  },
  {
   "cell_type": "markdown",
   "id": "ab18b266",
   "metadata": {},
   "source": [
    "# 재료 모델 학습 시작"
   ]
  },
  {
   "cell_type": "markdown",
   "id": "fabf43ad",
   "metadata": {},
   "source": [
    "# xgb "
   ]
  },
  {
   "cell_type": "code",
   "execution_count": 102,
   "id": "55e528c9",
   "metadata": {
    "ExecuteTime": {
     "end_time": "2021-12-16T06:02:02.655423Z",
     "start_time": "2021-12-16T06:02:02.644349Z"
    }
   },
   "outputs": [],
   "source": [
    "accuracy_list = []\n",
    "model_list = []\n",
    "model_preds =[]"
   ]
  },
  {
   "cell_type": "code",
   "execution_count": 103,
   "id": "55cdd527",
   "metadata": {
    "ExecuteTime": {
     "end_time": "2021-12-16T06:02:03.404657Z",
     "start_time": "2021-12-16T06:02:03.105672Z"
    }
   },
   "outputs": [
    {
     "name": "stdout",
     "output_type": "stream",
     "text": [
      "     model  accuracy\n",
      "0  XGBoost    0.9275\n"
     ]
    }
   ],
   "source": [
    "xgb = XGBClassifier(**best_prams[1][1])\n",
    "xgb.fit(CXtrain_ohe_robust_over,Cytrain_ohe_robust_over)\n",
    "xgb_pred = xgb.predict(CXtest_robustScaled_df)\n",
    "acc_eval('XGBoost', xgb_pred, Cy_test)\n",
    "    \n"
   ]
  },
  {
   "cell_type": "code",
   "execution_count": 104,
   "id": "0a84a7dd",
   "metadata": {
    "ExecuteTime": {
     "end_time": "2021-12-16T06:02:04.187834Z",
     "start_time": "2021-12-16T06:02:04.182809Z"
    }
   },
   "outputs": [],
   "source": [
    "model_list.append(xgb)\n",
    "model_preds.append(xgb_pred)\n",
    "acc = accuracy_score(Cy_test,xgb_pred)\n",
    "accuracy_list.append(('XGBClassifier', acc))"
   ]
  },
  {
   "cell_type": "markdown",
   "id": "6e14a36b",
   "metadata": {},
   "source": [
    "# lgbm"
   ]
  },
  {
   "cell_type": "code",
   "execution_count": 105,
   "id": "f8e43783",
   "metadata": {
    "ExecuteTime": {
     "end_time": "2021-12-16T06:02:05.433114Z",
     "start_time": "2021-12-16T06:02:05.190675Z"
    }
   },
   "outputs": [
    {
     "name": "stdout",
     "output_type": "stream",
     "text": [
      "     model  accuracy\n",
      "0  XGBoost    0.9275\n",
      "1     LGBM    0.9275\n"
     ]
    }
   ],
   "source": [
    "#lgb\n",
    "lgbm = LGBMClassifier(**best_prams[0][1])\n",
    "lgbm.fit(CXtrain_ohe_robust_over,Cytrain_ohe_robust_over)\n",
    "lgbm_pred = lgbm.predict(CXtest_robustScaled_df)\n",
    "acc_eval('LGBM', lgbm_pred, Cy_test)"
   ]
  },
  {
   "cell_type": "code",
   "execution_count": 106,
   "id": "8499778b",
   "metadata": {
    "ExecuteTime": {
     "end_time": "2021-12-16T06:02:05.878534Z",
     "start_time": "2021-12-16T06:02:05.869355Z"
    }
   },
   "outputs": [],
   "source": [
    "model_list.append(lgbm)\n",
    "model_preds.append(lgbm_pred)\n",
    "acc = accuracy_score(Cy_test,lgbm_pred)\n",
    "accuracy_list.append(('LGBMClassifier', acc))"
   ]
  },
  {
   "cell_type": "markdown",
   "id": "81888437",
   "metadata": {},
   "source": [
    "# BernoulliNB"
   ]
  },
  {
   "cell_type": "markdown",
   "id": "8397704b",
   "metadata": {},
   "source": [
    "- 나이브베이즈 기반 알고리즘, 이진 분류와 텍스트 처리에 사용됨\n",
    "- 통계 기반 "
   ]
  },
  {
   "cell_type": "code",
   "execution_count": 107,
   "id": "4f7d8427",
   "metadata": {
    "ExecuteTime": {
     "end_time": "2021-12-16T06:02:07.457141Z",
     "start_time": "2021-12-16T06:02:07.441515Z"
    }
   },
   "outputs": [
    {
     "name": "stdout",
     "output_type": "stream",
     "text": [
      "         model  accuracy\n",
      "0      XGBoost    0.9275\n",
      "1         LGBM    0.9275\n",
      "2  BernoulliNB    0.5465\n"
     ]
    }
   ],
   "source": [
    "# bern\n",
    "bern = BernoulliNB()\n",
    "bern.fit(CXtrain_ohe_robust_over,Cytrain_ohe_robust_over)\n",
    "bern_pred = bern.predict(CXtest_robustScaled_df)\n",
    "acc_eval('BernoulliNB', bern_pred, Cy_test)\n",
    "\n",
    "model_list.append(bern)\n",
    "model_preds.append(bern_pred)\n",
    "acc = accuracy_score(Cy_test,bern_pred)\n",
    "accuracy_list.append(('BernoulliNB', acc))"
   ]
  },
  {
   "cell_type": "markdown",
   "id": "658d7aec",
   "metadata": {},
   "source": [
    "# RFR"
   ]
  },
  {
   "cell_type": "markdown",
   "id": "3b9e01af",
   "metadata": {},
   "source": [
    "- 과적합에 강한 RandomForest 모델\n",
    "- 여러 개의 분류기(Classifier)를 생성하고 그 예측을 결합함으로써 보다 정확한 최종 예측을 도출하는 기법"
   ]
  },
  {
   "cell_type": "code",
   "execution_count": 108,
   "id": "df70edef",
   "metadata": {
    "ExecuteTime": {
     "end_time": "2021-12-16T06:02:10.842507Z",
     "start_time": "2021-12-16T06:02:09.432077Z"
    }
   },
   "outputs": [
    {
     "data": {
      "image/png": "[encoded data removed]",
      "text/plain": [
       "<Figure size 792x576 with 1 Axes>"
      ]
     },
     "metadata": {
      "needs_background": "light"
     },
     "output_type": "display_data"
    },
    {
     "name": "stdout",
     "output_type": "stream",
     "text": [
      "                     model  accuracy\n",
      "0                  XGBoost    0.9275\n",
      "1                     LGBM    0.9275\n",
      "2  RandomForest Classifier    0.7955\n",
      "3              BernoulliNB    0.5465\n"
     ]
    },
    {
     "data": {
      "image/png": "[encoded data removed]",
      "text/plain": [
       "<Figure size 648x144 with 1 Axes>"
      ]
     },
     "metadata": {
      "needs_background": "light"
     },
     "output_type": "display_data"
    }
   ],
   "source": [
    "#rfr\n",
    "rfr = RandomForestClassifier(**best_prams[2][1])\n",
    "rfr.fit(CXtrain_ohe_robust_over,Cytrain_ohe_robust_over)\n",
    "rfr_pred = rfr.predict(CXtest_robustScaled_df)\n",
    "acc_eval('RandomForest Classifier', rfr_pred, Cy_test,True)\n"
   ]
  },
  {
   "cell_type": "code",
   "execution_count": 109,
   "id": "a00206ef",
   "metadata": {
    "ExecuteTime": {
     "end_time": "2021-12-16T06:02:10.858075Z",
     "start_time": "2021-12-16T06:02:10.844141Z"
    }
   },
   "outputs": [],
   "source": [
    "model_list.append(rfr)\n",
    "model_preds.append(rfr_pred)\n",
    "acc = accuracy_score(Cy_test,rfr_pred)\n",
    "accuracy_list.append(('RandomForest Classifier', acc))"
   ]
  },
  {
   "cell_type": "markdown",
   "id": "8768b0b9",
   "metadata": {},
   "source": [
    "# SVC"
   ]
  },
  {
   "cell_type": "markdown",
   "id": "a42c7daf",
   "metadata": {},
   "source": [
    "- 경계 기반 분류"
   ]
  },
  {
   "cell_type": "code",
   "execution_count": 110,
   "id": "65d0bf31",
   "metadata": {
    "ExecuteTime": {
     "end_time": "2021-12-16T06:02:11.706313Z",
     "start_time": "2021-12-16T06:02:11.699273Z"
    }
   },
   "outputs": [],
   "source": [
    "from sklearn.svm import SVC"
   ]
  },
  {
   "cell_type": "code",
   "execution_count": 111,
   "id": "64a2e293",
   "metadata": {
    "ExecuteTime": {
     "end_time": "2021-12-16T06:02:24.866329Z",
     "start_time": "2021-12-16T06:02:12.153681Z"
    }
   },
   "outputs": [],
   "source": [
    "svc = SVC()\n",
    "svc.fit(CXtrain_ohe_robust_over,Cytrain_ohe_robust_over)\n",
    "svc_pred = svc.predict(CXtest_robustScaled_df)"
   ]
  },
  {
   "cell_type": "code",
   "execution_count": 112,
   "id": "ace8cae1",
   "metadata": {
    "ExecuteTime": {
     "end_time": "2021-12-16T06:02:25.250889Z",
     "start_time": "2021-12-16T06:02:24.868347Z"
    }
   },
   "outputs": [
    {
     "data": {
      "image/png": "[encoded data removed]",
      "text/plain": [
       "<Figure size 792x576 with 1 Axes>"
      ]
     },
     "metadata": {
      "needs_background": "light"
     },
     "output_type": "display_data"
    },
    {
     "name": "stdout",
     "output_type": "stream",
     "text": [
      "                     model  accuracy\n",
      "0                  XGBoost    0.9275\n",
      "1                     LGBM    0.9275\n",
      "2  RandomForest Classifier    0.7955\n",
      "3            SVClassifier     0.6350\n",
      "4              BernoulliNB    0.5465\n"
     ]
    },
    {
     "data": {
      "image/png": "[encoded data removed]",
      "text/plain": [
       "<Figure size 648x180 with 1 Axes>"
      ]
     },
     "metadata": {
      "needs_background": "light"
     },
     "output_type": "display_data"
    }
   ],
   "source": [
    "acc_eval('SVClassifier ', svc_pred, Cy_test,True)"
   ]
  },
  {
   "cell_type": "code",
   "execution_count": 113,
   "id": "28a46a02",
   "metadata": {
    "ExecuteTime": {
     "end_time": "2021-12-16T06:02:25.266789Z",
     "start_time": "2021-12-16T06:02:25.251897Z"
    }
   },
   "outputs": [],
   "source": [
    "model_list.append(svc)\n",
    "model_preds.append(svc_pred)\n",
    "acc = accuracy_score(Cy_test,svc_pred)\n",
    "accuracy_list.append(('SVClassifier', acc))"
   ]
  },
  {
   "cell_type": "markdown",
   "id": "d9ba1fff",
   "metadata": {},
   "source": [
    "# voting classifier"
   ]
  },
  {
   "cell_type": "markdown",
   "id": "34d69037",
   "metadata": {},
   "source": [
    "- 다수결로 결정하는 Voting 방식"
   ]
  },
  {
   "cell_type": "code",
   "execution_count": 114,
   "id": "11ef39f5",
   "metadata": {
    "ExecuteTime": {
     "end_time": "2021-12-16T06:02:25.282771Z",
     "start_time": "2021-12-16T06:02:25.267790Z"
    }
   },
   "outputs": [],
   "source": [
    "from sklearn.ensemble import VotingClassifier"
   ]
  },
  {
   "cell_type": "code",
   "execution_count": 115,
   "id": "9c9d9b9e",
   "metadata": {
    "ExecuteTime": {
     "end_time": "2021-12-16T06:02:25.298630Z",
     "start_time": "2021-12-16T06:02:25.284967Z"
    }
   },
   "outputs": [],
   "source": [
    "voting_models = []\n",
    "for model in model_list:\n",
    "    voting_models.append((model.__class__.__name__, model))"
   ]
  },
  {
   "cell_type": "code",
   "execution_count": 116,
   "id": "89b61700",
   "metadata": {
    "ExecuteTime": {
     "end_time": "2021-12-16T06:02:39.908061Z",
     "start_time": "2021-12-16T06:02:25.300534Z"
    }
   },
   "outputs": [
    {
     "data": {
      "text/plain": [
       "VotingClassifier(estimators=[('XGBClassifier',\n",
       "                              XGBClassifier(base_score=0.5, booster='gbtree',\n",
       "                                            colsample_bylevel=0.9,\n",
       "                                            colsample_bynode=1,\n",
       "                                            colsample_bytree=0.5,\n",
       "                                            enable_categorical=False,\n",
       "                                            eval_metric='logloss', gamma=3,\n",
       "                                            gpu_id=-1, importance_type=None,\n",
       "                                            interaction_constraints='',\n",
       "                                            learning_rate=0.300000012,\n",
       "                                            max_delta_step=0, max_depth=8,\n",
       "                                            min_child_weight=3, missing=n...\n",
       "                                            reg_alpha=0, reg_lambda=1,\n",
       "                                            scale_pos_weight=1, subsample=1,\n",
       "                                            tree_method='exact',\n",
       "                                            validate_parameters=1,\n",
       "                                            verbosity=None)),\n",
       "                             ('LGBMClassifier',\n",
       "                              LGBMClassifier(max_depth=30, n_estimators=150)),\n",
       "                             ('BernoulliNB', BernoulliNB()),\n",
       "                             ('RandomForestClassifier',\n",
       "                              RandomForestClassifier(max_depth=12,\n",
       "                                                     min_samples_leaf=8,\n",
       "                                                     min_samples_split=8,\n",
       "                                                     random_state=42)),\n",
       "                             ('SVC', SVC())],\n",
       "                 n_jobs=-1)"
      ]
     },
     "execution_count": 116,
     "metadata": {},
     "output_type": "execute_result"
    }
   ],
   "source": [
    "# voting_Classifier.fit(CXtrain_robust_over_lda_df,CL_y_train_over)\n",
    "voting_Classifier = VotingClassifier(voting_models, n_jobs=-1)\n",
    "voting_Classifier.fit(CXtrain_ohe_robust_over,Cytrain_ohe_robust_over)\n"
   ]
  },
  {
   "cell_type": "code",
   "execution_count": 117,
   "id": "6bfdd649",
   "metadata": {
    "ExecuteTime": {
     "end_time": "2021-12-16T06:02:41.941509Z",
     "start_time": "2021-12-16T06:02:39.909928Z"
    }
   },
   "outputs": [],
   "source": [
    "voting_pred = voting_Classifier.predict(CXtest_robustScaled_df)"
   ]
  },
  {
   "cell_type": "code",
   "execution_count": 118,
   "id": "ff6349d5",
   "metadata": {
    "ExecuteTime": {
     "end_time": "2021-12-16T06:02:41.956894Z",
     "start_time": "2021-12-16T06:02:41.941509Z"
    }
   },
   "outputs": [],
   "source": [
    "model_list.append(voting_Classifier)\n",
    "model_preds.append(voting_pred)\n"
   ]
  },
  {
   "cell_type": "code",
   "execution_count": 119,
   "id": "c8df73fa",
   "metadata": {
    "ExecuteTime": {
     "end_time": "2021-12-16T06:02:42.237398Z",
     "start_time": "2021-12-16T06:02:41.958896Z"
    }
   },
   "outputs": [
    {
     "data": {
      "image/png": "[encoded data removed]",
      "text/plain": [
       "<Figure size 792x576 with 1 Axes>"
      ]
     },
     "metadata": {
      "needs_background": "light"
     },
     "output_type": "display_data"
    },
    {
     "name": "stdout",
     "output_type": "stream",
     "text": [
      "                     model  accuracy\n",
      "0                  XGBoost    0.9275\n",
      "1                     LGBM    0.9275\n",
      "2        VotingClassifier     0.8190\n",
      "3  RandomForest Classifier    0.7955\n",
      "4            SVClassifier     0.6350\n",
      "5              BernoulliNB    0.5465\n"
     ]
    },
    {
     "data": {
      "image/png": "[encoded data removed]",
      "text/plain": [
       "<Figure size 648x216 with 1 Axes>"
      ]
     },
     "metadata": {
      "needs_background": "light"
     },
     "output_type": "display_data"
    }
   ],
   "source": [
    "acc_eval('VotingClassifier ', voting_pred, Cy_test,True)"
   ]
  },
  {
   "cell_type": "code",
   "execution_count": 120,
   "id": "8185ad8e",
   "metadata": {
    "ExecuteTime": {
     "end_time": "2021-12-16T06:02:42.252945Z",
     "start_time": "2021-12-16T06:02:42.239383Z"
    }
   },
   "outputs": [],
   "source": [
    "acc = accuracy_score(Cy_test,voting_pred)\n",
    "accuracy_list.append(('VotingClassifier', acc))"
   ]
  },
  {
   "cell_type": "code",
   "execution_count": 121,
   "id": "dfacd766",
   "metadata": {
    "ExecuteTime": {
     "end_time": "2021-12-16T06:02:42.268128Z",
     "start_time": "2021-12-16T06:02:42.254931Z"
    }
   },
   "outputs": [
    {
     "data": {
      "text/plain": [
       "[('XGBClassifier', 0.9275),\n",
       " ('LGBMClassifier', 0.9275),\n",
       " ('BernoulliNB', 0.5465),\n",
       " ('RandomForest Classifier', 0.7955),\n",
       " ('SVClassifier', 0.635),\n",
       " ('VotingClassifier', 0.819)]"
      ]
     },
     "execution_count": 121,
     "metadata": {},
     "output_type": "execute_result"
    }
   ],
   "source": [
    "accuracy_list"
   ]
  },
  {
   "cell_type": "markdown",
   "id": "bf0fd905",
   "metadata": {},
   "source": [
    "# stacking"
   ]
  },
  {
   "cell_type": "markdown",
   "id": "9040a0d8",
   "metadata": {},
   "source": [
    "개별 모델이 예측한 데이터를 기반으로 **final_estimator** 종합하여 예측을 수행합니다."
   ]
  },
  {
   "cell_type": "markdown",
   "id": "00823eac",
   "metadata": {},
   "source": [
    "- 성능을 극으로 끌어올릴 때 활용하기도 합니다.\n",
    "- 과대적합을 유발할 수 있습니다. (특히, 데이터셋이 적은 경우)"
   ]
  },
  {
   "cell_type": "code",
   "execution_count": 122,
   "id": "4d5a25b5",
   "metadata": {
    "ExecuteTime": {
     "end_time": "2021-12-16T06:03:36.946835Z",
     "start_time": "2021-12-16T06:03:06.236499Z"
    }
   },
   "outputs": [],
   "source": [
    "from sklearn.ensemble import StackingClassifier\n",
    "rfc = model_list[1]\n",
    "stack_classifier = StackingClassifier(voting_models, final_estimator=rfc, n_jobs=-1)\n",
    "stack_classifier.fit(CXtrain_ohe_robust_over,Cytrain_ohe_robust_over)\n",
    "stack_pred = stack_classifier.predict( CXtest_robustScaled_df)\n",
    "# acc_eval('Stacking Ensemble', stack_pred, CLy_test)"
   ]
  },
  {
   "cell_type": "code",
   "execution_count": 123,
   "id": "e269098e",
   "metadata": {
    "ExecuteTime": {
     "end_time": "2021-12-16T06:03:36.962082Z",
     "start_time": "2021-12-16T06:03:36.948848Z"
    }
   },
   "outputs": [],
   "source": [
    "model_list.append(stack_classifier)\n",
    "model_preds.append(stack_pred)"
   ]
  },
  {
   "cell_type": "code",
   "execution_count": 124,
   "id": "9c404345",
   "metadata": {
    "ExecuteTime": {
     "end_time": "2021-12-16T06:03:36.977448Z",
     "start_time": "2021-12-16T06:03:36.964075Z"
    }
   },
   "outputs": [],
   "source": [
    "acc = accuracy_score(Cy_test,stack_pred)\n",
    "accuracy_list.append(('StackingClassifier', acc))"
   ]
  },
  {
   "cell_type": "markdown",
   "id": "6c9471cf",
   "metadata": {},
   "source": [
    "# 성능 증가시키기"
   ]
  },
  {
   "cell_type": "code",
   "execution_count": 125,
   "id": "39220f7c",
   "metadata": {
    "ExecuteTime": {
     "end_time": "2021-12-16T06:03:40.763811Z",
     "start_time": "2021-12-16T06:03:40.750733Z"
    }
   },
   "outputs": [
    {
     "data": {
      "text/plain": [
       "[('XGBClassifier', 0.9275),\n",
       " ('LGBMClassifier', 0.9275),\n",
       " ('BernoulliNB', 0.5465),\n",
       " ('RandomForest Classifier', 0.7955),\n",
       " ('SVClassifier', 0.635),\n",
       " ('VotingClassifier', 0.819),\n",
       " ('StackingClassifier', 0.927)]"
      ]
     },
     "execution_count": 125,
     "metadata": {},
     "output_type": "execute_result"
    }
   ],
   "source": [
    "accuracy_list"
   ]
  },
  {
   "cell_type": "code",
   "execution_count": 126,
   "id": "a9015b36",
   "metadata": {
    "ExecuteTime": {
     "end_time": "2021-12-16T06:03:46.996376Z",
     "start_time": "2021-12-16T06:03:46.983304Z"
    }
   },
   "outputs": [],
   "source": [
    "hist_name = [model[0] for model in accuracy_list]\n",
    "hist_acc = [model[1] for model in accuracy_list]"
   ]
  },
  {
   "cell_type": "code",
   "execution_count": 127,
   "id": "ca8d6e13",
   "metadata": {
    "ExecuteTime": {
     "end_time": "2021-12-16T06:03:47.467489Z",
     "start_time": "2021-12-16T06:03:47.353210Z"
    }
   },
   "outputs": [
    {
     "data": {
      "image/png": "[encoded data removed]",
      "text/plain": [
       "<Figure size 720x720 with 1 Axes>"
      ]
     },
     "metadata": {
      "needs_background": "light"
     },
     "output_type": "display_data"
    }
   ],
   "source": [
    "fig = plt.figure(figsize = (10, 10))\n",
    "plt.hist(x = hist_acc)\n",
    "plt.xlabel(hist_name)\n",
    "plt.show()"
   ]
  },
  {
   "cell_type": "code",
   "execution_count": null,
   "id": "21a73c5e",
   "metadata": {
    "ExecuteTime": {
     "end_time": "2021-12-16T02:17:07.219491Z",
     "start_time": "2021-12-16T02:17:07.219491Z"
    }
   },
   "outputs": [],
   "source": [
    "break point third"
   ]
  },
  {
   "cell_type": "markdown",
   "id": "ba4cd13b",
   "metadata": {},
   "source": [
    "## 앙상블 - Bagging (Random Forest)"
   ]
  },
  {
   "cell_type": "markdown",
   "id": "004b3a4e",
   "metadata": {},
   "source": [
    "Voting VS Bagging\n",
    "\n",
    "- Voting은 여러 알고리즘의 조합에 대한 앙상블\n",
    "- Bagging은 하나의 단일 알고리즘에 대하여 여러 개의 샘플 조합으로 앙상블"
   ]
  },
  {
   "cell_type": "markdown",
   "id": "a3c287f0",
   "metadata": {},
   "source": [
    "# 6개의 재료 모델"
   ]
  },
  {
   "cell_type": "code",
   "execution_count": 31,
   "id": "b8baf3ce",
   "metadata": {
    "ExecuteTime": {
     "end_time": "2021-12-16T05:08:33.597225Z",
     "start_time": "2021-12-16T05:08:33.584046Z"
    }
   },
   "outputs": [],
   "source": [
    "from sklearn.ensemble import RandomForestClassifier\n",
    "from lightgbm import LGBMClassifier\n",
    "from xgboost import XGBClassifier\n",
    "from sklearn.naive_bayes import BernoulliNB\n",
    "from sklearn.svm import SVC\n",
    "from sklearn.ensemble import VotingClassifier\n",
    "from sklearn.ensemble import StackingClassifier"
   ]
  },
  {
   "cell_type": "code",
   "execution_count": 32,
   "id": "c9eec187",
   "metadata": {
    "ExecuteTime": {
     "end_time": "2021-12-16T05:08:34.484879Z",
     "start_time": "2021-12-16T05:08:34.473889Z"
    }
   },
   "outputs": [],
   "source": [
    "best_prams = [['LGBMClassifier',\n",
    "   {'n_estimators': 150, 'max_depth': 30}],\n",
    " ['XGBClassifier',\n",
    "  {'random_state': 2,\n",
    "   'nthread': 4,\n",
    "   'n_estimators': 50,\n",
    "   'min_child_weight': 3,\n",
    "   'max_depth': 8,\n",
    "   'gamma': 3,\n",
    "   'colsample_bytree': 0.5,\n",
    "   'colsample_bylevel': 0.9,\n",
    "   'eval_metric': 'logloss'}],\n",
    " ['RandomForestClassifier',\n",
    "  {'random_state' : 42,\n",
    "    'max_depth': 12,\n",
    "   'min_samples_leaf': 8,\n",
    "   'min_samples_split': 8,\n",
    "   'n_estimators': 100}]]"
   ]
  },
  {
   "cell_type": "markdown",
   "id": "d0954d17",
   "metadata": {},
   "source": [
    "- 훈련되지 않은 새로운 재료 모델 (5개) 선언"
   ]
  },
  {
   "cell_type": "code",
   "execution_count": 33,
   "id": "b866a4b7",
   "metadata": {
    "ExecuteTime": {
     "end_time": "2021-12-16T05:08:36.311496Z",
     "start_time": "2021-12-16T05:08:36.294440Z"
    }
   },
   "outputs": [],
   "source": [
    "def make_ensemble_model():\n",
    "    model_list = []\n",
    "\n",
    "    # xgb\n",
    "    xgb = XGBClassifier(**best_prams[1][1])\n",
    "    model_list.append(xgb)\n",
    "\n",
    "    # lgbm\n",
    "    lgbm = LGBMClassifier(**best_prams[0][1])\n",
    "    model_list.append(lgbm)\n",
    "\n",
    "    # bern\n",
    "    bern = BernoulliNB()\n",
    "    model_list.append(bern)\n",
    "\n",
    "    #rfr\n",
    "    rfr = RandomForestClassifier(**best_prams[2][1])\n",
    "    model_list.append(rfr)\n",
    "\n",
    "    #SVC\n",
    "    svc = SVC(probability=True)\n",
    "    model_list.append(svc)\n",
    "    \n",
    "    ensemble_list = []\n",
    "    for model in model_list:\n",
    "        ensemble_list.append((model.__class__.__name__, model))\n",
    "    \n",
    "    \n",
    "    return ensemble_list"
   ]
  },
  {
   "cell_type": "markdown",
   "id": "c3ab6c82",
   "metadata": {},
   "source": [
    "## K-fold"
   ]
  },
  {
   "cell_type": "code",
   "execution_count": 34,
   "id": "385e86a0",
   "metadata": {
    "ExecuteTime": {
     "end_time": "2021-12-16T05:08:43.687481Z",
     "start_time": "2021-12-16T05:08:43.612658Z"
    }
   },
   "outputs": [],
   "source": [
    "import numpy as np\n",
    "import pandas as pd\n",
    "import matplotlib.pyplot as plt\n",
    "import seaborn as sns\n",
    "from sklearn.datasets import make_classification\n",
    "from sklearn.ensemble import RandomForestClassifier\n",
    "from sklearn.model_selection import train_test_split\n",
    "from sklearn.metrics import roc_curve, roc_auc_score\n",
    "from sklearn.model_selection import cross_val_score\n",
    "def plot_roc_curve(fper, tper):\n",
    "    plt.plot(fper, tper, color='red', label='ROC')\n",
    "    plt.plot([0, 1], [0, 1], color='green', linestyle='--')\n",
    "    plt.xlabel('False Positive Rate')\n",
    "    plt.ylabel('True Positive Rate')\n",
    "    plt.title('Receiver Operating Characteristic Curve')\n",
    "    plt.legend()\n",
    "    plt.show()"
   ]
  },
  {
   "cell_type": "code",
   "execution_count": 35,
   "id": "341c4bde",
   "metadata": {
    "ExecuteTime": {
     "end_time": "2021-12-16T05:08:44.923506Z",
     "start_time": "2021-12-16T05:08:44.916420Z"
    }
   },
   "outputs": [],
   "source": [
    "from sklearn.model_selection import KFold\n",
    "n_splits = 5\n",
    "kfold = KFold(n_splits=n_splits)"
   ]
  },
  {
   "cell_type": "markdown",
   "id": "d07e086e",
   "metadata": {},
   "source": [
    "### Stacking Classifier"
   ]
  },
  {
   "cell_type": "code",
   "execution_count": 36,
   "id": "f8788403",
   "metadata": {
    "ExecuteTime": {
     "end_time": "2021-12-16T05:08:48.111585Z",
     "start_time": "2021-12-16T05:08:48.106735Z"
    }
   },
   "outputs": [],
   "source": [
    "ensemble_models = make_ensemble_model()"
   ]
  },
  {
   "cell_type": "markdown",
   "id": "1dc342f7",
   "metadata": {},
   "source": [
    "- 약한 학습기가 순서대로 배치되어 속도가 느린 boosting 계열의 단점 보완 : \n",
    "    - LightGBM을 평가모델로 사용"
   ]
  },
  {
   "cell_type": "code",
   "execution_count": 37,
   "id": "cc07daeb",
   "metadata": {
    "ExecuteTime": {
     "end_time": "2021-12-16T05:11:44.249465Z",
     "start_time": "2021-12-16T05:09:09.104903Z"
    }
   },
   "outputs": [],
   "source": [
    "rfc = LGBMClassifier(**best_prams[0][1])\n",
    "stack_classifier = StackingClassifier(ensemble_models, final_estimator=rfc, n_jobs=-1)\n",
    "stack_classifier.fit(CXtrain_ohe_robust_over,Cytrain_ohe_robust_over)\n",
    "stack_pred = stack_classifier.predict( CXtest_robustScaled_df)"
   ]
  },
  {
   "cell_type": "code",
   "execution_count": 38,
   "id": "01c9c4cd",
   "metadata": {
    "ExecuteTime": {
     "end_time": "2021-12-16T05:12:54.106406Z",
     "start_time": "2021-12-16T05:12:54.091323Z"
    }
   },
   "outputs": [],
   "source": [
    "from sklearn.metrics import accuracy_score"
   ]
  },
  {
   "cell_type": "code",
   "execution_count": 40,
   "id": "afa08bc4",
   "metadata": {
    "ExecuteTime": {
     "end_time": "2021-12-16T05:20:27.565905Z",
     "start_time": "2021-12-16T05:14:00.756291Z"
    },
    "scrolled": true
   },
   "outputs": [
    {
     "name": "stdout",
     "output_type": "stream",
     "text": [
      "Fold = 1, prediction score = 0.93\n",
      "Fold = 2, prediction score = 0.93\n",
      "Fold = 3, prediction score = 0.95\n",
      "Fold = 4, prediction score = 0.99\n"
     ]
    },
    {
     "ename": "TerminatedWorkerError",
     "evalue": "A worker process managed by the executor was unexpectedly terminated. This could be caused by a segmentation fault while calling the function or by an excessive memory usage causing the Operating System to kill the worker.\n",
     "output_type": "error",
     "traceback": [
      "\u001b[1;31m---------------------------------------------------------------------------\u001b[0m",
      "\u001b[1;31mTerminatedWorkerError\u001b[0m                     Traceback (most recent call last)",
      "\u001b[1;32m~\\AppData\\Local\\Temp/ipykernel_10780/2414190521.py\u001b[0m in \u001b[0;36m<module>\u001b[1;34m\u001b[0m\n\u001b[0;32m      4\u001b[0m     \u001b[0mx_train_fold\u001b[0m\u001b[1;33m,\u001b[0m \u001b[0mx_valid_fold\u001b[0m \u001b[1;33m=\u001b[0m \u001b[0mCXtrain_ohe_robust_over\u001b[0m\u001b[1;33m[\u001b[0m\u001b[0mtrain_index\u001b[0m\u001b[1;33m]\u001b[0m\u001b[1;33m,\u001b[0m \u001b[0mCXtrain_ohe_robust_over\u001b[0m\u001b[1;33m[\u001b[0m\u001b[0mtest_index\u001b[0m\u001b[1;33m]\u001b[0m\u001b[1;33m\u001b[0m\u001b[1;33m\u001b[0m\u001b[0m\n\u001b[0;32m      5\u001b[0m     \u001b[0my_train_fold\u001b[0m\u001b[1;33m,\u001b[0m \u001b[0my_valid_fold\u001b[0m \u001b[1;33m=\u001b[0m \u001b[0mCytrain_ohe_robust_over\u001b[0m\u001b[1;33m[\u001b[0m\u001b[0mtrain_index\u001b[0m\u001b[1;33m]\u001b[0m\u001b[1;33m,\u001b[0m \u001b[0mCytrain_ohe_robust_over\u001b[0m\u001b[1;33m[\u001b[0m\u001b[0mtest_index\u001b[0m\u001b[1;33m]\u001b[0m\u001b[1;33m\u001b[0m\u001b[1;33m\u001b[0m\u001b[0m\n\u001b[1;32m----> 6\u001b[1;33m     \u001b[0mstacking_pred_fold\u001b[0m \u001b[1;33m=\u001b[0m \u001b[0mstack_classifier\u001b[0m\u001b[1;33m.\u001b[0m\u001b[0mfit\u001b[0m\u001b[1;33m(\u001b[0m\u001b[0mx_train_fold\u001b[0m\u001b[1;33m,\u001b[0m \u001b[0my_train_fold\u001b[0m\u001b[1;33m)\u001b[0m\u001b[1;33m.\u001b[0m\u001b[0mpredict\u001b[0m\u001b[1;33m(\u001b[0m\u001b[0mx_valid_fold\u001b[0m\u001b[1;33m)\u001b[0m\u001b[1;33m\u001b[0m\u001b[1;33m\u001b[0m\u001b[0m\n\u001b[0m\u001b[0;32m      7\u001b[0m \u001b[1;31m#     lgbm_pred_fold = lgbm_fold.fit(x_train_fold, y_train_fold).predict(x_valid_fold)\u001b[0m\u001b[1;33m\u001b[0m\u001b[1;33m\u001b[0m\u001b[0m\n\u001b[0;32m      8\u001b[0m     \u001b[0macc\u001b[0m\u001b[1;33m=\u001b[0m \u001b[0maccuracy_score\u001b[0m\u001b[1;33m(\u001b[0m\u001b[0mstacking_pred_fold\u001b[0m\u001b[1;33m,\u001b[0m \u001b[0my_valid_fold\u001b[0m\u001b[1;33m)\u001b[0m\u001b[1;33m\u001b[0m\u001b[1;33m\u001b[0m\u001b[0m\n",
      "\u001b[1;32m~\\anaconda3\\lib\\site-packages\\sklearn\\ensemble\\_stacking.py\u001b[0m in \u001b[0;36mfit\u001b[1;34m(self, X, y, sample_weight)\u001b[0m\n\u001b[0;32m    439\u001b[0m         \u001b[0mself\u001b[0m\u001b[1;33m.\u001b[0m\u001b[0m_le\u001b[0m \u001b[1;33m=\u001b[0m \u001b[0mLabelEncoder\u001b[0m\u001b[1;33m(\u001b[0m\u001b[1;33m)\u001b[0m\u001b[1;33m.\u001b[0m\u001b[0mfit\u001b[0m\u001b[1;33m(\u001b[0m\u001b[0my\u001b[0m\u001b[1;33m)\u001b[0m\u001b[1;33m\u001b[0m\u001b[1;33m\u001b[0m\u001b[0m\n\u001b[0;32m    440\u001b[0m         \u001b[0mself\u001b[0m\u001b[1;33m.\u001b[0m\u001b[0mclasses_\u001b[0m \u001b[1;33m=\u001b[0m \u001b[0mself\u001b[0m\u001b[1;33m.\u001b[0m\u001b[0m_le\u001b[0m\u001b[1;33m.\u001b[0m\u001b[0mclasses_\u001b[0m\u001b[1;33m\u001b[0m\u001b[1;33m\u001b[0m\u001b[0m\n\u001b[1;32m--> 441\u001b[1;33m         \u001b[1;32mreturn\u001b[0m \u001b[0msuper\u001b[0m\u001b[1;33m(\u001b[0m\u001b[1;33m)\u001b[0m\u001b[1;33m.\u001b[0m\u001b[0mfit\u001b[0m\u001b[1;33m(\u001b[0m\u001b[0mX\u001b[0m\u001b[1;33m,\u001b[0m \u001b[0mself\u001b[0m\u001b[1;33m.\u001b[0m\u001b[0m_le\u001b[0m\u001b[1;33m.\u001b[0m\u001b[0mtransform\u001b[0m\u001b[1;33m(\u001b[0m\u001b[0my\u001b[0m\u001b[1;33m)\u001b[0m\u001b[1;33m,\u001b[0m \u001b[0msample_weight\u001b[0m\u001b[1;33m)\u001b[0m\u001b[1;33m\u001b[0m\u001b[1;33m\u001b[0m\u001b[0m\n\u001b[0m\u001b[0;32m    442\u001b[0m \u001b[1;33m\u001b[0m\u001b[0m\n\u001b[0;32m    443\u001b[0m     \u001b[1;33m@\u001b[0m\u001b[0mif_delegate_has_method\u001b[0m\u001b[1;33m(\u001b[0m\u001b[0mdelegate\u001b[0m\u001b[1;33m=\u001b[0m\u001b[1;34m'final_estimator_'\u001b[0m\u001b[1;33m)\u001b[0m\u001b[1;33m\u001b[0m\u001b[1;33m\u001b[0m\u001b[0m\n",
      "\u001b[1;32m~\\anaconda3\\lib\\site-packages\\sklearn\\ensemble\\_stacking.py\u001b[0m in \u001b[0;36mfit\u001b[1;34m(self, X, y, sample_weight)\u001b[0m\n\u001b[0;32m    177\u001b[0m                       \u001b[1;32mif\u001b[0m \u001b[0msample_weight\u001b[0m \u001b[1;32mis\u001b[0m \u001b[1;32mnot\u001b[0m \u001b[1;32mNone\u001b[0m\u001b[1;33m\u001b[0m\u001b[1;33m\u001b[0m\u001b[0m\n\u001b[0;32m    178\u001b[0m                       else None)\n\u001b[1;32m--> 179\u001b[1;33m         predictions = Parallel(n_jobs=self.n_jobs)(\n\u001b[0m\u001b[0;32m    180\u001b[0m             delayed(cross_val_predict)(clone(est), X, y, cv=deepcopy(cv),\n\u001b[0;32m    181\u001b[0m                                        \u001b[0mmethod\u001b[0m\u001b[1;33m=\u001b[0m\u001b[0mmeth\u001b[0m\u001b[1;33m,\u001b[0m \u001b[0mn_jobs\u001b[0m\u001b[1;33m=\u001b[0m\u001b[0mself\u001b[0m\u001b[1;33m.\u001b[0m\u001b[0mn_jobs\u001b[0m\u001b[1;33m,\u001b[0m\u001b[1;33m\u001b[0m\u001b[1;33m\u001b[0m\u001b[0m\n",
      "\u001b[1;32m~\\anaconda3\\lib\\site-packages\\joblib\\parallel.py\u001b[0m in \u001b[0;36m__call__\u001b[1;34m(self, iterable)\u001b[0m\n\u001b[0;32m   1054\u001b[0m \u001b[1;33m\u001b[0m\u001b[0m\n\u001b[0;32m   1055\u001b[0m             \u001b[1;32mwith\u001b[0m \u001b[0mself\u001b[0m\u001b[1;33m.\u001b[0m\u001b[0m_backend\u001b[0m\u001b[1;33m.\u001b[0m\u001b[0mretrieval_context\u001b[0m\u001b[1;33m(\u001b[0m\u001b[1;33m)\u001b[0m\u001b[1;33m:\u001b[0m\u001b[1;33m\u001b[0m\u001b[1;33m\u001b[0m\u001b[0m\n\u001b[1;32m-> 1056\u001b[1;33m                 \u001b[0mself\u001b[0m\u001b[1;33m.\u001b[0m\u001b[0mretrieve\u001b[0m\u001b[1;33m(\u001b[0m\u001b[1;33m)\u001b[0m\u001b[1;33m\u001b[0m\u001b[1;33m\u001b[0m\u001b[0m\n\u001b[0m\u001b[0;32m   1057\u001b[0m             \u001b[1;31m# Make sure that we get a last message telling us we are done\u001b[0m\u001b[1;33m\u001b[0m\u001b[1;33m\u001b[0m\u001b[0m\n\u001b[0;32m   1058\u001b[0m             \u001b[0melapsed_time\u001b[0m \u001b[1;33m=\u001b[0m \u001b[0mtime\u001b[0m\u001b[1;33m.\u001b[0m\u001b[0mtime\u001b[0m\u001b[1;33m(\u001b[0m\u001b[1;33m)\u001b[0m \u001b[1;33m-\u001b[0m \u001b[0mself\u001b[0m\u001b[1;33m.\u001b[0m\u001b[0m_start_time\u001b[0m\u001b[1;33m\u001b[0m\u001b[1;33m\u001b[0m\u001b[0m\n",
      "\u001b[1;32m~\\anaconda3\\lib\\site-packages\\joblib\\parallel.py\u001b[0m in \u001b[0;36mretrieve\u001b[1;34m(self)\u001b[0m\n\u001b[0;32m    933\u001b[0m             \u001b[1;32mtry\u001b[0m\u001b[1;33m:\u001b[0m\u001b[1;33m\u001b[0m\u001b[1;33m\u001b[0m\u001b[0m\n\u001b[0;32m    934\u001b[0m                 \u001b[1;32mif\u001b[0m \u001b[0mgetattr\u001b[0m\u001b[1;33m(\u001b[0m\u001b[0mself\u001b[0m\u001b[1;33m.\u001b[0m\u001b[0m_backend\u001b[0m\u001b[1;33m,\u001b[0m \u001b[1;34m'supports_timeout'\u001b[0m\u001b[1;33m,\u001b[0m \u001b[1;32mFalse\u001b[0m\u001b[1;33m)\u001b[0m\u001b[1;33m:\u001b[0m\u001b[1;33m\u001b[0m\u001b[1;33m\u001b[0m\u001b[0m\n\u001b[1;32m--> 935\u001b[1;33m                     \u001b[0mself\u001b[0m\u001b[1;33m.\u001b[0m\u001b[0m_output\u001b[0m\u001b[1;33m.\u001b[0m\u001b[0mextend\u001b[0m\u001b[1;33m(\u001b[0m\u001b[0mjob\u001b[0m\u001b[1;33m.\u001b[0m\u001b[0mget\u001b[0m\u001b[1;33m(\u001b[0m\u001b[0mtimeout\u001b[0m\u001b[1;33m=\u001b[0m\u001b[0mself\u001b[0m\u001b[1;33m.\u001b[0m\u001b[0mtimeout\u001b[0m\u001b[1;33m)\u001b[0m\u001b[1;33m)\u001b[0m\u001b[1;33m\u001b[0m\u001b[1;33m\u001b[0m\u001b[0m\n\u001b[0m\u001b[0;32m    936\u001b[0m                 \u001b[1;32melse\u001b[0m\u001b[1;33m:\u001b[0m\u001b[1;33m\u001b[0m\u001b[1;33m\u001b[0m\u001b[0m\n\u001b[0;32m    937\u001b[0m                     \u001b[0mself\u001b[0m\u001b[1;33m.\u001b[0m\u001b[0m_output\u001b[0m\u001b[1;33m.\u001b[0m\u001b[0mextend\u001b[0m\u001b[1;33m(\u001b[0m\u001b[0mjob\u001b[0m\u001b[1;33m.\u001b[0m\u001b[0mget\u001b[0m\u001b[1;33m(\u001b[0m\u001b[1;33m)\u001b[0m\u001b[1;33m)\u001b[0m\u001b[1;33m\u001b[0m\u001b[1;33m\u001b[0m\u001b[0m\n",
      "\u001b[1;32m~\\anaconda3\\lib\\site-packages\\joblib\\_parallel_backends.py\u001b[0m in \u001b[0;36mwrap_future_result\u001b[1;34m(future, timeout)\u001b[0m\n\u001b[0;32m    540\u001b[0m         AsyncResults.get from multiprocessing.\"\"\"\n\u001b[0;32m    541\u001b[0m         \u001b[1;32mtry\u001b[0m\u001b[1;33m:\u001b[0m\u001b[1;33m\u001b[0m\u001b[1;33m\u001b[0m\u001b[0m\n\u001b[1;32m--> 542\u001b[1;33m             \u001b[1;32mreturn\u001b[0m \u001b[0mfuture\u001b[0m\u001b[1;33m.\u001b[0m\u001b[0mresult\u001b[0m\u001b[1;33m(\u001b[0m\u001b[0mtimeout\u001b[0m\u001b[1;33m=\u001b[0m\u001b[0mtimeout\u001b[0m\u001b[1;33m)\u001b[0m\u001b[1;33m\u001b[0m\u001b[1;33m\u001b[0m\u001b[0m\n\u001b[0m\u001b[0;32m    543\u001b[0m         \u001b[1;32mexcept\u001b[0m \u001b[0mCfTimeoutError\u001b[0m \u001b[1;32mas\u001b[0m \u001b[0me\u001b[0m\u001b[1;33m:\u001b[0m\u001b[1;33m\u001b[0m\u001b[1;33m\u001b[0m\u001b[0m\n\u001b[0;32m    544\u001b[0m             \u001b[1;32mraise\u001b[0m \u001b[0mTimeoutError\u001b[0m \u001b[1;32mfrom\u001b[0m \u001b[0me\u001b[0m\u001b[1;33m\u001b[0m\u001b[1;33m\u001b[0m\u001b[0m\n",
      "\u001b[1;32m~\\anaconda3\\lib\\concurrent\\futures\\_base.py\u001b[0m in \u001b[0;36mresult\u001b[1;34m(self, timeout)\u001b[0m\n\u001b[0;32m    443\u001b[0m                     \u001b[1;32mraise\u001b[0m \u001b[0mCancelledError\u001b[0m\u001b[1;33m(\u001b[0m\u001b[1;33m)\u001b[0m\u001b[1;33m\u001b[0m\u001b[1;33m\u001b[0m\u001b[0m\n\u001b[0;32m    444\u001b[0m                 \u001b[1;32melif\u001b[0m \u001b[0mself\u001b[0m\u001b[1;33m.\u001b[0m\u001b[0m_state\u001b[0m \u001b[1;33m==\u001b[0m \u001b[0mFINISHED\u001b[0m\u001b[1;33m:\u001b[0m\u001b[1;33m\u001b[0m\u001b[1;33m\u001b[0m\u001b[0m\n\u001b[1;32m--> 445\u001b[1;33m                     \u001b[1;32mreturn\u001b[0m \u001b[0mself\u001b[0m\u001b[1;33m.\u001b[0m\u001b[0m__get_result\u001b[0m\u001b[1;33m(\u001b[0m\u001b[1;33m)\u001b[0m\u001b[1;33m\u001b[0m\u001b[1;33m\u001b[0m\u001b[0m\n\u001b[0m\u001b[0;32m    446\u001b[0m                 \u001b[1;32melse\u001b[0m\u001b[1;33m:\u001b[0m\u001b[1;33m\u001b[0m\u001b[1;33m\u001b[0m\u001b[0m\n\u001b[0;32m    447\u001b[0m                     \u001b[1;32mraise\u001b[0m \u001b[0mTimeoutError\u001b[0m\u001b[1;33m(\u001b[0m\u001b[1;33m)\u001b[0m\u001b[1;33m\u001b[0m\u001b[1;33m\u001b[0m\u001b[0m\n",
      "\u001b[1;32m~\\anaconda3\\lib\\concurrent\\futures\\_base.py\u001b[0m in \u001b[0;36m__get_result\u001b[1;34m(self)\u001b[0m\n\u001b[0;32m    388\u001b[0m         \u001b[1;32mif\u001b[0m \u001b[0mself\u001b[0m\u001b[1;33m.\u001b[0m\u001b[0m_exception\u001b[0m\u001b[1;33m:\u001b[0m\u001b[1;33m\u001b[0m\u001b[1;33m\u001b[0m\u001b[0m\n\u001b[0;32m    389\u001b[0m             \u001b[1;32mtry\u001b[0m\u001b[1;33m:\u001b[0m\u001b[1;33m\u001b[0m\u001b[1;33m\u001b[0m\u001b[0m\n\u001b[1;32m--> 390\u001b[1;33m                 \u001b[1;32mraise\u001b[0m \u001b[0mself\u001b[0m\u001b[1;33m.\u001b[0m\u001b[0m_exception\u001b[0m\u001b[1;33m\u001b[0m\u001b[1;33m\u001b[0m\u001b[0m\n\u001b[0m\u001b[0;32m    391\u001b[0m             \u001b[1;32mfinally\u001b[0m\u001b[1;33m:\u001b[0m\u001b[1;33m\u001b[0m\u001b[1;33m\u001b[0m\u001b[0m\n\u001b[0;32m    392\u001b[0m                 \u001b[1;31m# Break a reference cycle with the exception in self._exception\u001b[0m\u001b[1;33m\u001b[0m\u001b[1;33m\u001b[0m\u001b[0m\n",
      "\u001b[1;31mTerminatedWorkerError\u001b[0m: A worker process managed by the executor was unexpectedly terminated. This could be caused by a segmentation fault while calling the function or by an excessive memory usage causing the Operating System to kill the worker.\n"
     ]
    }
   ],
   "source": [
    "i = 1\n",
    "total_acc = 0\n",
    "for train_index, test_index in kfold.split(CXtrain_ohe_robust_over,Cytrain_ohe_robust_over):\n",
    "    x_train_fold, x_valid_fold = CXtrain_ohe_robust_over[train_index], CXtrain_ohe_robust_over[test_index]\n",
    "    y_train_fold, y_valid_fold = Cytrain_ohe_robust_over[train_index], Cytrain_ohe_robust_over[test_index]\n",
    "    stacking_pred_fold = stack_classifier.fit(x_train_fold, y_train_fold).predict(x_valid_fold)\n",
    "#     lgbm_pred_fold = lgbm_fold.fit(x_train_fold, y_train_fold).predict(x_valid_fold)\n",
    "    acc= accuracy_score(stacking_pred_fold, y_valid_fold)\n",
    "    print('Fold = {}, prediction score = {:.2f}'.format(i, acc))\n",
    "    total_acc += acc\n",
    "    i+=1\n",
    "print('---'*10)\n",
    "print('Average Accuracy: %s' % (total_acc / n_splits))"
   ]
  },
  {
   "cell_type": "code",
   "execution_count": 44,
   "id": "d755fd60",
   "metadata": {
    "ExecuteTime": {
     "end_time": "2021-12-16T05:24:42.831634Z",
     "start_time": "2021-12-16T05:24:42.812498Z"
    }
   },
   "outputs": [
    {
     "data": {
      "text/plain": [
       "(array([    0,     1,     2, ..., 11892, 11893, 11894]),\n",
       " array([11895, 11896, 11897, ..., 14865, 14866, 14867]))"
      ]
     },
     "execution_count": 44,
     "metadata": {},
     "output_type": "execute_result"
    }
   ],
   "source": [
    "train_index, test_index "
   ]
  },
  {
   "cell_type": "code",
   "execution_count": 45,
   "id": "e28e5488",
   "metadata": {
    "ExecuteTime": {
     "end_time": "2021-12-16T05:26:25.689007Z",
     "start_time": "2021-12-16T05:24:53.219369Z"
    }
   },
   "outputs": [
    {
     "name": "stdout",
     "output_type": "stream",
     "text": [
      "Fold = 5, prediction score = 1.00\n",
      "------------------------------\n",
      "Average Accuracy: 0.9584389747584797\n"
     ]
    }
   ],
   "source": [
    "x_train_fold, x_valid_fold = CXtrain_ohe_robust_over[train_index], CXtrain_ohe_robust_over[test_index]\n",
    "y_train_fold, y_valid_fold = Cytrain_ohe_robust_over[train_index], Cytrain_ohe_robust_over[test_index]\n",
    "stacking_pred_fold = stack_classifier.fit(x_train_fold, y_train_fold).predict(x_valid_fold)\n",
    "\n",
    "acc= accuracy_score(stacking_pred_fold, y_valid_fold)\n",
    "print('Fold = {}, prediction score = {:.2f}'.format(i, acc))\n",
    "total_acc += acc\n",
    "i+=1\n",
    "print('---'*10)\n",
    "print('Average Accuracy: %s' % (total_acc / n_splits))"
   ]
  },
  {
   "cell_type": "code",
   "execution_count": 53,
   "id": "52a2b7ae",
   "metadata": {
    "ExecuteTime": {
     "end_time": "2021-12-16T05:37:38.105694Z",
     "start_time": "2021-12-16T05:35:03.417670Z"
    }
   },
   "outputs": [
    {
     "data": {
      "text/plain": [
       "StackingClassifier(estimators=[('XGBClassifier',\n",
       "                                XGBClassifier(base_score=None, booster=None,\n",
       "                                              colsample_bylevel=0.9,\n",
       "                                              colsample_bynode=None,\n",
       "                                              colsample_bytree=0.5,\n",
       "                                              enable_categorical=False,\n",
       "                                              eval_metric='logloss', gamma=3,\n",
       "                                              gpu_id=None, importance_type=None,\n",
       "                                              interaction_constraints=None,\n",
       "                                              learning_rate=None,\n",
       "                                              max_delta_step=None, max_depth=8,\n",
       "                                              min_child_weight=3, missing...\n",
       "                                              validate_parameters=None,\n",
       "                                              verbosity=None)),\n",
       "                               ('LGBMClassifier',\n",
       "                                LGBMClassifier(max_depth=30, n_estimators=150)),\n",
       "                               ('BernoulliNB', BernoulliNB()),\n",
       "                               ('RandomForestClassifier',\n",
       "                                RandomForestClassifier(max_depth=12,\n",
       "                                                       min_samples_leaf=8,\n",
       "                                                       min_samples_split=8,\n",
       "                                                       random_state=42)),\n",
       "                               ('SVC', SVC(probability=True))],\n",
       "                   final_estimator=LGBMClassifier(max_depth=30,\n",
       "                                                  n_estimators=150),\n",
       "                   n_jobs=-1)"
      ]
     },
     "execution_count": 53,
     "metadata": {},
     "output_type": "execute_result"
    }
   ],
   "source": [
    "cv_accs = []\n",
    "model =stack_classifier\n",
    "model.fit(CXtrain_ohe_robust_over,  Cytrain_ohe_robust_over)"
   ]
  },
  {
   "cell_type": "code",
   "execution_count": 54,
   "id": "0e6efb78",
   "metadata": {
    "ExecuteTime": {
     "end_time": "2021-12-16T05:37:53.828664Z",
     "start_time": "2021-12-16T05:37:51.690913Z"
    }
   },
   "outputs": [
    {
     "data": {
      "image/png": "[encoded data removed]",
      "text/plain": [
       "<Figure size 432x288 with 1 Axes>"
      ]
     },
     "metadata": {
      "needs_background": "light"
     },
     "output_type": "display_data"
    },
    {
     "name": "stdout",
     "output_type": "stream",
     "text": [
      "0.747534516765286\n"
     ]
    }
   ],
   "source": [
    "probs = model.predict_proba(CXtest_robustScaled_df)\n",
    "prob = probs[:, 1]\n",
    "fper, tper, thresholds = roc_curve(Cy_test, prob)\n",
    "plot_roc_curve(fper, tper)\n",
    "print(roc_auc_score(Cy_test, prob))"
   ]
  },
  {
   "cell_type": "markdown",
   "id": "449997f9",
   "metadata": {},
   "source": [
    "### Voting Classifier"
   ]
  },
  {
   "cell_type": "code",
   "execution_count": 55,
   "id": "9224bb44",
   "metadata": {
    "ExecuteTime": {
     "end_time": "2021-12-16T05:38:01.071626Z",
     "start_time": "2021-12-16T05:38:01.059860Z"
    }
   },
   "outputs": [],
   "source": [
    "ensemble_models = make_ensemble_model()"
   ]
  },
  {
   "cell_type": "code",
   "execution_count": 56,
   "id": "fc702b1b",
   "metadata": {
    "ExecuteTime": {
     "end_time": "2021-12-16T05:39:26.814943Z",
     "start_time": "2021-12-16T05:38:02.158296Z"
    }
   },
   "outputs": [],
   "source": [
    "voting_Classifier = VotingClassifier(ensemble_models, n_jobs=-1,voting=\"soft\")\n",
    "voting_Classifier.fit(CXtrain_ohe_robust_over,Cytrain_ohe_robust_over)\n",
    "voting_pred = voting_Classifier.predict(CXtest_robustScaled_df)"
   ]
  },
  {
   "cell_type": "code",
   "execution_count": 57,
   "id": "39d7a6bd",
   "metadata": {
    "ExecuteTime": {
     "end_time": "2021-12-16T05:43:41.170685Z",
     "start_time": "2021-12-16T05:40:02.555547Z"
    }
   },
   "outputs": [
    {
     "name": "stdout",
     "output_type": "stream",
     "text": [
      "Fold = 1, prediction score = 0.83\n",
      "Fold = 2, prediction score = 0.82\n",
      "Fold = 3, prediction score = 0.89\n",
      "Fold = 4, prediction score = 0.98\n",
      "Fold = 5, prediction score = 0.98\n",
      "------------------------------\n",
      "Average Accuracy: 0.9007375050640702\n"
     ]
    }
   ],
   "source": [
    "i = 1\n",
    "total_acc = 0\n",
    "for train_index, test_index in kfold.split(CXtrain_ohe_robust_over,Cytrain_ohe_robust_over):\n",
    "    x_train_fold, x_valid_fold = CXtrain_ohe_robust_over[train_index], CXtrain_ohe_robust_over[test_index]\n",
    "    y_train_fold, y_valid_fold = Cytrain_ohe_robust_over[train_index], Cytrain_ohe_robust_over[test_index]\n",
    "    voting_pred_fold = voting_Classifier.fit(x_train_fold, y_train_fold).predict(x_valid_fold)\n",
    "#     lgbm_pred_fold = lgbm_fold.fit(x_train_fold, y_train_fold).predict(x_valid_fold)\n",
    "    acc= accuracy_score(voting_pred_fold, y_valid_fold)\n",
    "    print('Fold = {}, prediction score = {:.2f}'.format(i, acc))\n",
    "    total_acc += acc\n",
    "    i+=1\n",
    "print('---'*10)\n",
    "print('Average Accuracy: %s' % (total_acc / n_splits))"
   ]
  },
  {
   "cell_type": "code",
   "execution_count": 58,
   "id": "f53d8cf1",
   "metadata": {
    "ExecuteTime": {
     "end_time": "2021-12-16T05:46:02.156019Z",
     "start_time": "2021-12-16T05:44:38.425642Z"
    }
   },
   "outputs": [
    {
     "data": {
      "image/png": "[encoded data removed]",
      "text/plain": [
       "<Figure size 432x288 with 1 Axes>"
      ]
     },
     "metadata": {
      "needs_background": "light"
     },
     "output_type": "display_data"
    },
    {
     "name": "stdout",
     "output_type": "stream",
     "text": [
      "0.796279552417032\n"
     ]
    }
   ],
   "source": [
    "cv_accs = []\n",
    "model =voting_Classifier\n",
    "model.fit(CXtrain_ohe_robust_over,  Cytrain_ohe_robust_over)\n",
    "\n",
    "probs = model.predict_proba(CXtest_robustScaled_df)\n",
    "prob = probs[:, 1]\n",
    "fper, tper, thresholds = roc_curve(Cy_test, prob)\n",
    "plot_roc_curve(fper, tper)\n",
    "print(roc_auc_score(Cy_test, prob))"
   ]
  },
  {
   "cell_type": "markdown",
   "id": "53d9d071",
   "metadata": {},
   "source": [
    "## 5가지 모델 / 2가지 메타모델 정확도"
   ]
  },
  {
   "cell_type": "code",
   "execution_count": null,
   "id": "20cb0b9a",
   "metadata": {
    "ExecuteTime": {
     "end_time": "2021-12-16T02:17:07.232493Z",
     "start_time": "2021-12-16T02:17:07.232493Z"
    }
   },
   "outputs": [],
   "source": [
    "# 정확도 추가\n",
    "cv_acc_list = []\n",
    "for p, model in zip(model_preds,model_list):\n",
    "#     acc = accuracy_score(Cy_test,p)\n",
    "#     accuracy_list.append((model.__class__.__name__, acc))\n",
    "    cv_acc = np.mean(cross_val_score(model, CXtest_robustScaled_df, Cy_test, cv=5))\n",
    "    cv_acc_list.append((model.__class__.__name__, round(cv_acc,4)))\n"
   ]
  },
  {
   "cell_type": "code",
   "execution_count": null,
   "id": "e51fd54a",
   "metadata": {
    "ExecuteTime": {
     "end_time": "2021-12-16T02:17:07.233493Z",
     "start_time": "2021-12-16T02:17:07.233493Z"
    }
   },
   "outputs": [],
   "source": [
    "cv_acc_list"
   ]
  },
  {
   "cell_type": "markdown",
   "id": "1ac392cd",
   "metadata": {},
   "source": [
    "## final model"
   ]
  },
  {
   "cell_type": "code",
   "execution_count": 152,
   "id": "d62ca8df",
   "metadata": {
    "ExecuteTime": {
     "end_time": "2021-12-16T06:31:47.768923Z",
     "start_time": "2021-12-16T06:31:47.763908Z"
    }
   },
   "outputs": [],
   "source": [
    "from sklearn.linear_model import LogisticRegression"
   ]
  },
  {
   "cell_type": "code",
   "execution_count": 153,
   "id": "88203d43",
   "metadata": {
    "ExecuteTime": {
     "end_time": "2021-12-16T06:31:48.389661Z",
     "start_time": "2021-12-16T06:31:48.382588Z"
    }
   },
   "outputs": [],
   "source": [
    "final_models = [stack_classifier,voting_Classifier]"
   ]
  },
  {
   "cell_type": "code",
   "execution_count": 154,
   "id": "9a2df3f9",
   "metadata": {
    "ExecuteTime": {
     "end_time": "2021-12-16T06:31:48.948920Z",
     "start_time": "2021-12-16T06:31:48.941872Z"
    }
   },
   "outputs": [],
   "source": [
    "# final_model = LogisticRegression(C=10)\n",
    "final_model = LGBMClassifier(**best_prams[0][1])"
   ]
  },
  {
   "cell_type": "code",
   "execution_count": 155,
   "id": "3990a48c",
   "metadata": {
    "ExecuteTime": {
     "end_time": "2021-12-16T06:31:53.653172Z",
     "start_time": "2021-12-16T06:31:49.610435Z"
    }
   },
   "outputs": [],
   "source": [
    "final_preds = []\n",
    "final_probs = []\n",
    "for model in final_models:\n",
    "    fpred = model.predict(CXtest_robustScaled_df)\n",
    "#     fprob = model.predict(CXtest_robustScaled_df)\n",
    "    final_preds.append(fpred)\n",
    "#     final_probs.append(fprob)"
   ]
  },
  {
   "cell_type": "code",
   "execution_count": 156,
   "id": "3253071c",
   "metadata": {
    "ExecuteTime": {
     "end_time": "2021-12-16T06:31:55.359445Z",
     "start_time": "2021-12-16T06:31:55.110678Z"
    }
   },
   "outputs": [
    {
     "name": "stdout",
     "output_type": "stream",
     "text": [
      "최종 메타 모델의 예측 정확도 :  0.9295\n"
     ]
    }
   ],
   "source": [
    "metamodel_preds = pd.DataFrame(final_preds).T\n",
    "final_model.fit(metamodel_preds,Cy_test)\n",
    "final_acc = np.mean(cross_val_score(final_model,metamodel_preds,Cy_test,cv=5))\n",
    "print(\"최종 메타 모델의 예측 정확도 : \" , final_acc )"
   ]
  },
  {
   "cell_type": "code",
   "execution_count": 157,
   "id": "244e71cd",
   "metadata": {
    "ExecuteTime": {
     "end_time": "2021-12-16T06:32:08.637755Z",
     "start_time": "2021-12-16T06:32:08.621909Z"
    }
   },
   "outputs": [],
   "source": [
    "from sklearn.metrics import confusion_matrix\n",
    "cof_list = []"
   ]
  },
  {
   "cell_type": "code",
   "execution_count": 158,
   "id": "31f68dff",
   "metadata": {
    "ExecuteTime": {
     "end_time": "2021-12-16T06:32:09.115763Z",
     "start_time": "2021-12-16T06:32:09.099757Z"
    }
   },
   "outputs": [],
   "source": [
    "final = final_model.predict(metamodel_preds)"
   ]
  },
  {
   "cell_type": "code",
   "execution_count": 159,
   "id": "3b3e8317",
   "metadata": {
    "ExecuteTime": {
     "end_time": "2021-12-16T06:32:10.545778Z",
     "start_time": "2021-12-16T06:32:10.537735Z"
    }
   },
   "outputs": [],
   "source": [
    "final_matrix = confusion_matrix(Cy_test , final)"
   ]
  },
  {
   "cell_type": "code",
   "execution_count": 160,
   "id": "90f1d4d9",
   "metadata": {
    "ExecuteTime": {
     "end_time": "2021-12-16T06:32:10.916078Z",
     "start_time": "2021-12-16T06:32:10.902025Z"
    }
   },
   "outputs": [
    {
     "data": {
      "text/plain": [
       "array([[1859,    0],\n",
       "       [ 141,    0]], dtype=int64)"
      ]
     },
     "execution_count": 160,
     "metadata": {},
     "output_type": "execute_result"
    }
   ],
   "source": [
    "final_matrix"
   ]
  },
  {
   "cell_type": "markdown",
   "id": "efce709a",
   "metadata": {},
   "source": [
    "# Confusion Matrix"
   ]
  },
  {
   "cell_type": "code",
   "execution_count": 128,
   "id": "d63b07f7",
   "metadata": {
    "ExecuteTime": {
     "end_time": "2021-12-16T06:04:04.593764Z",
     "start_time": "2021-12-16T06:04:04.579748Z"
    }
   },
   "outputs": [],
   "source": [
    "from sklearn.metrics import plot_confusion_matrix"
   ]
  },
  {
   "cell_type": "code",
   "execution_count": 129,
   "id": "eceb4b70",
   "metadata": {
    "ExecuteTime": {
     "end_time": "2021-12-16T06:04:05.062116Z",
     "start_time": "2021-12-16T06:04:04.963969Z"
    }
   },
   "outputs": [
    {
     "data": {
      "image/png": "[encoded data removed]",
      "text/plain": [
       "<Figure size 432x288 with 2 Axes>"
      ]
     },
     "metadata": {
      "needs_background": "light"
     },
     "output_type": "display_data"
    }
   ],
   "source": [
    "#XGBClassifier\n",
    "plot_confusion_matrix(model_list[0],CXtest_robustScaled_df, Cy_test,cmap=plt.cm.Blues)\n",
    "plt.show()"
   ]
  },
  {
   "cell_type": "code",
   "execution_count": 130,
   "id": "ff0a3047",
   "metadata": {
    "ExecuteTime": {
     "end_time": "2021-12-16T06:04:05.589744Z",
     "start_time": "2021-12-16T06:04:05.467470Z"
    }
   },
   "outputs": [
    {
     "data": {
      "image/png": "[encoded data removed]",
      "text/plain": [
       "<Figure size 432x288 with 2 Axes>"
      ]
     },
     "metadata": {
      "needs_background": "light"
     },
     "output_type": "display_data"
    }
   ],
   "source": [
    "#LGBMClassifier\n",
    "plot_confusion_matrix(model_list[1],CXtest_robustScaled_df, Cy_test,cmap=plt.cm.Blues)\n",
    "plt.show()"
   ]
  },
  {
   "cell_type": "code",
   "execution_count": 131,
   "id": "8c94c8b0",
   "metadata": {
    "ExecuteTime": {
     "end_time": "2021-12-16T06:04:06.234580Z",
     "start_time": "2021-12-16T06:04:06.123092Z"
    }
   },
   "outputs": [
    {
     "data": {
      "image/png": "[encoded data removed]",
      "text/plain": [
       "<Figure size 432x288 with 2 Axes>"
      ]
     },
     "metadata": {
      "needs_background": "light"
     },
     "output_type": "display_data"
    }
   ],
   "source": [
    "#BernoulliNB\n",
    "plot_confusion_matrix(model_list[2],CXtest_robustScaled_df, Cy_test,cmap=plt.cm.Blues)\n",
    "plt.show()"
   ]
  },
  {
   "cell_type": "code",
   "execution_count": 132,
   "id": "7b3b703e",
   "metadata": {
    "ExecuteTime": {
     "end_time": "2021-12-16T06:04:06.733416Z",
     "start_time": "2021-12-16T06:04:06.604683Z"
    }
   },
   "outputs": [
    {
     "data": {
      "image/png": "[encoded data removed]",
      "text/plain": [
       "<Figure size 432x288 with 2 Axes>"
      ]
     },
     "metadata": {
      "needs_background": "light"
     },
     "output_type": "display_data"
    }
   ],
   "source": [
    "#RandomForestClassifier\n",
    "plot_confusion_matrix(model_list[3],CXtest_robustScaled_df, Cy_test,cmap=plt.cm.Blues)\n",
    "plt.show()"
   ]
  },
  {
   "cell_type": "code",
   "execution_count": 133,
   "id": "80839f5a",
   "metadata": {
    "ExecuteTime": {
     "end_time": "2021-12-16T06:04:10.280426Z",
     "start_time": "2021-12-16T06:04:08.233968Z"
    }
   },
   "outputs": [
    {
     "data": {
      "image/png": "[encoded data removed]",
      "text/plain": [
       "<Figure size 432x288 with 2 Axes>"
      ]
     },
     "metadata": {
      "needs_background": "light"
     },
     "output_type": "display_data"
    }
   ],
   "source": [
    "#SVC\n",
    "plot_confusion_matrix(model_list[4],CXtest_robustScaled_df, Cy_test,cmap=plt.cm.Blues)\n",
    "plt.show()"
   ]
  },
  {
   "cell_type": "code",
   "execution_count": 134,
   "id": "32d32019",
   "metadata": {
    "ExecuteTime": {
     "end_time": "2021-12-16T06:04:12.442410Z",
     "start_time": "2021-12-16T06:04:10.281669Z"
    }
   },
   "outputs": [
    {
     "data": {
      "image/png": "[encoded data removed]",
      "text/plain": [
       "<Figure size 432x288 with 2 Axes>"
      ]
     },
     "metadata": {
      "needs_background": "light"
     },
     "output_type": "display_data"
    }
   ],
   "source": [
    "#VotingClassifier\n",
    "plot_confusion_matrix(voting_Classifier,CXtest_robustScaled_df, Cy_test,cmap=plt.cm.Blues)\n",
    "plt.show()"
   ]
  },
  {
   "cell_type": "code",
   "execution_count": 75,
   "id": "4ff68af4",
   "metadata": {
    "ExecuteTime": {
     "end_time": "2021-12-16T05:52:12.832583Z",
     "start_time": "2021-12-16T05:52:10.681636Z"
    }
   },
   "outputs": [
    {
     "data": {
      "image/png": "[encoded data removed]",
      "text/plain": [
       "<Figure size 432x288 with 2 Axes>"
      ]
     },
     "metadata": {
      "needs_background": "light"
     },
     "output_type": "display_data"
    }
   ],
   "source": [
    "#StackingClassifier\n",
    "plot_confusion_matrix(stack_classifier,CXtest_robustScaled_df, Cy_test,cmap=plt.cm.Blues)\n",
    "plt.show()"
   ]
  },
  {
   "cell_type": "markdown",
   "id": "90b552fb",
   "metadata": {},
   "source": [
    "5가지 모델\n",
    "- XGBClassifier\n",
    "- LGBMClassifier\n",
    "- BernoulliNB\n",
    "- RandomForestClassifier\n",
    "- SVC\n",
    "\n",
    "2가지의 메타모델\n",
    "- VotingClassifier\n",
    "- StackingClassifier\n",
    "\n",
    "최종 모델\n",
    "- finalClassifier"
   ]
  },
  {
   "cell_type": "markdown",
   "id": "5db5c8d6",
   "metadata": {},
   "source": [
    "## final model 5-교차검증 정확도"
   ]
  },
  {
   "cell_type": "code",
   "execution_count": null,
   "id": "3da5e103",
   "metadata": {
    "ExecuteTime": {
     "end_time": "2021-12-16T02:17:07.256823Z",
     "start_time": "2021-12-16T02:17:07.256823Z"
    }
   },
   "outputs": [],
   "source": [
    "i = 1\n",
    "total_acc = 0\n",
    "for train_index, test_index in kfold.split(CXtrain_ohe_robust_over,Cytrain_ohe_robust_over):\n",
    "    x_train_fold, x_valid_fold = CXtrain_ohe_robust_over[train_index], CXtrain_ohe_robust_over[test_index]\n",
    "    y_train_fold, y_valid_fold = Cytrain_ohe_robust_over[train_index], Cytrain_ohe_robust_over[test_index]\n",
    "    final_pred_fold = lr_final.fit(x_train_fold, y_train_fold).predict(x_valid_fold)\n",
    "#     lgbm_pred_fold = lgbm_fold.fit(x_train_fold, y_train_fold).predict(x_valid_fold)\n",
    "    acc= accuracy_score(final_pred_fold, y_valid_fold)\n",
    "    print('Fold = {}, prediction score = {:.2f}'.format(i, acc))\n",
    "    total_acc += acc\n",
    "    i+=1\n",
    "print('---'*10)\n",
    "print('Average Accuracy: %s' % (total_acc / n_splits))"
   ]
  },
  {
   "cell_type": "markdown",
   "id": "ca593e91",
   "metadata": {},
   "source": [
    "### RandomForestClassifier"
   ]
  },
  {
   "cell_type": "code",
   "execution_count": 136,
   "id": "0f0dec9c",
   "metadata": {
    "ExecuteTime": {
     "end_time": "2021-12-16T06:10:20.785024Z",
     "start_time": "2021-12-16T06:10:20.770007Z"
    }
   },
   "outputs": [
    {
     "data": {
      "text/plain": [
       "numpy.ndarray"
      ]
     },
     "execution_count": 136,
     "metadata": {},
     "output_type": "execute_result"
    }
   ],
   "source": [
    "type(CXtrain_ohe_robust_over)"
   ]
  },
  {
   "cell_type": "code",
   "execution_count": 137,
   "id": "4aade305",
   "metadata": {
    "ExecuteTime": {
     "end_time": "2021-12-16T06:11:29.308895Z",
     "start_time": "2021-12-16T06:11:29.298880Z"
    }
   },
   "outputs": [],
   "source": [
    "CXtrain_ohe_robust_over_df = pd.DataFrame(CXtrain_ohe_robust_over,columns = CX_test.columns)"
   ]
  },
  {
   "cell_type": "code",
   "execution_count": null,
   "id": "6da5b56d",
   "metadata": {},
   "outputs": [],
   "source": [
    "# CXtrain_ohe_robust_over[[\"T_AGE\", \"T_BMI\", \"T_INCOME\"]], CXtest_robustScaled_df[[\"T_AGE\", \"T_BMI\", \"T_INCOME\"]], Cytrain_ohe_robust_over, Cy_test"
   ]
  },
  {
   "cell_type": "code",
   "execution_count": 161,
   "id": "46acf142",
   "metadata": {
    "ExecuteTime": {
     "end_time": "2021-12-16T06:32:54.795917Z",
     "start_time": "2021-12-16T06:32:53.795235Z"
    }
   },
   "outputs": [
    {
     "data": {
      "image/png": "[encoded data removed]",
      "text/plain": [
       "<Figure size 792x576 with 1 Axes>"
      ]
     },
     "metadata": {
      "needs_background": "light"
     },
     "output_type": "display_data"
    },
    {
     "name": "stdout",
     "output_type": "stream",
     "text": [
      "                      model  accuracy\n",
      "0                   XGBoost    0.9275\n",
      "1                      LGBM    0.9275\n",
      "2   RandomForest Classifier    0.8535\n",
      "3  RandomForest Classifier3    0.8535\n",
      "4         VotingClassifier     0.8190\n",
      "5             SVClassifier     0.6350\n",
      "6               BernoulliNB    0.5465\n"
     ]
    },
    {
     "data": {
      "image/png": "[encoded data removed]",
      "text/plain": [
       "<Figure size 648x252 with 1 Axes>"
      ]
     },
     "metadata": {
      "needs_background": "light"
     },
     "output_type": "display_data"
    }
   ],
   "source": [
    "rfr3 = RandomForestClassifier(**best_prams[2][1])\n",
    "rfr3.fit(CXtrain_ohe_robust_over_df[[\"T_AGE\", \"T_BMI\", \"T_INCOME\"]],Cytrain_ohe_robust_over)\n",
    "rfr_pred3 = rfr3.predict(CXtest_robustScaled_df[[\"T_AGE\", \"T_BMI\", \"T_INCOME\"]])\n",
    "acc_eval('RandomForest Classifier3', rfr_pred3, Cy_test,True)"
   ]
  },
  {
   "cell_type": "code",
   "execution_count": 163,
   "id": "add8e11c",
   "metadata": {
    "ExecuteTime": {
     "end_time": "2021-12-16T06:33:25.004649Z",
     "start_time": "2021-12-16T06:33:24.883340Z"
    },
    "scrolled": true
   },
   "outputs": [
    {
     "data": {
      "image/png": "[encoded data removed]",
      "text/plain": [
       "<Figure size 432x288 with 1 Axes>"
      ]
     },
     "metadata": {
      "needs_background": "light"
     },
     "output_type": "display_data"
    }
   ],
   "source": [
    "model =rfr3\n",
    "# model.fit(CXtrain_ohe_robust_over_df[[\"T_AGE\", \"T_BMI\", \"T_INCOME\"]],Cytrain_ohe_robust_over)\n",
    "\n",
    "probs = model.predict_proba(CXtest_robustScaled_df[[\"T_AGE\", \"T_BMI\", \"T_INCOME\"]])\n",
    "prob = probs[:, 1]\n",
    "fper, tper, thresholds = roc_curve(Cy_test, prob)\n",
    "plot_roc_curve(fper, tper)"
   ]
  },
  {
   "cell_type": "code",
   "execution_count": 164,
   "id": "329dd9f1",
   "metadata": {
    "ExecuteTime": {
     "end_time": "2021-12-16T06:33:28.447077Z",
     "start_time": "2021-12-16T06:33:28.428126Z"
    }
   },
   "outputs": [
    {
     "data": {
      "text/plain": [
       "0.7548746943182295"
      ]
     },
     "execution_count": 164,
     "metadata": {},
     "output_type": "execute_result"
    }
   ],
   "source": [
    "roc_auc_score(Cy_test, prob)"
   ]
  },
  {
   "cell_type": "code",
   "execution_count": 145,
   "id": "33a18cee",
   "metadata": {
    "ExecuteTime": {
     "end_time": "2021-12-16T06:14:21.495540Z",
     "start_time": "2021-12-16T06:14:20.870190Z"
    }
   },
   "outputs": [
    {
     "name": "stdout",
     "output_type": "stream",
     "text": [
      "변수 3개 선택 모델의 예측 정확도 :  0.9295\n"
     ]
    }
   ],
   "source": [
    "final_acc = np.mean(cross_val_score(model,CXtest_robustScaled_df[[\"T_AGE\", \"T_BMI\", \"T_INCOME\"]],Cy_test,cv=5))\n",
    "print(\"변수 3개 선택 모델의 예측 정확도 : \" , final_acc )"
   ]
  },
  {
   "cell_type": "code",
   "execution_count": 146,
   "id": "3148d24e",
   "metadata": {
    "ExecuteTime": {
     "end_time": "2021-12-16T06:15:23.358129Z",
     "start_time": "2021-12-16T06:15:23.212098Z"
    }
   },
   "outputs": [
    {
     "data": {
      "image/png": "[encoded data removed]",
      "text/plain": [
       "<Figure size 432x288 with 2 Axes>"
      ]
     },
     "metadata": {
      "needs_background": "light"
     },
     "output_type": "display_data"
    }
   ],
   "source": [
    "plot_confusion_matrix(rfr3,CXtest_robustScaled_df[[\"T_AGE\", \"T_BMI\", \"T_INCOME\"]], Cy_test,cmap=plt.cm.Blues)\n",
    "plt.show()"
   ]
  },
  {
   "cell_type": "markdown",
   "id": "6a3ee199",
   "metadata": {},
   "source": [
    "# 결과 해석"
   ]
  },
  {
   "cell_type": "markdown",
   "id": "3131bf5a",
   "metadata": {},
   "source": [
    "술과 술에 첨가된 물질에 의해 당을 섭취하기 쉽다는 사실은 이미 알려져 있다.\n",
    "설문에서도 술과 관련되어 아주 상세한 설문 문항이 있다. \n",
    "국립 보건원에서 이미 데이터로 검증하여 선정된 문항\n",
    "하지만 변수의 중요도가 낮게 평가 됐다.\n",
    "병원에서 물어보면 실제보다 낮춰서 쓰는 경향이 있기 떄문이다.\n"
   ]
  },
  {
   "cell_type": "markdown",
   "id": "207152e8",
   "metadata": {},
   "source": [
    "또한 높은 자기 객관성과 기억력이 필요하다.\n",
    "그래서 객관적인 수치인 임상조사와 키, 몸무게, 수입 등의 영향력이 크게 평가되었을 것이다. \n",
    "인터넷이나 앱으로 배포되어 병원에 가기 전 간단하게 자가 검진 할 수 있는 용도로 사용 될 수 있다.\n",
    "또한 온라인으로 설문을 받아서, 온라인으로 옮기는 추가적인 단계가 불필요해서,\n",
    "데이터 수집 수단으로도 유용하게 사용 될 것으로 기대된다."
   ]
  }
 ],
 "metadata": {
  "hide_input": false,
  "kernelspec": {
   "display_name": "Python 3 (ipykernel)",
   "language": "python",
   "name": "python3"
  },
  "language_info": {
   "codemirror_mode": {
    "name": "ipython",
    "version": 3
   },
   "file_extension": ".py",
   "mimetype": "text/x-python",
   "name": "python",
   "nbconvert_exporter": "python",
   "pygments_lexer": "ipython3",
   "version": "3.9.7"
  },
  "latex_envs": {
   "LaTeX_envs_menu_present": true,
   "autoclose": false,
   "autocomplete": true,
   "bibliofile": "biblio.bib",
   "cite_by": "apalike",
   "current_citInitial": 1,
   "eqLabelWithNumbers": true,
   "eqNumInitial": 1,
   "hotkeys": {
    "equation": "Ctrl-E",
    "itemize": "Ctrl-I"
   },
   "labels_anchors": false,
   "latex_user_defs": false,
   "report_style_numbering": false,
   "user_envs_cfg": false
  },
  "toc": {
   "base_numbering": 1,
   "nav_menu": {},
   "number_sections": true,
   "sideBar": true,
   "skip_h1_title": false,
   "title_cell": "Table of Contents",
   "title_sidebar": "Contents",
   "toc_cell": false,
   "toc_position": {
    "height": "calc(100% - 180px)",
    "left": "10px",
    "top": "150px",
    "width": "307.188px"
   },
   "toc_section_display": true,
   "toc_window_display": true
  },
  "varInspector": {
   "cols": {
    "lenName": 16,
    "lenType": 16,
    "lenVar": 40
   },
   "kernels_config": {
    "python": {
     "delete_cmd_postfix": "",
     "delete_cmd_prefix": "del ",
     "library": "var_list.py",
     "varRefreshCmd": "print(var_dic_list())"
    },
    "r": {
     "delete_cmd_postfix": ") ",
     "delete_cmd_prefix": "rm(",
     "library": "var_list.r",
     "varRefreshCmd": "cat(var_dic_list()) "
    }
   },
   "types_to_exclude": [
    "module",
    "function",
    "builtin_function_or_method",
    "instance",
    "_Feature"
   ],
   "window_display": false
  }
 },
 "nbformat": 4,
 "nbformat_minor": 5
}
