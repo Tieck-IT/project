{
 "cells": [
  {
   "cell_type": "markdown",
   "id": "b4c7ed1f",
   "metadata": {},
   "source": [
    "# second start point"
   ]
  },
  {
   "cell_type": "markdown",
   "id": "725974e8",
   "metadata": {},
   "source": [
    "### 결측치 처리한 데이터셋 저장"
   ]
  },
  {
   "cell_type": "code",
   "execution_count": 1,
   "id": "fb3a4683",
   "metadata": {
    "ExecuteTime": {
     "end_time": "2021-12-19T09:35:20.049959Z",
     "start_time": "2021-12-19T09:35:20.043954Z"
    }
   },
   "outputs": [],
   "source": [
    "DATADIR = \"dataset/\"\n",
    "import pandas as pd\n",
    "import numpy as np\n",
    "import matplotlib.pyplot as plt\n",
    "import seaborn as sns\n",
    "import warnings\n",
    "%matplotlib inline\n",
    "warnings.filterwarnings('ignore')"
   ]
  },
  {
   "cell_type": "code",
   "execution_count": 2,
   "id": "045c0e93",
   "metadata": {
    "ExecuteTime": {
     "end_time": "2021-12-19T09:35:20.826081Z",
     "start_time": "2021-12-19T09:35:20.811142Z"
    }
   },
   "outputs": [],
   "source": [
    "import copy"
   ]
  },
  {
   "cell_type": "code",
   "execution_count": 3,
   "id": "f4c5112f",
   "metadata": {
    "ExecuteTime": {
     "end_time": "2021-12-19T09:35:21.423322Z",
     "start_time": "2021-12-19T09:35:21.396161Z"
    }
   },
   "outputs": [],
   "source": [
    "snd_dataset = pd.read_csv(DATADIR+\"perfect_base.csv\")\n",
    "df_imputed = copy.deepcopy(snd_dataset)"
   ]
  },
  {
   "cell_type": "code",
   "execution_count": 4,
   "id": "fa1a260e",
   "metadata": {
    "ExecuteTime": {
     "end_time": "2021-12-19T09:35:22.223848Z",
     "start_time": "2021-12-19T09:35:22.203830Z"
    }
   },
   "outputs": [],
   "source": [
    "base_cols = pd.read_csv(DATADIR+\"base_colnames.csv\")\n",
    "lifestyle_cols = base_cols[base_cols[\"class\"]==\"생활습관\"][\"colnames\"]\n",
    "female_cols = base_cols[base_cols[\"class\"]==\"여성력\"][\"colnames\"]\n",
    "history_cols = base_cols[base_cols[\"class\"]==\"과거력\"][\"colnames\"]\n",
    "family_cols = base_cols[base_cols[\"class\"]==\"가족력\"][\"colnames\"]\n",
    "start_cols = base_cols[(base_cols[\"class\"]==\"기본정보\") | (base_cols[\"class\"]==\"일반정보\")][\"colnames\"]\n",
    "used_cols = pd.Series([\"T_HEIGHT\", \"T_WEIGHT\",\"T_BMI\"])\n",
    "target_cols = pd.Series([\"T_DM\",\"T_GLU0\"])"
   ]
  },
  {
   "cell_type": "code",
   "execution_count": 5,
   "id": "4feacc87",
   "metadata": {
    "ExecuteTime": {
     "end_time": "2021-12-19T09:35:22.840990Z",
     "start_time": "2021-12-19T09:35:22.828966Z"
    }
   },
   "outputs": [
    {
     "data": {
      "text/plain": [
       "30"
      ]
     },
     "execution_count": 5,
     "metadata": {},
     "output_type": "execute_result"
    }
   ],
   "source": [
    "start_cols = start_cols.append([used_cols,target_cols,lifestyle_cols]).reset_index(drop=True)\n",
    "start_cols.drop(index = [0,1],inplace=True) # \"T_ID\", \"T_DATA_CLASS\" drop\n",
    "len(start_cols)"
   ]
  },
  {
   "cell_type": "code",
   "execution_count": 6,
   "id": "cd7f428d",
   "metadata": {
    "ExecuteTime": {
     "end_time": "2021-12-19T09:35:23.706035Z",
     "start_time": "2021-12-19T09:35:23.693074Z"
    }
   },
   "outputs": [],
   "source": [
    "normial_cols = base_cols[base_cols[\"ordinalTrue\"]==\"0\"][\"colnames\"]\n",
    "ordinal_cols = base_cols[base_cols[\"ordinalTrue\"]==\"1\"][\"colnames\"]"
   ]
  },
  {
   "cell_type": "code",
   "execution_count": 7,
   "id": "28913d0f",
   "metadata": {
    "ExecuteTime": {
     "end_time": "2021-12-19T09:35:24.322504Z",
     "start_time": "2021-12-19T09:35:24.316170Z"
    }
   },
   "outputs": [],
   "source": [
    "categori_cols = base_cols[base_cols[\"coltype\"]==\"범주형\"][\"colnames\"]\n",
    "continous_cols = base_cols[base_cols[\"coltype\"]==\"연속형\"][\"colnames\"]"
   ]
  },
  {
   "cell_type": "code",
   "execution_count": 8,
   "id": "3528077a",
   "metadata": {
    "ExecuteTime": {
     "end_time": "2021-12-19T09:35:24.938274Z",
     "start_time": "2021-12-19T09:35:24.926135Z"
    }
   },
   "outputs": [],
   "source": [
    "binary_cols = []\n",
    "\n",
    "for col in df_imputed:\n",
    "    if df_imputed[col].value_counts().index.shape[0] < 3:\n",
    "        binary_cols.append(col)"
   ]
  },
  {
   "cell_type": "code",
   "execution_count": 9,
   "id": "efd12804",
   "metadata": {
    "ExecuteTime": {
     "end_time": "2021-12-19T09:35:25.473340Z",
     "start_time": "2021-12-19T09:35:25.444322Z"
    }
   },
   "outputs": [
    {
     "data": {
      "text/html": [
       "<div>\n",
       "<style scoped>\n",
       "    .dataframe tbody tr th:only-of-type {\n",
       "        vertical-align: middle;\n",
       "    }\n",
       "\n",
       "    .dataframe tbody tr th {\n",
       "        vertical-align: top;\n",
       "    }\n",
       "\n",
       "    .dataframe thead th {\n",
       "        text-align: right;\n",
       "    }\n",
       "</style>\n",
       "<table border=\"1\" class=\"dataframe\">\n",
       "  <thead>\n",
       "    <tr style=\"text-align: right;\">\n",
       "      <th></th>\n",
       "      <th>T_AGE</th>\n",
       "      <th>T_INCOME</th>\n",
       "      <th>T_MARRY</th>\n",
       "      <th>T_HEIGHT</th>\n",
       "      <th>T_WEIGHT</th>\n",
       "      <th>T_BMI</th>\n",
       "      <th>T_DM</th>\n",
       "      <th>T_GLU0</th>\n",
       "      <th>T_DRINK</th>\n",
       "      <th>T_DRDU</th>\n",
       "      <th>...</th>\n",
       "      <th>T_BEERFQ</th>\n",
       "      <th>T_BEERAM</th>\n",
       "      <th>T_HLIQFQ</th>\n",
       "      <th>T_HLIQAM</th>\n",
       "      <th>T_SMOKE</th>\n",
       "      <th>T_SMDUYR</th>\n",
       "      <th>T_SMDUMO</th>\n",
       "      <th>T_SMAM</th>\n",
       "      <th>T_PSM</th>\n",
       "      <th>T_EXER</th>\n",
       "    </tr>\n",
       "  </thead>\n",
       "  <tbody>\n",
       "    <tr>\n",
       "      <th>0</th>\n",
       "      <td>0</td>\n",
       "      <td>0</td>\n",
       "      <td>0</td>\n",
       "      <td>0</td>\n",
       "      <td>0</td>\n",
       "      <td>0</td>\n",
       "      <td>0</td>\n",
       "      <td>0</td>\n",
       "      <td>0</td>\n",
       "      <td>0</td>\n",
       "      <td>...</td>\n",
       "      <td>0</td>\n",
       "      <td>0</td>\n",
       "      <td>0</td>\n",
       "      <td>0</td>\n",
       "      <td>0</td>\n",
       "      <td>0</td>\n",
       "      <td>0</td>\n",
       "      <td>0</td>\n",
       "      <td>0</td>\n",
       "      <td>0</td>\n",
       "    </tr>\n",
       "    <tr>\n",
       "      <th>1</th>\n",
       "      <td>58</td>\n",
       "      <td>1</td>\n",
       "      <td>2</td>\n",
       "      <td>156</td>\n",
       "      <td>64</td>\n",
       "      <td>26</td>\n",
       "      <td>0</td>\n",
       "      <td>86</td>\n",
       "      <td>2</td>\n",
       "      <td>3</td>\n",
       "      <td>...</td>\n",
       "      <td>0</td>\n",
       "      <td>0</td>\n",
       "      <td>0</td>\n",
       "      <td>0</td>\n",
       "      <td>1</td>\n",
       "      <td>0</td>\n",
       "      <td>0</td>\n",
       "      <td>0</td>\n",
       "      <td>2</td>\n",
       "      <td>1</td>\n",
       "    </tr>\n",
       "    <tr>\n",
       "      <th>2</th>\n",
       "      <td>60</td>\n",
       "      <td>4</td>\n",
       "      <td>2</td>\n",
       "      <td>154</td>\n",
       "      <td>54</td>\n",
       "      <td>23</td>\n",
       "      <td>0</td>\n",
       "      <td>86</td>\n",
       "      <td>1</td>\n",
       "      <td>0</td>\n",
       "      <td>...</td>\n",
       "      <td>0</td>\n",
       "      <td>0</td>\n",
       "      <td>0</td>\n",
       "      <td>0</td>\n",
       "      <td>1</td>\n",
       "      <td>0</td>\n",
       "      <td>0</td>\n",
       "      <td>0</td>\n",
       "      <td>1</td>\n",
       "      <td>2</td>\n",
       "    </tr>\n",
       "    <tr>\n",
       "      <th>3</th>\n",
       "      <td>73</td>\n",
       "      <td>1</td>\n",
       "      <td>5</td>\n",
       "      <td>143</td>\n",
       "      <td>55</td>\n",
       "      <td>27</td>\n",
       "      <td>0</td>\n",
       "      <td>108</td>\n",
       "      <td>1</td>\n",
       "      <td>0</td>\n",
       "      <td>...</td>\n",
       "      <td>0</td>\n",
       "      <td>0</td>\n",
       "      <td>0</td>\n",
       "      <td>0</td>\n",
       "      <td>1</td>\n",
       "      <td>0</td>\n",
       "      <td>0</td>\n",
       "      <td>0</td>\n",
       "      <td>1</td>\n",
       "      <td>2</td>\n",
       "    </tr>\n",
       "    <tr>\n",
       "      <th>4</th>\n",
       "      <td>59</td>\n",
       "      <td>2</td>\n",
       "      <td>2</td>\n",
       "      <td>150</td>\n",
       "      <td>60</td>\n",
       "      <td>27</td>\n",
       "      <td>0</td>\n",
       "      <td>91</td>\n",
       "      <td>1</td>\n",
       "      <td>0</td>\n",
       "      <td>...</td>\n",
       "      <td>0</td>\n",
       "      <td>0</td>\n",
       "      <td>0</td>\n",
       "      <td>0</td>\n",
       "      <td>1</td>\n",
       "      <td>0</td>\n",
       "      <td>0</td>\n",
       "      <td>0</td>\n",
       "      <td>1</td>\n",
       "      <td>1</td>\n",
       "    </tr>\n",
       "  </tbody>\n",
       "</table>\n",
       "<p>5 rows × 28 columns</p>\n",
       "</div>"
      ],
      "text/plain": [
       "   T_AGE  T_INCOME  T_MARRY  T_HEIGHT  T_WEIGHT  T_BMI  T_DM  T_GLU0  T_DRINK  \\\n",
       "0      0         0        0         0         0      0     0       0        0   \n",
       "1     58         1        2       156        64     26     0      86        2   \n",
       "2     60         4        2       154        54     23     0      86        1   \n",
       "3     73         1        5       143        55     27     0     108        1   \n",
       "4     59         2        2       150        60     27     0      91        1   \n",
       "\n",
       "   T_DRDU  ...  T_BEERFQ  T_BEERAM  T_HLIQFQ  T_HLIQAM  T_SMOKE  T_SMDUYR  \\\n",
       "0       0  ...         0         0         0         0        0         0   \n",
       "1       3  ...         0         0         0         0        1         0   \n",
       "2       0  ...         0         0         0         0        1         0   \n",
       "3       0  ...         0         0         0         0        1         0   \n",
       "4       0  ...         0         0         0         0        1         0   \n",
       "\n",
       "   T_SMDUMO  T_SMAM  T_PSM  T_EXER  \n",
       "0         0       0      0       0  \n",
       "1         0       0      2       1  \n",
       "2         0       0      1       2  \n",
       "3         0       0      1       2  \n",
       "4         0       0      1       1  \n",
       "\n",
       "[5 rows x 28 columns]"
      ]
     },
     "execution_count": 9,
     "metadata": {},
     "output_type": "execute_result"
    }
   ],
   "source": [
    "df_imputed.head()"
   ]
  },
  {
   "cell_type": "markdown",
   "id": "18d4cf8a",
   "metadata": {},
   "source": [
    "## 파생변수 만들기( 1회 음주량, 1년 평균 섭취 횟수)"
   ]
  },
  {
   "cell_type": "code",
   "execution_count": 10,
   "id": "4f0f1b48",
   "metadata": {
    "ExecuteTime": {
     "end_time": "2021-12-19T09:35:27.245926Z",
     "start_time": "2021-12-19T09:35:27.235909Z"
    }
   },
   "outputs": [],
   "source": [
    "AM_cols = [] # 술 종류별 1회 음주량\n",
    "FQ_cols = [] # 술 종류별 지난 1년 평균 섭취 횟수\n",
    "\n",
    "for col in df_imputed:\n",
    "    if \"AM\" in col:\n",
    "        if \"SM\" not in col:\n",
    "            AM_cols.append(col)\n",
    "    if \"FQ\" in col :\n",
    "        FQ_cols.append(col)"
   ]
  },
  {
   "cell_type": "code",
   "execution_count": 11,
   "id": "6f845224",
   "metadata": {
    "ExecuteTime": {
     "end_time": "2021-12-19T09:35:27.877515Z",
     "start_time": "2021-12-19T09:35:27.863088Z"
    }
   },
   "outputs": [
    {
     "data": {
      "text/plain": [
       "(6, 6)"
      ]
     },
     "execution_count": 11,
     "metadata": {},
     "output_type": "execute_result"
    }
   ],
   "source": [
    "len(AM_cols), len(FQ_cols)"
   ]
  },
  {
   "cell_type": "code",
   "execution_count": 12,
   "id": "44d76762",
   "metadata": {
    "ExecuteTime": {
     "end_time": "2021-12-19T09:35:29.649912Z",
     "start_time": "2021-12-19T09:35:28.604748Z"
    }
   },
   "outputs": [],
   "source": [
    "df_imputed[\"AM_sum\"] = df_imputed[AM_cols].apply(lambda x : sum(x),axis=1)\n",
    "df_imputed[\"FQ_sum\"] = df_imputed[FQ_cols].apply(lambda x : sum(x),axis=1)\n",
    "df_imputed[\"AM_mean\"] = df_imputed[AM_cols].apply(lambda x : np.mean(x),axis=1)\n",
    "df_imputed[\"FQ_mean\"] = df_imputed[FQ_cols].apply(lambda x : np.mean(x),axis=1)"
   ]
  },
  {
   "cell_type": "code",
   "execution_count": 13,
   "id": "8606c701",
   "metadata": {
    "ExecuteTime": {
     "end_time": "2021-12-19T09:35:30.375978Z",
     "start_time": "2021-12-19T09:35:30.172028Z"
    }
   },
   "outputs": [
    {
     "data": {
      "text/plain": [
       "<AxesSubplot:>"
      ]
     },
     "execution_count": 13,
     "metadata": {},
     "output_type": "execute_result"
    },
    {
     "data": {
      "image/png": "[encoded data removed]",
      "text/plain": [
       "<Figure size 432x288 with 1 Axes>"
      ]
     },
     "metadata": {
      "needs_background": "light"
     },
     "output_type": "display_data"
    }
   ],
   "source": [
    "df_imputed[\"AM_sum\"].hist()"
   ]
  },
  {
   "cell_type": "code",
   "execution_count": 14,
   "id": "c9e7e1a2",
   "metadata": {
    "ExecuteTime": {
     "end_time": "2021-12-19T09:35:31.087559Z",
     "start_time": "2021-12-19T09:35:30.898051Z"
    }
   },
   "outputs": [
    {
     "data": {
      "text/plain": [
       "<AxesSubplot:>"
      ]
     },
     "execution_count": 14,
     "metadata": {},
     "output_type": "execute_result"
    },
    {
     "data": {
      "image/png": "[encoded data removed]",
      "text/plain": [
       "<Figure size 432x288 with 1 Axes>"
      ]
     },
     "metadata": {
      "needs_background": "light"
     },
     "output_type": "display_data"
    }
   ],
   "source": [
    "df_imputed[\"FQ_sum\"].hist()"
   ]
  },
  {
   "cell_type": "code",
   "execution_count": 15,
   "id": "088f208c",
   "metadata": {
    "ExecuteTime": {
     "end_time": "2021-12-19T09:35:31.606877Z",
     "start_time": "2021-12-19T09:35:31.592159Z"
    }
   },
   "outputs": [
    {
     "data": {
      "text/html": [
       "<div>\n",
       "<style scoped>\n",
       "    .dataframe tbody tr th:only-of-type {\n",
       "        vertical-align: middle;\n",
       "    }\n",
       "\n",
       "    .dataframe tbody tr th {\n",
       "        vertical-align: top;\n",
       "    }\n",
       "\n",
       "    .dataframe thead th {\n",
       "        text-align: right;\n",
       "    }\n",
       "</style>\n",
       "<table border=\"1\" class=\"dataframe\">\n",
       "  <thead>\n",
       "    <tr style=\"text-align: right;\">\n",
       "      <th></th>\n",
       "      <th>AM_mean</th>\n",
       "      <th>AM_sum</th>\n",
       "    </tr>\n",
       "  </thead>\n",
       "  <tbody>\n",
       "    <tr>\n",
       "      <th>0</th>\n",
       "      <td>0.000000</td>\n",
       "      <td>0</td>\n",
       "    </tr>\n",
       "    <tr>\n",
       "      <th>1</th>\n",
       "      <td>0.000000</td>\n",
       "      <td>0</td>\n",
       "    </tr>\n",
       "    <tr>\n",
       "      <th>2</th>\n",
       "      <td>0.000000</td>\n",
       "      <td>0</td>\n",
       "    </tr>\n",
       "    <tr>\n",
       "      <th>3</th>\n",
       "      <td>0.000000</td>\n",
       "      <td>0</td>\n",
       "    </tr>\n",
       "    <tr>\n",
       "      <th>4</th>\n",
       "      <td>0.000000</td>\n",
       "      <td>0</td>\n",
       "    </tr>\n",
       "    <tr>\n",
       "      <th>...</th>\n",
       "      <td>...</td>\n",
       "      <td>...</td>\n",
       "    </tr>\n",
       "    <tr>\n",
       "      <th>9995</th>\n",
       "      <td>0.500000</td>\n",
       "      <td>3</td>\n",
       "    </tr>\n",
       "    <tr>\n",
       "      <th>9996</th>\n",
       "      <td>1.666667</td>\n",
       "      <td>10</td>\n",
       "    </tr>\n",
       "    <tr>\n",
       "      <th>9997</th>\n",
       "      <td>1.000000</td>\n",
       "      <td>6</td>\n",
       "    </tr>\n",
       "    <tr>\n",
       "      <th>9998</th>\n",
       "      <td>1.000000</td>\n",
       "      <td>6</td>\n",
       "    </tr>\n",
       "    <tr>\n",
       "      <th>9999</th>\n",
       "      <td>0.000000</td>\n",
       "      <td>0</td>\n",
       "    </tr>\n",
       "  </tbody>\n",
       "</table>\n",
       "<p>10000 rows × 2 columns</p>\n",
       "</div>"
      ],
      "text/plain": [
       "       AM_mean  AM_sum\n",
       "0     0.000000       0\n",
       "1     0.000000       0\n",
       "2     0.000000       0\n",
       "3     0.000000       0\n",
       "4     0.000000       0\n",
       "...        ...     ...\n",
       "9995  0.500000       3\n",
       "9996  1.666667      10\n",
       "9997  1.000000       6\n",
       "9998  1.000000       6\n",
       "9999  0.000000       0\n",
       "\n",
       "[10000 rows x 2 columns]"
      ]
     },
     "execution_count": 15,
     "metadata": {},
     "output_type": "execute_result"
    }
   ],
   "source": [
    "df_imputed[[\"AM_mean\",\"AM_sum\"]]"
   ]
  },
  {
   "cell_type": "code",
   "execution_count": 16,
   "id": "3c4b2050",
   "metadata": {
    "ExecuteTime": {
     "end_time": "2021-12-19T09:35:32.280605Z",
     "start_time": "2021-12-19T09:35:32.115212Z"
    }
   },
   "outputs": [
    {
     "data": {
      "text/plain": [
       "<AxesSubplot:>"
      ]
     },
     "execution_count": 16,
     "metadata": {},
     "output_type": "execute_result"
    },
    {
     "data": {
      "image/png": "[encoded data removed]",
      "text/plain": [
       "<Figure size 432x288 with 1 Axes>"
      ]
     },
     "metadata": {
      "needs_background": "light"
     },
     "output_type": "display_data"
    }
   ],
   "source": [
    "df_imputed[\"AM_mean\"].hist()"
   ]
  },
  {
   "cell_type": "code",
   "execution_count": 17,
   "id": "5ed33b46",
   "metadata": {
    "ExecuteTime": {
     "end_time": "2021-12-19T09:35:32.982338Z",
     "start_time": "2021-12-19T09:35:32.794286Z"
    }
   },
   "outputs": [
    {
     "data": {
      "text/plain": [
       "<AxesSubplot:>"
      ]
     },
     "execution_count": 17,
     "metadata": {},
     "output_type": "execute_result"
    },
    {
     "data": {
      "image/png": "[encoded data removed]",
      "text/plain": [
       "<Figure size 432x288 with 1 Axes>"
      ]
     },
     "metadata": {
      "needs_background": "light"
     },
     "output_type": "display_data"
    }
   ],
   "source": [
    "df_imputed[\"FQ_mean\"].hist()"
   ]
  },
  {
   "cell_type": "code",
   "execution_count": 18,
   "id": "eb25c9cd",
   "metadata": {
    "ExecuteTime": {
     "end_time": "2021-12-19T09:35:33.499355Z",
     "start_time": "2021-12-19T09:35:33.490358Z"
    }
   },
   "outputs": [],
   "source": [
    "start_normial_cols = [] # 명목 척도\n",
    "start_ordinal_cols = [] # 서열 척도\n",
    "start_continous_cols = [] # 숫자형(연속형, 이산형)\n",
    "start_target_cols = [] # 타겟\n",
    "\n",
    "for col in df_imputed:\n",
    "    if col in target_cols.to_list():\n",
    "        start_target_cols.append(col)\n",
    "    else:\n",
    "        if col in normial_cols.to_list():\n",
    "            start_normial_cols.append(col)\n",
    "        if col in ordinal_cols.to_list():\n",
    "            start_ordinal_cols.append(col)\n",
    "        if col in continous_cols.to_list():\n",
    "            start_continous_cols.append(col)\n",
    "    "
   ]
  },
  {
   "cell_type": "code",
   "execution_count": 19,
   "id": "d38f6443",
   "metadata": {
    "ExecuteTime": {
     "end_time": "2021-12-19T09:35:34.017816Z",
     "start_time": "2021-12-19T09:35:34.002797Z"
    }
   },
   "outputs": [
    {
     "data": {
      "text/plain": [
       "['T_DM', 'T_GLU0']"
      ]
     },
     "execution_count": 19,
     "metadata": {},
     "output_type": "execute_result"
    }
   ],
   "source": [
    "start_target_cols"
   ]
  },
  {
   "cell_type": "code",
   "execution_count": 20,
   "id": "b268703a",
   "metadata": {
    "ExecuteTime": {
     "end_time": "2021-12-19T09:35:34.536873Z",
     "start_time": "2021-12-19T09:35:34.522936Z"
    }
   },
   "outputs": [
    {
     "data": {
      "text/plain": [
       "(32, 28)"
      ]
     },
     "execution_count": 20,
     "metadata": {},
     "output_type": "execute_result"
    }
   ],
   "source": [
    "df_imputed.shape[1], len(start_normial_cols) + len(start_ordinal_cols) + len(start_continous_cols) + len(start_target_cols)"
   ]
  },
  {
   "cell_type": "markdown",
   "id": "4878afbf",
   "metadata": {},
   "source": [
    "## 원핫 인코딩"
   ]
  },
  {
   "cell_type": "code",
   "execution_count": 21,
   "id": "fc573764",
   "metadata": {
    "ExecuteTime": {
     "end_time": "2021-12-19T09:35:35.072125Z",
     "start_time": "2021-12-19T09:35:35.047069Z"
    }
   },
   "outputs": [],
   "source": [
    "from sklearn.preprocessing import OneHotEncoder"
   ]
  },
  {
   "cell_type": "code",
   "execution_count": 22,
   "id": "f78d5c4b",
   "metadata": {
    "ExecuteTime": {
     "end_time": "2021-12-19T09:35:35.608849Z",
     "start_time": "2021-12-19T09:35:35.579808Z"
    }
   },
   "outputs": [],
   "source": [
    "ohe_encoders = []\n",
    "\n",
    "for col in df_imputed.columns:\n",
    "    if col not in binary_cols: \n",
    "        if col in normial_cols.to_list(): # 명목 척도 -> ohe\n",
    "            encoder = OneHotEncoder(sparse=False)\n",
    "            ohe_values = encoder.fit_transform(df_imputed[col].values.reshape(-1,1))\n",
    "            ohe_df = pd.DataFrame(ohe_values,columns=encoder.get_feature_names([\"_\"+col]))\n",
    "            df_imputed.drop(columns=col,inplace=True)\n",
    "            df_imputed = pd.concat([df_imputed,ohe_df],axis=1)\n",
    "\n",
    "        else:\n",
    "            encoder = \"non_nomial\" # 서열 척도 -> 이미 label 인코딩 된 상태\n",
    "    else:\n",
    "        encoder = \"binary\" # 이진 변수 (클래스 : 0 , 1)는 이미 ohe 처리 된 상태\n",
    "    ohe_encoders.append([col,encoder])"
   ]
  },
  {
   "cell_type": "markdown",
   "id": "5331219c",
   "metadata": {},
   "source": [
    "### 원본 데이터셋과 ohe 결과 비교"
   ]
  },
  {
   "cell_type": "code",
   "execution_count": 23,
   "id": "fb8352e5",
   "metadata": {
    "ExecuteTime": {
     "end_time": "2021-12-19T09:35:36.727807Z",
     "start_time": "2021-12-19T09:35:36.710150Z"
    }
   },
   "outputs": [
    {
     "data": {
      "text/plain": [
       "((10000, 28), (10000, 42))"
      ]
     },
     "execution_count": 23,
     "metadata": {},
     "output_type": "execute_result"
    }
   ],
   "source": [
    "snd_dataset.shape, df_imputed.shape"
   ]
  },
  {
   "cell_type": "markdown",
   "id": "2ea98668",
   "metadata": {},
   "source": [
    "# data / target 분리"
   ]
  },
  {
   "cell_type": "code",
   "execution_count": 24,
   "id": "13842d92",
   "metadata": {
    "ExecuteTime": {
     "end_time": "2021-12-19T09:35:37.818308Z",
     "start_time": "2021-12-19T09:35:37.810111Z"
    }
   },
   "outputs": [],
   "source": [
    "target_TDM = df_imputed[\"T_DM\"] # 당뇨 진단 \n",
    "df_imputed.drop(columns = \"T_DM\", inplace=True)"
   ]
  },
  {
   "cell_type": "code",
   "execution_count": 25,
   "id": "aa33a067",
   "metadata": {
    "ExecuteTime": {
     "end_time": "2021-12-19T09:35:38.702077Z",
     "start_time": "2021-12-19T09:35:38.687082Z"
    }
   },
   "outputs": [],
   "source": [
    "target_TGLU = df_imputed[\"T_GLU0\"]\n",
    "df_imputed.drop(columns = \"T_GLU0\", inplace=True)"
   ]
  },
  {
   "cell_type": "code",
   "execution_count": 26,
   "id": "761f33f7",
   "metadata": {
    "ExecuteTime": {
     "end_time": "2021-12-19T09:35:39.898198Z",
     "start_time": "2021-12-19T09:35:39.886187Z"
    }
   },
   "outputs": [
    {
     "data": {
      "text/plain": [
       "((10000, 40), (10000,), (10000,))"
      ]
     },
     "execution_count": 26,
     "metadata": {},
     "output_type": "execute_result"
    }
   ],
   "source": [
    "df_imputed.shape, target_TDM.shape,target_TGLU.shape"
   ]
  },
  {
   "cell_type": "markdown",
   "id": "73220f91",
   "metadata": {},
   "source": [
    "# train / test dataset 분리"
   ]
  },
  {
   "cell_type": "code",
   "execution_count": 27,
   "id": "79c97569",
   "metadata": {
    "ExecuteTime": {
     "end_time": "2021-12-19T09:35:41.283759Z",
     "start_time": "2021-12-19T09:35:41.185452Z"
    }
   },
   "outputs": [],
   "source": [
    "from sklearn.model_selection import train_test_split"
   ]
  },
  {
   "cell_type": "markdown",
   "id": "637265f5",
   "metadata": {},
   "source": [
    "## 분류 모델(w. T_DM)"
   ]
  },
  {
   "cell_type": "code",
   "execution_count": 28,
   "id": "ef1b9e30",
   "metadata": {
    "ExecuteTime": {
     "end_time": "2021-12-19T09:35:42.477933Z",
     "start_time": "2021-12-19T09:35:42.464447Z"
    }
   },
   "outputs": [
    {
     "data": {
      "text/plain": [
       "0    9293\n",
       "1     707\n",
       "Name: T_DM, dtype: int64"
      ]
     },
     "execution_count": 28,
     "metadata": {},
     "output_type": "execute_result"
    }
   ],
   "source": [
    "target_TDM.value_counts()"
   ]
  },
  {
   "cell_type": "markdown",
   "id": "3cb0cc6f",
   "metadata": {},
   "source": [
    "- 타겟 분포 유지, 균등 분할"
   ]
  },
  {
   "cell_type": "code",
   "execution_count": 187,
   "id": "a1749ea2",
   "metadata": {
    "ExecuteTime": {
     "end_time": "2021-12-19T13:32:22.510998Z",
     "start_time": "2021-12-19T13:32:22.496864Z"
    }
   },
   "outputs": [
    {
     "name": "stdout",
     "output_type": "stream",
     "text": [
      "T_AGE = int(request.form[T_AGE])\n",
      "T_INCOME = int(request.form[T_INCOME])\n",
      "T_HEIGHT = int(request.form[T_HEIGHT])\n",
      "T_WEIGHT = int(request.form[T_WEIGHT])\n",
      "T_BMI = int(request.form[T_BMI])\n",
      "T_DRINK = int(request.form[T_DRINK])\n",
      "T_DRDU = int(request.form[T_DRDU])\n",
      "T_SMOKE = int(request.form[T_SMOKE])\n",
      "T_SMDUYR = int(request.form[T_SMDUYR])\n",
      "T_SMDUMO = int(request.form[T_SMDUMO])\n",
      "T_SMAM = int(request.form[T_SMAM])\n",
      "AM_sum = int(request.form[AM_sum])\n",
      "FQ_sum = int(request.form[FQ_sum])\n",
      "AM_mean = int(request.form[AM_mean])\n",
      "FQ_mean = int(request.form[FQ_mean])\n",
      "_T_MARRY_0 = int(request.form[_T_MARRY_0])\n",
      "_T_MARRY_1 = int(request.form[_T_MARRY_1])\n",
      "_T_MARRY_2 = int(request.form[_T_MARRY_2])\n",
      "_T_MARRY_3 = int(request.form[_T_MARRY_3])\n",
      "_T_MARRY_4 = int(request.form[_T_MARRY_4])\n",
      "_T_MARRY_5 = int(request.form[_T_MARRY_5])\n",
      "_T_MARRY_6 = int(request.form[_T_MARRY_6])\n",
      "_T_PSM_0 = int(request.form[_T_PSM_0])\n",
      "_T_PSM_1 = int(request.form[_T_PSM_1])\n",
      "_T_PSM_2 = int(request.form[_T_PSM_2])\n",
      "_T_EXER_0 = int(request.form[_T_EXER_0])\n",
      "_T_EXER_1 = int(request.form[_T_EXER_1])\n",
      "_T_EXER_2 = int(request.form[_T_EXER_2])\n"
     ]
    }
   ],
   "source": [
    "tmp_list = []\n",
    "\n",
    "for col in X_train.columns:\n",
    "    print(col+\" = int(request.form[\" + col+\"])\")"
   ]
  },
  {
   "cell_type": "code",
   "execution_count": null,
   "id": "46249922",
   "metadata": {},
   "outputs": [],
   "source": []
  },
  {
   "cell_type": "code",
   "execution_count": 29,
   "id": "475c5c6a",
   "metadata": {
    "ExecuteTime": {
     "end_time": "2021-12-19T09:35:44.192120Z",
     "start_time": "2021-12-19T09:35:44.182090Z"
    }
   },
   "outputs": [],
   "source": [
    "from sklearn.model_selection import train_test_split"
   ]
  },
  {
   "cell_type": "code",
   "execution_count": 30,
   "id": "73b1342e",
   "metadata": {
    "ExecuteTime": {
     "end_time": "2021-12-19T09:35:45.026931Z",
     "start_time": "2021-12-19T09:35:45.012910Z"
    },
    "scrolled": true
   },
   "outputs": [],
   "source": [
    "# CX_train, CX_test, Cy_train, Cy_test = train_test_split(df_imputed, target_TDM, test_size=0.2, random_state=42,stratify=target_TDM)\n",
    "X_train, X_test, y_train, y_test = train_test_split(df_imputed, target_TDM, test_size=0.2, random_state=42,stratify=target_TDM)"
   ]
  },
  {
   "cell_type": "code",
   "execution_count": 31,
   "id": "d414ce76",
   "metadata": {
    "ExecuteTime": {
     "end_time": "2021-12-19T09:35:46.048043Z",
     "start_time": "2021-12-19T09:35:46.036096Z"
    }
   },
   "outputs": [
    {
     "data": {
      "text/plain": [
       "0    0.92925\n",
       "1    0.07075\n",
       "Name: T_DM, dtype: float64"
      ]
     },
     "execution_count": 31,
     "metadata": {},
     "output_type": "execute_result"
    }
   ],
   "source": [
    "y_train.value_counts() / sum(y_train.value_counts())"
   ]
  },
  {
   "cell_type": "code",
   "execution_count": 32,
   "id": "5b255a55",
   "metadata": {
    "ExecuteTime": {
     "end_time": "2021-12-19T09:35:47.083592Z",
     "start_time": "2021-12-19T09:35:47.068701Z"
    }
   },
   "outputs": [
    {
     "data": {
      "text/plain": [
       "0    0.9295\n",
       "1    0.0705\n",
       "Name: T_DM, dtype: float64"
      ]
     },
     "execution_count": 32,
     "metadata": {},
     "output_type": "execute_result"
    }
   ],
   "source": [
    "y_test.value_counts() / sum(y_test.value_counts())"
   ]
  },
  {
   "cell_type": "markdown",
   "id": "cf9fec91",
   "metadata": {},
   "source": [
    "# [함수화]변수 선택 - permutation importance"
   ]
  },
  {
   "cell_type": "code",
   "execution_count": 33,
   "id": "caa2e728",
   "metadata": {
    "ExecuteTime": {
     "end_time": "2021-12-19T09:35:48.122683Z",
     "start_time": "2021-12-19T09:35:48.112190Z"
    }
   },
   "outputs": [],
   "source": [
    "#!pip install eli5"
   ]
  },
  {
   "cell_type": "code",
   "execution_count": 34,
   "id": "c39a9175",
   "metadata": {
    "ExecuteTime": {
     "end_time": "2021-12-19T09:35:50.030920Z",
     "start_time": "2021-12-19T09:35:49.132321Z"
    }
   },
   "outputs": [],
   "source": [
    "from sklearn.ensemble import RandomForestClassifier\n",
    "import eli5 \n",
    "from eli5.sklearn import PermutationImportance \n",
    "\n",
    "def rfr_var_select(X_train, X_test,y_train,y_test):\n",
    "    rfr_select = RandomForestClassifier(random_state=42, n_estimators=100, max_depth=7, max_features=0.9)\n",
    "    rfr_select.fit(X_train, y_train)\n",
    "\n",
    "    perm = PermutationImportance(rfr_select, scoring = \"f1\", random_state = 42)\n",
    "    perm.fit(X_test, y_test) \n",
    "    \n",
    "    weights = eli5.show_weights(perm, top = 80, feature_names = X_test.columns.tolist())\n",
    "\n",
    "    return weights, rfr_select"
   ]
  },
  {
   "cell_type": "markdown",
   "id": "6229401a",
   "metadata": {},
   "source": [
    "# 데이터 분포 변환 (정규성)"
   ]
  },
  {
   "cell_type": "markdown",
   "id": "799ec19f",
   "metadata": {},
   "source": [
    "## [분류] ohe + robust + oversampling"
   ]
  },
  {
   "cell_type": "markdown",
   "id": "2c1c1829",
   "metadata": {},
   "source": [
    "## 기본 데이터 비교"
   ]
  },
  {
   "cell_type": "code",
   "execution_count": 35,
   "id": "6ffe4a0b",
   "metadata": {
    "ExecuteTime": {
     "end_time": "2021-12-19T09:35:59.823316Z",
     "start_time": "2021-12-19T09:35:53.423391Z"
    }
   },
   "outputs": [],
   "source": [
    "w, model = rfr_var_select(X_train, X_test, y_train, y_test)"
   ]
  },
  {
   "cell_type": "code",
   "execution_count": 36,
   "id": "977f1dd8",
   "metadata": {
    "ExecuteTime": {
     "end_time": "2021-12-19T09:36:01.322331Z",
     "start_time": "2021-12-19T09:36:00.835040Z"
    }
   },
   "outputs": [
    {
     "data": {
      "image/png": "[encoded data removed]",
      "text/plain": [
       "<Figure size 720x432 with 1 Axes>"
      ]
     },
     "metadata": {
      "needs_background": "light"
     },
     "output_type": "display_data"
    }
   ],
   "source": [
    "feature_importance = pd.DataFrame(sorted(zip(model.feature_importances_, X_test.columns)), columns=['Value','Feature'])\n",
    "\n",
    "plt.figure(figsize=(10, 6))\n",
    "sns.barplot(x=\"Value\", y=\"Feature\", data=feature_importance.sort_values(by=\"Value\", ascending=False))\n",
    "plt.title('LightGBM Features')\n",
    "plt.tight_layout()\n",
    "plt.show()"
   ]
  },
  {
   "cell_type": "markdown",
   "id": "5d7b0690",
   "metadata": {},
   "source": [
    "- 파생변수 sum이 mean보다 영향력이 살짝 크다.\n",
    "    - 파생변수 sum, mean을 사용한다.\n",
    "    - 술 종류별 AM, FQ는 제거한다."
   ]
  },
  {
   "cell_type": "code",
   "execution_count": 37,
   "id": "547562ea",
   "metadata": {
    "ExecuteTime": {
     "end_time": "2021-12-19T09:36:02.361227Z",
     "start_time": "2021-12-19T09:36:02.346701Z"
    }
   },
   "outputs": [],
   "source": [
    "df_imputed.drop(columns = AM_cols, inplace=True)\n",
    "df_imputed.drop(columns = FQ_cols,inplace= True)"
   ]
  },
  {
   "cell_type": "code",
   "execution_count": 38,
   "id": "f14e8463",
   "metadata": {
    "ExecuteTime": {
     "end_time": "2021-12-19T09:36:03.380395Z",
     "start_time": "2021-12-19T09:36:03.365352Z"
    }
   },
   "outputs": [
    {
     "data": {
      "text/plain": [
       "(10000, 28)"
      ]
     },
     "execution_count": 38,
     "metadata": {},
     "output_type": "execute_result"
    }
   ],
   "source": [
    "df_imputed.shape"
   ]
  },
  {
   "cell_type": "markdown",
   "id": "3c7a38e7",
   "metadata": {},
   "source": [
    "### RobustScaling"
   ]
  },
  {
   "cell_type": "code",
   "execution_count": 39,
   "id": "e2792686",
   "metadata": {
    "ExecuteTime": {
     "end_time": "2021-12-19T09:36:04.433502Z",
     "start_time": "2021-12-19T09:36:04.419489Z"
    }
   },
   "outputs": [],
   "source": [
    "X_train, X_test, y_train, y_test = train_test_split(df_imputed, target_TDM, test_size=0.2, random_state=42,stratify=target_TDM)"
   ]
  },
  {
   "cell_type": "code",
   "execution_count": 40,
   "id": "9b981806",
   "metadata": {
    "ExecuteTime": {
     "end_time": "2021-12-19T09:36:05.489182Z",
     "start_time": "2021-12-19T09:36:05.458446Z"
    }
   },
   "outputs": [],
   "source": [
    "from sklearn.preprocessing import RobustScaler\n",
    "robustScaler = RobustScaler()\n",
    "robustScaler.fit(X_train)\n",
    "X_train_robust = robustScaler.transform(X_train)\n",
    "X_test_robust = robustScaler.transform(X_test)"
   ]
  },
  {
   "cell_type": "code",
   "execution_count": 41,
   "id": "97b3da96",
   "metadata": {
    "ExecuteTime": {
     "end_time": "2021-12-19T09:36:06.547168Z",
     "start_time": "2021-12-19T09:36:06.532145Z"
    }
   },
   "outputs": [
    {
     "data": {
      "text/plain": [
       "((8000, 28), (2000, 28), (8000,), (2000,))"
      ]
     },
     "execution_count": 41,
     "metadata": {},
     "output_type": "execute_result"
    }
   ],
   "source": [
    "X_train_robust.shape, X_test_robust.shape, y_train.shape, y_test.shape"
   ]
  },
  {
   "cell_type": "markdown",
   "id": "525c4e64",
   "metadata": {},
   "source": [
    "### Oversampling"
   ]
  },
  {
   "cell_type": "code",
   "execution_count": 42,
   "id": "79f9a30f",
   "metadata": {
    "ExecuteTime": {
     "end_time": "2021-12-19T09:36:07.601915Z",
     "start_time": "2021-12-19T09:36:07.587893Z"
    }
   },
   "outputs": [],
   "source": [
    "# !pip install imblearn"
   ]
  },
  {
   "cell_type": "code",
   "execution_count": 43,
   "id": "7da76940",
   "metadata": {
    "ExecuteTime": {
     "end_time": "2021-12-19T09:36:08.765788Z",
     "start_time": "2021-12-19T09:36:08.659084Z"
    }
   },
   "outputs": [
    {
     "name": "stdout",
     "output_type": "stream",
     "text": [
      "SMOTE 적용 전 학습용 피처/레이블 데이터 세트:  (8000, 28) (8000,)\n",
      "SMOTE 적용 후 학습용 피처/레이블 데이터 세트:  (14868, 28) (14868,)\n",
      "SMOTE 적용 후 레이블 값 분포: \n",
      " 0    7434\n",
      "1    7434\n",
      "Name: T_DM, dtype: int64\n"
     ]
    }
   ],
   "source": [
    "from imblearn.over_sampling import SMOTE\n",
    "smote = SMOTE(random_state=0)\n",
    "X_train_smote, y_train_smote = smote.fit_resample(X_train_robust, y_train)\n",
    "print('SMOTE 적용 전 학습용 피처/레이블 데이터 세트: ', X_train_robust.shape, y_train.shape)\n",
    "print('SMOTE 적용 후 학습용 피처/레이블 데이터 세트: ', X_train_smote.shape, y_train_smote.shape)\n",
    "print('SMOTE 적용 후 레이블 값 분포: \\n', pd.Series(y_train_smote).value_counts())"
   ]
  },
  {
   "cell_type": "code",
   "execution_count": 44,
   "id": "91ddf54d",
   "metadata": {
    "ExecuteTime": {
     "end_time": "2021-12-19T09:36:09.894741Z",
     "start_time": "2021-12-19T09:36:09.879725Z"
    }
   },
   "outputs": [
    {
     "data": {
      "text/plain": [
       "((14868, 28), (2000, 28), (14868,), (2000,))"
      ]
     },
     "execution_count": 44,
     "metadata": {},
     "output_type": "execute_result"
    }
   ],
   "source": [
    "X_train_df = pd.DataFrame(X_train_smote, columns =df_imputed.columns )\n",
    "X_test_df = pd.DataFrame(X_test_robust, columns =df_imputed.columns )\n",
    "y_train = y_train_smote\n",
    "X_train_df.shape, X_test_df.shape, y_train.shape, y_test.shape"
   ]
  },
  {
   "cell_type": "markdown",
   "id": "7701dd59",
   "metadata": {},
   "source": [
    "### 변수 선택"
   ]
  },
  {
   "cell_type": "code",
   "execution_count": 45,
   "id": "a34ea209",
   "metadata": {
    "ExecuteTime": {
     "end_time": "2021-12-19T09:36:18.370528Z",
     "start_time": "2021-12-19T09:36:11.425872Z"
    }
   },
   "outputs": [],
   "source": [
    "w, model = rfr_var_select(X_train_df, X_test_df, y_train, y_test)"
   ]
  },
  {
   "cell_type": "code",
   "execution_count": 46,
   "id": "1732f14a",
   "metadata": {
    "ExecuteTime": {
     "end_time": "2021-12-19T09:36:20.223947Z",
     "start_time": "2021-12-19T09:36:19.878926Z"
    }
   },
   "outputs": [
    {
     "data": {
      "image/png": "[encoded data removed]",
      "text/plain": [
       "<Figure size 720x432 with 1 Axes>"
      ]
     },
     "metadata": {
      "needs_background": "light"
     },
     "output_type": "display_data"
    }
   ],
   "source": [
    "feature_importance = pd.DataFrame(sorted(zip(model.feature_importances_, X_test_df.columns)), columns=['Value','Feature'])\n",
    "\n",
    "plt.figure(figsize=(10, 6))\n",
    "sns.barplot(x=\"Value\", y=\"Feature\", data=feature_importance.sort_values(by=\"Value\", ascending=False))\n",
    "plt.title('LightGBM Features')\n",
    "plt.tight_layout()\n",
    "plt.show()"
   ]
  },
  {
   "cell_type": "code",
   "execution_count": 47,
   "id": "fdfda2b3",
   "metadata": {
    "ExecuteTime": {
     "end_time": "2021-12-19T09:36:21.764124Z",
     "start_time": "2021-12-19T09:36:21.750486Z"
    }
   },
   "outputs": [
    {
     "data": {
      "text/html": [
       "\n",
       "    <style>\n",
       "    table.eli5-weights tr:hover {\n",
       "        filter: brightness(85%);\n",
       "    }\n",
       "</style>\n",
       "\n",
       "\n",
       "\n",
       "    \n",
       "\n",
       "    \n",
       "\n",
       "    \n",
       "\n",
       "    \n",
       "\n",
       "    \n",
       "\n",
       "    \n",
       "\n",
       "\n",
       "    \n",
       "\n",
       "    \n",
       "\n",
       "    \n",
       "\n",
       "    \n",
       "\n",
       "    \n",
       "\n",
       "    \n",
       "\n",
       "\n",
       "    \n",
       "\n",
       "    \n",
       "\n",
       "    \n",
       "\n",
       "    \n",
       "\n",
       "    \n",
       "        <table class=\"eli5-weights eli5-feature-importances\" style=\"border-collapse: collapse; border: none; margin-top: 0em; table-layout: auto;\">\n",
       "    <thead>\n",
       "    <tr style=\"border: none;\">\n",
       "        <th style=\"padding: 0 1em 0 0.5em; text-align: right; border: none;\">Weight</th>\n",
       "        <th style=\"padding: 0 0.5em 0 0.5em; text-align: left; border: none;\">Feature</th>\n",
       "    </tr>\n",
       "    </thead>\n",
       "    <tbody>\n",
       "    \n",
       "        <tr style=\"background-color: hsl(120, 100.00%, 80.00%); border: none;\">\n",
       "            <td style=\"padding: 0 1em 0 0.5em; text-align: right; border: none;\">\n",
       "                0.0740\n",
       "                \n",
       "                    &plusmn; 0.0120\n",
       "                \n",
       "            </td>\n",
       "            <td style=\"padding: 0 0.5em 0 0.5em; text-align: left; border: none;\">\n",
       "                T_AGE\n",
       "            </td>\n",
       "        </tr>\n",
       "    \n",
       "        <tr style=\"background-color: hsl(120, 100.00%, 82.36%); border: none;\">\n",
       "            <td style=\"padding: 0 1em 0 0.5em; text-align: right; border: none;\">\n",
       "                0.0619\n",
       "                \n",
       "                    &plusmn; 0.0379\n",
       "                \n",
       "            </td>\n",
       "            <td style=\"padding: 0 0.5em 0 0.5em; text-align: left; border: none;\">\n",
       "                T_BMI\n",
       "            </td>\n",
       "        </tr>\n",
       "    \n",
       "        <tr style=\"background-color: hsl(120, 100.00%, 86.53%); border: none;\">\n",
       "            <td style=\"padding: 0 1em 0 0.5em; text-align: right; border: none;\">\n",
       "                0.0421\n",
       "                \n",
       "                    &plusmn; 0.0219\n",
       "                \n",
       "            </td>\n",
       "            <td style=\"padding: 0 0.5em 0 0.5em; text-align: left; border: none;\">\n",
       "                T_INCOME\n",
       "            </td>\n",
       "        </tr>\n",
       "    \n",
       "        <tr style=\"background-color: hsl(120, 100.00%, 98.52%); border: none;\">\n",
       "            <td style=\"padding: 0 1em 0 0.5em; text-align: right; border: none;\">\n",
       "                0.0018\n",
       "                \n",
       "                    &plusmn; 0.0060\n",
       "                \n",
       "            </td>\n",
       "            <td style=\"padding: 0 0.5em 0 0.5em; text-align: left; border: none;\">\n",
       "                T_DRINK\n",
       "            </td>\n",
       "        </tr>\n",
       "    \n",
       "        <tr style=\"background-color: hsl(120, 100.00%, 98.68%); border: none;\">\n",
       "            <td style=\"padding: 0 1em 0 0.5em; text-align: right; border: none;\">\n",
       "                0.0015\n",
       "                \n",
       "                    &plusmn; 0.0050\n",
       "                \n",
       "            </td>\n",
       "            <td style=\"padding: 0 0.5em 0 0.5em; text-align: left; border: none;\">\n",
       "                T_HEIGHT\n",
       "            </td>\n",
       "        </tr>\n",
       "    \n",
       "        <tr style=\"background-color: hsl(120, 100.00%, 98.88%); border: none;\">\n",
       "            <td style=\"padding: 0 1em 0 0.5em; text-align: right; border: none;\">\n",
       "                0.0012\n",
       "                \n",
       "                    &plusmn; 0.0030\n",
       "                \n",
       "            </td>\n",
       "            <td style=\"padding: 0 0.5em 0 0.5em; text-align: left; border: none;\">\n",
       "                _T_EXER_2\n",
       "            </td>\n",
       "        </tr>\n",
       "    \n",
       "        <tr style=\"background-color: hsl(120, 100.00%, 99.16%); border: none;\">\n",
       "            <td style=\"padding: 0 1em 0 0.5em; text-align: right; border: none;\">\n",
       "                0.0008\n",
       "                \n",
       "                    &plusmn; 0.0010\n",
       "                \n",
       "            </td>\n",
       "            <td style=\"padding: 0 0.5em 0 0.5em; text-align: left; border: none;\">\n",
       "                T_DRDU\n",
       "            </td>\n",
       "        </tr>\n",
       "    \n",
       "        <tr style=\"background-color: hsl(120, 100.00%, 99.18%); border: none;\">\n",
       "            <td style=\"padding: 0 1em 0 0.5em; text-align: right; border: none;\">\n",
       "                0.0008\n",
       "                \n",
       "                    &plusmn; 0.0025\n",
       "                \n",
       "            </td>\n",
       "            <td style=\"padding: 0 0.5em 0 0.5em; text-align: left; border: none;\">\n",
       "                _T_PSM_2\n",
       "            </td>\n",
       "        </tr>\n",
       "    \n",
       "        <tr style=\"background-color: hsl(120, 100.00%, 99.40%); border: none;\">\n",
       "            <td style=\"padding: 0 1em 0 0.5em; text-align: right; border: none;\">\n",
       "                0.0005\n",
       "                \n",
       "                    &plusmn; 0.0006\n",
       "                \n",
       "            </td>\n",
       "            <td style=\"padding: 0 0.5em 0 0.5em; text-align: left; border: none;\">\n",
       "                FQ_mean\n",
       "            </td>\n",
       "        </tr>\n",
       "    \n",
       "        <tr style=\"background-color: hsl(120, 100.00%, 99.48%); border: none;\">\n",
       "            <td style=\"padding: 0 1em 0 0.5em; text-align: right; border: none;\">\n",
       "                0.0004\n",
       "                \n",
       "                    &plusmn; 0.0007\n",
       "                \n",
       "            </td>\n",
       "            <td style=\"padding: 0 0.5em 0 0.5em; text-align: left; border: none;\">\n",
       "                AM_mean\n",
       "            </td>\n",
       "        </tr>\n",
       "    \n",
       "        <tr style=\"background-color: hsl(120, 100.00%, 99.51%); border: none;\">\n",
       "            <td style=\"padding: 0 1em 0 0.5em; text-align: right; border: none;\">\n",
       "                0.0004\n",
       "                \n",
       "                    &plusmn; 0.0030\n",
       "                \n",
       "            </td>\n",
       "            <td style=\"padding: 0 0.5em 0 0.5em; text-align: left; border: none;\">\n",
       "                _T_MARRY_2\n",
       "            </td>\n",
       "        </tr>\n",
       "    \n",
       "        <tr style=\"background-color: hsl(120, 100.00%, 99.58%); border: none;\">\n",
       "            <td style=\"padding: 0 1em 0 0.5em; text-align: right; border: none;\">\n",
       "                0.0003\n",
       "                \n",
       "                    &plusmn; 0.0008\n",
       "                \n",
       "            </td>\n",
       "            <td style=\"padding: 0 0.5em 0 0.5em; text-align: left; border: none;\">\n",
       "                T_SMAM\n",
       "            </td>\n",
       "        </tr>\n",
       "    \n",
       "        <tr style=\"background-color: hsl(120, 100.00%, 99.68%); border: none;\">\n",
       "            <td style=\"padding: 0 1em 0 0.5em; text-align: right; border: none;\">\n",
       "                0.0002\n",
       "                \n",
       "                    &plusmn; 0.0005\n",
       "                \n",
       "            </td>\n",
       "            <td style=\"padding: 0 0.5em 0 0.5em; text-align: left; border: none;\">\n",
       "                T_SMDUYR\n",
       "            </td>\n",
       "        </tr>\n",
       "    \n",
       "        <tr style=\"background-color: hsl(120, 100.00%, 99.68%); border: none;\">\n",
       "            <td style=\"padding: 0 1em 0 0.5em; text-align: right; border: none;\">\n",
       "                0.0002\n",
       "                \n",
       "                    &plusmn; 0.0005\n",
       "                \n",
       "            </td>\n",
       "            <td style=\"padding: 0 0.5em 0 0.5em; text-align: left; border: none;\">\n",
       "                _T_MARRY_6\n",
       "            </td>\n",
       "        </tr>\n",
       "    \n",
       "        <tr style=\"background-color: hsl(120, 100.00%, 99.69%); border: none;\">\n",
       "            <td style=\"padding: 0 1em 0 0.5em; text-align: right; border: none;\">\n",
       "                0.0002\n",
       "                \n",
       "                    &plusmn; 0.0035\n",
       "                \n",
       "            </td>\n",
       "            <td style=\"padding: 0 0.5em 0 0.5em; text-align: left; border: none;\">\n",
       "                AM_sum\n",
       "            </td>\n",
       "        </tr>\n",
       "    \n",
       "        <tr style=\"background-color: hsl(120, 100.00%, 99.80%); border: none;\">\n",
       "            <td style=\"padding: 0 1em 0 0.5em; text-align: right; border: none;\">\n",
       "                0.0001\n",
       "                \n",
       "                    &plusmn; 0.0004\n",
       "                \n",
       "            </td>\n",
       "            <td style=\"padding: 0 0.5em 0 0.5em; text-align: left; border: none;\">\n",
       "                T_SMDUMO\n",
       "            </td>\n",
       "        </tr>\n",
       "    \n",
       "        <tr style=\"background-color: hsl(0, 100.00%, 100.00%); border: none;\">\n",
       "            <td style=\"padding: 0 1em 0 0.5em; text-align: right; border: none;\">\n",
       "                0\n",
       "                \n",
       "                    &plusmn; 0.0000\n",
       "                \n",
       "            </td>\n",
       "            <td style=\"padding: 0 0.5em 0 0.5em; text-align: left; border: none;\">\n",
       "                _T_MARRY_0\n",
       "            </td>\n",
       "        </tr>\n",
       "    \n",
       "        <tr style=\"background-color: hsl(0, 100.00%, 100.00%); border: none;\">\n",
       "            <td style=\"padding: 0 1em 0 0.5em; text-align: right; border: none;\">\n",
       "                0\n",
       "                \n",
       "                    &plusmn; 0.0000\n",
       "                \n",
       "            </td>\n",
       "            <td style=\"padding: 0 0.5em 0 0.5em; text-align: left; border: none;\">\n",
       "                _T_MARRY_1\n",
       "            </td>\n",
       "        </tr>\n",
       "    \n",
       "        <tr style=\"background-color: hsl(0, 100.00%, 100.00%); border: none;\">\n",
       "            <td style=\"padding: 0 1em 0 0.5em; text-align: right; border: none;\">\n",
       "                0\n",
       "                \n",
       "                    &plusmn; 0.0000\n",
       "                \n",
       "            </td>\n",
       "            <td style=\"padding: 0 0.5em 0 0.5em; text-align: left; border: none;\">\n",
       "                _T_MARRY_5\n",
       "            </td>\n",
       "        </tr>\n",
       "    \n",
       "        <tr style=\"background-color: hsl(0, 100.00%, 100.00%); border: none;\">\n",
       "            <td style=\"padding: 0 1em 0 0.5em; text-align: right; border: none;\">\n",
       "                0\n",
       "                \n",
       "                    &plusmn; 0.0000\n",
       "                \n",
       "            </td>\n",
       "            <td style=\"padding: 0 0.5em 0 0.5em; text-align: left; border: none;\">\n",
       "                T_SMOKE\n",
       "            </td>\n",
       "        </tr>\n",
       "    \n",
       "        <tr style=\"background-color: hsl(0, 100.00%, 100.00%); border: none;\">\n",
       "            <td style=\"padding: 0 1em 0 0.5em; text-align: right; border: none;\">\n",
       "                0\n",
       "                \n",
       "                    &plusmn; 0.0000\n",
       "                \n",
       "            </td>\n",
       "            <td style=\"padding: 0 0.5em 0 0.5em; text-align: left; border: none;\">\n",
       "                _T_MARRY_3\n",
       "            </td>\n",
       "        </tr>\n",
       "    \n",
       "        <tr style=\"background-color: hsl(0, 100.00%, 100.00%); border: none;\">\n",
       "            <td style=\"padding: 0 1em 0 0.5em; text-align: right; border: none;\">\n",
       "                0\n",
       "                \n",
       "                    &plusmn; 0.0000\n",
       "                \n",
       "            </td>\n",
       "            <td style=\"padding: 0 0.5em 0 0.5em; text-align: left; border: none;\">\n",
       "                _T_PSM_0\n",
       "            </td>\n",
       "        </tr>\n",
       "    \n",
       "        <tr style=\"background-color: hsl(0, 100.00%, 100.00%); border: none;\">\n",
       "            <td style=\"padding: 0 1em 0 0.5em; text-align: right; border: none;\">\n",
       "                0\n",
       "                \n",
       "                    &plusmn; 0.0000\n",
       "                \n",
       "            </td>\n",
       "            <td style=\"padding: 0 0.5em 0 0.5em; text-align: left; border: none;\">\n",
       "                _T_MARRY_4\n",
       "            </td>\n",
       "        </tr>\n",
       "    \n",
       "        <tr style=\"background-color: hsl(0, 100.00%, 100.00%); border: none;\">\n",
       "            <td style=\"padding: 0 1em 0 0.5em; text-align: right; border: none;\">\n",
       "                0\n",
       "                \n",
       "                    &plusmn; 0.0000\n",
       "                \n",
       "            </td>\n",
       "            <td style=\"padding: 0 0.5em 0 0.5em; text-align: left; border: none;\">\n",
       "                _T_EXER_0\n",
       "            </td>\n",
       "        </tr>\n",
       "    \n",
       "        <tr style=\"background-color: hsl(0, 100.00%, 99.32%); border: none;\">\n",
       "            <td style=\"padding: 0 1em 0 0.5em; text-align: right; border: none;\">\n",
       "                -0.0006\n",
       "                \n",
       "                    &plusmn; 0.0023\n",
       "                \n",
       "            </td>\n",
       "            <td style=\"padding: 0 0.5em 0 0.5em; text-align: left; border: none;\">\n",
       "                FQ_sum\n",
       "            </td>\n",
       "        </tr>\n",
       "    \n",
       "        <tr style=\"background-color: hsl(0, 100.00%, 99.10%); border: none;\">\n",
       "            <td style=\"padding: 0 1em 0 0.5em; text-align: right; border: none;\">\n",
       "                -0.0009\n",
       "                \n",
       "                    &plusmn; 0.0058\n",
       "                \n",
       "            </td>\n",
       "            <td style=\"padding: 0 0.5em 0 0.5em; text-align: left; border: none;\">\n",
       "                _T_PSM_1\n",
       "            </td>\n",
       "        </tr>\n",
       "    \n",
       "        <tr style=\"background-color: hsl(0, 100.00%, 99.03%); border: none;\">\n",
       "            <td style=\"padding: 0 1em 0 0.5em; text-align: right; border: none;\">\n",
       "                -0.0010\n",
       "                \n",
       "                    &plusmn; 0.0056\n",
       "                \n",
       "            </td>\n",
       "            <td style=\"padding: 0 0.5em 0 0.5em; text-align: left; border: none;\">\n",
       "                _T_EXER_1\n",
       "            </td>\n",
       "        </tr>\n",
       "    \n",
       "        <tr style=\"background-color: hsl(0, 100.00%, 98.11%); border: none;\">\n",
       "            <td style=\"padding: 0 1em 0 0.5em; text-align: right; border: none;\">\n",
       "                -0.0025\n",
       "                \n",
       "                    &plusmn; 0.0106\n",
       "                \n",
       "            </td>\n",
       "            <td style=\"padding: 0 0.5em 0 0.5em; text-align: left; border: none;\">\n",
       "                T_WEIGHT\n",
       "            </td>\n",
       "        </tr>\n",
       "    \n",
       "    \n",
       "    </tbody>\n",
       "</table>\n",
       "    \n",
       "\n",
       "    \n",
       "\n",
       "\n",
       "    \n",
       "\n",
       "    \n",
       "\n",
       "    \n",
       "\n",
       "    \n",
       "\n",
       "    \n",
       "\n",
       "    \n",
       "\n",
       "\n",
       "\n"
      ],
      "text/plain": [
       "<IPython.core.display.HTML object>"
      ]
     },
     "execution_count": 47,
     "metadata": {},
     "output_type": "execute_result"
    }
   ],
   "source": [
    "w "
   ]
  },
  {
   "cell_type": "markdown",
   "id": "9daf3d5e",
   "metadata": {},
   "source": [
    "#### 원본 데이터 셋 , 정확도"
   ]
  },
  {
   "cell_type": "code",
   "execution_count": 48,
   "id": "2683482c",
   "metadata": {
    "ExecuteTime": {
     "end_time": "2021-12-19T09:36:23.326494Z",
     "start_time": "2021-12-19T09:36:23.312973Z"
    }
   },
   "outputs": [],
   "source": [
    "from sklearn.metrics import accuracy_score"
   ]
  },
  {
   "cell_type": "markdown",
   "id": "997415bc",
   "metadata": {},
   "source": [
    "- 원본 데이터 셋에서는 AGE, WEIGHT, BMI, INCOME, SOJUAM의 영향력이 강하다."
   ]
  },
  {
   "cell_type": "markdown",
   "id": "fa5aa40f",
   "metadata": {},
   "source": [
    "# 모델 만들기 (앙상블 -> 메타모델)"
   ]
  },
  {
   "cell_type": "markdown",
   "id": "5883cccd",
   "metadata": {},
   "source": [
    "## [함수] 모델별 성능 확인 & 시각화"
   ]
  },
  {
   "cell_type": "code",
   "execution_count": 49,
   "id": "8642be65",
   "metadata": {
    "ExecuteTime": {
     "end_time": "2021-12-19T09:36:24.870087Z",
     "start_time": "2021-12-19T09:36:24.839479Z"
    }
   },
   "outputs": [],
   "source": [
    "import matplotlib.pyplot as plt\n",
    "import seaborn as sns\n",
    "from sklearn.metrics import mean_squared_error, accuracy_score\n",
    "\n",
    "my_predictions = {}\n",
    "my_pred = None\n",
    "my_actual = None\n",
    "my_name = None\n",
    "\n",
    "colors = ['r', 'c', 'm', 'y', 'k', 'khaki', 'teal', 'orchid', 'sandybrown',\n",
    "          'greenyellow', 'dodgerblue', 'deepskyblue', 'rosybrown', 'firebrick',\n",
    "          'deeppink', 'crimson', 'salmon', 'darkred', 'olivedrab', 'olive', \n",
    "          'forestgreen', 'royalblue', 'indigo', 'navy', 'mediumpurple', 'chocolate',\n",
    "          'gold', 'darkorange', 'seagreen', 'turquoise', 'steelblue', 'slategray', \n",
    "          'peru', 'midnightblue', 'slateblue', 'dimgray', 'cadetblue', 'tomato'\n",
    "         ]\n",
    " \n",
    "def plot_predictions(name_, pred, actual,isgraph = False):\n",
    "    df = pd.DataFrame({'prediction': pred, 'actual': y_test})\n",
    "        \n",
    "    df = df.sort_values(by='actual').reset_index(drop=True)\n",
    "    \n",
    "    if isgraph:\n",
    "        plt.figure(figsize=(11, 8))\n",
    "        plt.scatter(df.index, df['prediction'], marker='x', color='r')\n",
    "        plt.scatter(df.index, df['actual'], alpha=0.7, marker='o', color='black')\n",
    "        plt.title(name_, fontsize=15)\n",
    "        plt.legend(['prediction', 'actual'], fontsize=12)\n",
    "        plt.show()\n",
    "\n",
    "def rmse_eval(name_, pred, actual, isgraph = False):\n",
    "    global my_predictions, colors, my_pred, my_actual, my_name\n",
    "    \n",
    "    my_name = name_\n",
    "    my_pred = pred\n",
    "    my_actual = actual\n",
    "\n",
    "    plot_predictions(name_, pred, actual,isgraph)\n",
    "\n",
    "    rmse = mean_squared_error(pred, actual,squared=False)\n",
    "    my_predictions[name_] = rmse\n",
    "\n",
    "    y_value = sorted(my_predictions.items(), key=lambda x: x[1], reverse=True)\n",
    "    \n",
    "    df = pd.DataFrame(y_value, columns=['model', 'rmse'])\n",
    "    print(df)\n",
    "    min_ = df['rmse'].min() - 10\n",
    "    max_ = df['rmse'].max() + 10\n",
    "    \n",
    "    length = len(df) / 2\n",
    "    \n",
    "    \n",
    "    \n",
    "    if isgraph:\n",
    "        plt.figure(figsize=(9, length))\n",
    "        ax = plt.subplot()\n",
    "        ax.set_yticks(np.arange(len(df)))\n",
    "        ax.set_yticklabels(df['model'], fontsize=12)\n",
    "        bars = ax.barh(np.arange(len(df)), df['rmse'], height=0.3)\n",
    "\n",
    "        for i, v in enumerate(df['rmse']):\n",
    "            idx = np.random.choice(len(colors))\n",
    "            bars[i].set_color(colors[idx])\n",
    "            ax.text(v + 2, i, str(round(v, 3)), color='k', fontsize=12, fontweight='bold', verticalalignment='center')\n",
    "        \n",
    "        \n",
    "        plt.title('RMSE Error', fontsize=16)\n",
    "        plt.xlim(min_, max_)\n",
    "\n",
    "        plt.show()\n",
    "    \n",
    "def add_model(name_, pred, actual):\n",
    "    global my_predictions, my_pred, my_actual, my_name\n",
    "    my_name = name_\n",
    "    my_pred = pred\n",
    "    my_actual = actual\n",
    "    \n",
    "    rmse = mean_squared_error(pred, actual,squared=False)\n",
    "    my_predictions[name_] = rmse\n",
    "\n",
    "def remove_model(name_):\n",
    "    global my_predictions\n",
    "    try:\n",
    "        del my_predictions[name_]\n",
    "    except KeyError:\n",
    "        return False\n",
    "    return True\n",
    "\n",
    "def plot_all():\n",
    "    global my_predictions, my_pred, my_actual, my_name\n",
    "    \n",
    "    plot_predictions(my_name, my_pred, my_actual,True)\n",
    "    \n",
    "    y_value = sorted(my_predictions.items(), key=lambda x: x[1], reverse=True)\n",
    "    \n",
    "    df = pd.DataFrame(y_value, columns=['model', 'rmse'])\n",
    "    print(df)\n",
    "    min_ = df['rmse'].min() - 10\n",
    "    max_ = df['rmse'].max() + 10\n",
    "    \n",
    "    length = len(df) / 2\n",
    "    \n",
    "    plt.figure(figsize=(9, length))\n",
    "    ax = plt.subplot()\n",
    "    ax.set_yticks(np.arange(len(df)))\n",
    "    ax.set_yticklabels(df['model'], fontsize=12)\n",
    "    bars = ax.barh(np.arange(len(df)), df['rmse'], height=0.3)\n",
    "    \n",
    "    for i, v in enumerate(df['rmse']):\n",
    "        idx = np.random.choice(len(colors))\n",
    "        bars[i].set_color(colors[idx])\n",
    "        ax.text(v + 2, i, str(round(v, 3)), color='k', fontsize=12, fontweight='bold', verticalalignment='center')\n",
    "        \n",
    "    plt.title('RMSE Error', fontsize=16)\n",
    "    plt.xlim(min_, max_)\n",
    "    \n",
    "    plt.show()\n",
    "    \n",
    "def acc_eval(name_, pred, actual, isgraph = False):\n",
    "    global my_predictions, colors, my_pred, my_actual, my_name\n",
    "    \n",
    "    my_name = name_\n",
    "    my_pred = pred\n",
    "    my_actual = actual\n",
    "\n",
    "    plot_predictions(name_, pred, actual,isgraph)\n",
    "\n",
    "    rmse = accuracy_score(pred, actual)\n",
    "    my_predictions[name_] = rmse\n",
    "\n",
    "    y_value = sorted(my_predictions.items(), key=lambda x: x[1], reverse=True)\n",
    "    \n",
    "    df = pd.DataFrame(y_value, columns=['model', 'accuracy'])\n",
    "    print(df)\n",
    "    min_ = df['accuracy'].min() - 10\n",
    "    max_ = df['accuracy'].max() + 10\n",
    "    \n",
    "    length = len(df) / 2\n",
    "    \n",
    "    \n",
    "    \n",
    "    if isgraph:\n",
    "        plt.figure(figsize=(9, length))\n",
    "        ax = plt.subplot()\n",
    "        ax.set_yticks(np.arange(len(df)))\n",
    "        ax.set_yticklabels(df['model'], fontsize=12)\n",
    "        bars = ax.barh(np.arange(len(df)), df['accuracy'], height=0.3)\n",
    "\n",
    "        for i, v in enumerate(df['accuracy']):\n",
    "            idx = np.random.choice(len(colors))\n",
    "            bars[i].set_color(colors[idx])\n",
    "            ax.text(v + 2, i, str(round(v, 3)), color='k', fontsize=12, fontweight='bold', verticalalignment='center')\n",
    "        \n",
    "        \n",
    "        plt.title('accuracy', fontsize=16)\n",
    "        plt.xlim(min_, max_)\n",
    "\n",
    "        plt.show()"
   ]
  },
  {
   "cell_type": "markdown",
   "id": "57e1342c",
   "metadata": {},
   "source": [
    "## 모델 학습"
   ]
  },
  {
   "cell_type": "code",
   "execution_count": 50,
   "id": "c7ef54a0",
   "metadata": {
    "ExecuteTime": {
     "end_time": "2021-12-19T09:36:30.130200Z",
     "start_time": "2021-12-19T09:36:30.118124Z"
    }
   },
   "outputs": [],
   "source": [
    "from sklearn.preprocessing import StandardScaler, MinMaxScaler"
   ]
  },
  {
   "cell_type": "markdown",
   "id": "1aaa4729",
   "metadata": {},
   "source": [
    "### [기준]target 기초통계량"
   ]
  },
  {
   "cell_type": "code",
   "execution_count": 51,
   "id": "e3d6020f",
   "metadata": {
    "ExecuteTime": {
     "end_time": "2021-12-19T09:36:33.767382Z",
     "start_time": "2021-12-19T09:36:33.605397Z"
    }
   },
   "outputs": [
    {
     "data": {
      "text/plain": [
       "<AxesSubplot:>"
      ]
     },
     "execution_count": 51,
     "metadata": {},
     "output_type": "execute_result"
    },
    {
     "data": {
      "image/png": "[encoded data removed]",
      "text/plain": [
       "<Figure size 432x288 with 1 Axes>"
      ]
     },
     "metadata": {
      "needs_background": "light"
     },
     "output_type": "display_data"
    }
   ],
   "source": [
    "y_train.hist()"
   ]
  },
  {
   "cell_type": "code",
   "execution_count": 52,
   "id": "e8d82114",
   "metadata": {
    "ExecuteTime": {
     "end_time": "2021-12-19T09:36:35.315103Z",
     "start_time": "2021-12-19T09:36:35.301095Z"
    }
   },
   "outputs": [
    {
     "data": {
      "text/plain": [
       "count    14868.000000\n",
       "mean         0.500000\n",
       "std          0.500017\n",
       "min          0.000000\n",
       "25%          0.000000\n",
       "50%          0.500000\n",
       "75%          1.000000\n",
       "max          1.000000\n",
       "Name: T_DM, dtype: float64"
      ]
     },
     "execution_count": 52,
     "metadata": {},
     "output_type": "execute_result"
    }
   ],
   "source": [
    "y_train.describe()"
   ]
  },
  {
   "cell_type": "code",
   "execution_count": 54,
   "id": "2787cdd1",
   "metadata": {
    "ExecuteTime": {
     "end_time": "2021-12-19T09:36:47.357200Z",
     "start_time": "2021-12-19T09:36:47.345200Z"
    }
   },
   "outputs": [],
   "source": [
    "break 튜닝 스킵"
   ]
  },
  {
   "cell_type": "markdown",
   "id": "d333cea2",
   "metadata": {},
   "source": [
    "## 하이퍼 파라미터 튜닝"
   ]
  },
  {
   "cell_type": "markdown",
   "id": "ff14995f",
   "metadata": {},
   "source": [
    "### [함수화] 분류 + ohe + roboust_over"
   ]
  },
  {
   "cell_type": "code",
   "execution_count": 55,
   "id": "89e79624",
   "metadata": {
    "ExecuteTime": {
     "end_time": "2021-12-19T09:36:54.329555Z",
     "start_time": "2021-12-19T09:36:54.312463Z"
    }
   },
   "outputs": [],
   "source": [
    "from sklearn.ensemble import RandomForestClassifier\n",
    "from xgboost import XGBClassifier\n",
    "from lightgbm import LGBMClassifier\n",
    "from sklearn.naive_bayes import BernoulliNB, GaussianNB, MultinomialNB # 이진분류  BernoulliNB, 일반적인 상황 GaussianNB"
   ]
  },
  {
   "cell_type": "code",
   "execution_count": 54,
   "id": "01b5bf00",
   "metadata": {
    "ExecuteTime": {
     "end_time": "2021-12-19T06:51:36.327166Z",
     "start_time": "2021-12-19T06:51:36.312619Z"
    }
   },
   "outputs": [],
   "source": [
    "best_params = dict()"
   ]
  },
  {
   "cell_type": "markdown",
   "id": "91d8a05d",
   "metadata": {},
   "source": [
    "## lgbm C 튜닝"
   ]
  },
  {
   "cell_type": "code",
   "execution_count": 55,
   "id": "7c04902b",
   "metadata": {
    "ExecuteTime": {
     "end_time": "2021-12-19T06:51:36.534180Z",
     "start_time": "2021-12-19T06:51:36.520217Z"
    }
   },
   "outputs": [],
   "source": [
    "from sklearn.model_selection import GridSearchCV,RandomizedSearchCV"
   ]
  },
  {
   "cell_type": "code",
   "execution_count": 56,
   "id": "803e3fd9",
   "metadata": {
    "ExecuteTime": {
     "end_time": "2021-12-19T06:51:36.738621Z",
     "start_time": "2021-12-19T06:51:36.724755Z"
    }
   },
   "outputs": [],
   "source": [
    "params = {\n",
    "    'n_estimators': [50,80,100,120], \n",
    "    'max_depth': [10,20, 30,40]\n",
    "}"
   ]
  },
  {
   "cell_type": "code",
   "execution_count": 57,
   "id": "fee8773e",
   "metadata": {
    "ExecuteTime": {
     "end_time": "2021-12-19T06:51:47.827659Z",
     "start_time": "2021-12-19T06:51:36.929634Z"
    },
    "scrolled": true
   },
   "outputs": [
    {
     "name": "stdout",
     "output_type": "stream",
     "text": [
      "Wall time: 10.9 s\n",
      "최적 하이퍼 파라미터:  {'n_estimators': 120, 'max_depth': 30}\n",
      "최고 예측 정확도: -0.0439\n"
     ]
    }
   ],
   "source": [
    "\n",
    "clf = RandomizedSearchCV(LGBMClassifier(), params, random_state=42, cv=3, n_iter=25, scoring='neg_mean_squared_error')\n",
    "\n",
    "%time clf.fit(X_train_df, y_train)\n",
    "\n",
    "print('최적 하이퍼 파라미터: ', clf.best_params_)\n",
    "print('최고 예측 정확도: {:.4f}'.format(clf.best_score_))"
   ]
  },
  {
   "cell_type": "code",
   "execution_count": 58,
   "id": "f5fb021f",
   "metadata": {
    "ExecuteTime": {
     "end_time": "2021-12-19T06:51:48.065124Z",
     "start_time": "2021-12-19T06:51:48.050069Z"
    }
   },
   "outputs": [],
   "source": [
    "best_params[\"LGBMClassifier\"] = clf.best_params_"
   ]
  },
  {
   "cell_type": "markdown",
   "id": "0c181117",
   "metadata": {},
   "source": [
    "## xgbm 튜닝"
   ]
  },
  {
   "cell_type": "code",
   "execution_count": 59,
   "id": "dbacc66e",
   "metadata": {
    "ExecuteTime": {
     "end_time": "2021-12-19T06:51:48.269747Z",
     "start_time": "2021-12-19T06:51:48.255681Z"
    }
   },
   "outputs": [],
   "source": [
    "from xgboost import XGBClassifier\n",
    "\n",
    "params={'max_depth':[5,6,8],\n",
    "                 'min_child_weight':[1,3,5],\n",
    "                 'gamma':[0,1,2,3],\n",
    "                 'nthread':[4],\n",
    "                 'colsample_bytree':[0.5,0.8],\n",
    "                 'colsample_bylevel':[0.9],\n",
    "                 'n_estimators':[50],\n",
    "                 'random_state':[2]}"
   ]
  },
  {
   "cell_type": "code",
   "execution_count": 60,
   "id": "0b69a295",
   "metadata": {
    "ExecuteTime": {
     "end_time": "2021-12-19T06:52:05.918072Z",
     "start_time": "2021-12-19T06:51:48.457754Z"
    },
    "scrolled": false
   },
   "outputs": [
    {
     "name": "stdout",
     "output_type": "stream",
     "text": [
      "Wall time: 17.4 s\n",
      "최적 하이퍼 파라미터:  {'random_state': 2, 'nthread': 4, 'n_estimators': 50, 'min_child_weight': 3, 'max_depth': 8, 'gamma': 3, 'colsample_bytree': 0.5, 'colsample_bylevel': 0.9}\n",
      "최고 예측 정확도: -0.0463\n"
     ]
    }
   ],
   "source": [
    "clf = RandomizedSearchCV(XGBClassifier(eval_metric='logloss'), params, random_state=42, cv=3, n_iter=25, scoring='neg_mean_squared_error')\n",
    "\n",
    "%time clf.fit(X_train_df, y_train)\n",
    "\n",
    "print('최적 하이퍼 파라미터: ', clf.best_params_)\n",
    "print('최고 예측 정확도: {:.4f}'.format(clf.best_score_))"
   ]
  },
  {
   "cell_type": "code",
   "execution_count": 61,
   "id": "651b4bfb",
   "metadata": {
    "ExecuteTime": {
     "end_time": "2021-12-19T06:52:06.125508Z",
     "start_time": "2021-12-19T06:52:06.110466Z"
    }
   },
   "outputs": [],
   "source": [
    "bestdict = clf.best_params_\n",
    "bestdict[\"eval_metric\"] = \"logloss\""
   ]
  },
  {
   "cell_type": "code",
   "execution_count": 62,
   "id": "4e2839ad",
   "metadata": {
    "ExecuteTime": {
     "end_time": "2021-12-19T06:52:06.330490Z",
     "start_time": "2021-12-19T06:52:06.315477Z"
    }
   },
   "outputs": [],
   "source": [
    "best_params[\"XGBClassifier\"] = clf.best_params_"
   ]
  },
  {
   "cell_type": "code",
   "execution_count": 63,
   "id": "1dab025d",
   "metadata": {
    "ExecuteTime": {
     "end_time": "2021-12-19T06:52:06.537556Z",
     "start_time": "2021-12-19T06:52:06.527541Z"
    }
   },
   "outputs": [
    {
     "data": {
      "text/plain": [
       "{'random_state': 2,\n",
       " 'nthread': 4,\n",
       " 'n_estimators': 50,\n",
       " 'min_child_weight': 3,\n",
       " 'max_depth': 8,\n",
       " 'gamma': 3,\n",
       " 'colsample_bytree': 0.5,\n",
       " 'colsample_bylevel': 0.9,\n",
       " 'eval_metric': 'logloss'}"
      ]
     },
     "execution_count": 63,
     "metadata": {},
     "output_type": "execute_result"
    }
   ],
   "source": [
    "bestdict"
   ]
  },
  {
   "cell_type": "markdown",
   "id": "65cd4b9f",
   "metadata": {},
   "source": [
    "## rfr c 튜닝"
   ]
  },
  {
   "cell_type": "code",
   "execution_count": 64,
   "id": "fd354c64",
   "metadata": {
    "ExecuteTime": {
     "end_time": "2021-12-19T06:54:29.619261Z",
     "start_time": "2021-12-19T06:52:25.134111Z"
    }
   },
   "outputs": [
    {
     "name": "stdout",
     "output_type": "stream",
     "text": [
      "Wall time: 2min 4s\n",
      "최적 하이퍼 파라미터:  {'max_depth': 21, 'min_samples_leaf': 3, 'min_samples_split': 3, 'n_estimators': 250}\n",
      "최고 예측 정확도: 0.9340\n"
     ]
    }
   ],
   "source": [
    "from sklearn.model_selection import GridSearchCV\n",
    "\n",
    "params = { 'n_estimators' : [150,200,250,300],\n",
    "           'max_depth' : [17,19,21],\n",
    "           'min_samples_leaf' : [3,5,8, 12],\n",
    "           'min_samples_split' : [3,5,8, 12]\n",
    "            }\n",
    "\n",
    "# RandomForestClassifier 객체 생성 후 GridSearchCV 수행\n",
    "rf_clf = RandomForestClassifier(random_state = 0, n_jobs = -1)\n",
    "grid_cv = GridSearchCV(rf_clf, param_grid = params, cv = 3, n_jobs = -1)\n",
    "%time grid_cv.fit(X_train_df, y_train)\n",
    "print('최적 하이퍼 파라미터: ', grid_cv.best_params_)\n",
    "print('최고 예측 정확도: {:.4f}'.format(grid_cv.best_score_))"
   ]
  },
  {
   "cell_type": "code",
   "execution_count": 65,
   "id": "38a0f3d3",
   "metadata": {
    "ExecuteTime": {
     "end_time": "2021-12-19T06:55:56.381230Z",
     "start_time": "2021-12-19T06:55:56.368219Z"
    }
   },
   "outputs": [],
   "source": [
    "best_params[\"RandomForestClassifier\"] =grid_cv.best_params_"
   ]
  },
  {
   "cell_type": "code",
   "execution_count": 66,
   "id": "7bdf6fe7",
   "metadata": {
    "ExecuteTime": {
     "end_time": "2021-12-19T06:55:56.694591Z",
     "start_time": "2021-12-19T06:55:56.680583Z"
    }
   },
   "outputs": [
    {
     "data": {
      "text/plain": [
       "{'LGBMClassifier': {'n_estimators': 120, 'max_depth': 30},\n",
       " 'XGBClassifier': {'random_state': 2,\n",
       "  'nthread': 4,\n",
       "  'n_estimators': 50,\n",
       "  'min_child_weight': 3,\n",
       "  'max_depth': 8,\n",
       "  'gamma': 3,\n",
       "  'colsample_bytree': 0.5,\n",
       "  'colsample_bylevel': 0.9,\n",
       "  'eval_metric': 'logloss'},\n",
       " 'RandomForestClassifier': {'max_depth': 21,\n",
       "  'min_samples_leaf': 3,\n",
       "  'min_samples_split': 3,\n",
       "  'n_estimators': 250}}"
      ]
     },
     "execution_count": 66,
     "metadata": {},
     "output_type": "execute_result"
    }
   ],
   "source": [
    "best_params"
   ]
  },
  {
   "cell_type": "markdown",
   "id": "b9b647c1",
   "metadata": {},
   "source": [
    "## GaussianNB"
   ]
  },
  {
   "cell_type": "code",
   "execution_count": 67,
   "id": "23bdf346",
   "metadata": {
    "ExecuteTime": {
     "end_time": "2021-12-19T06:56:01.439301Z",
     "start_time": "2021-12-19T06:55:57.453336Z"
    }
   },
   "outputs": [
    {
     "name": "stdout",
     "output_type": "stream",
     "text": [
      "Wall time: 3.97 s\n",
      "최적 하이퍼 파라미터:  {'priors': [0.02, 0.98]}\n",
      "최고 예측 정확도: 0.5954\n"
     ]
    }
   ],
   "source": [
    "from sklearn.naive_bayes import GaussianNB\n",
    "from sklearn.model_selection import StratifiedKFold\n",
    " \n",
    "# 0 부터 1 까지 0.01간격으로 parameter range 설정\n",
    "param_range = []\n",
    "NBarangeSet = np.arange(0,1,0.01)\n",
    "for i in range(len(NBarangeSet)):\n",
    "    param_range.append([NBarangeSet[i],1-NBarangeSet[i]])\n",
    " \n",
    "\n",
    "param_grid = dict(priors=param_range)\n",
    "grid = GridSearchCV(GaussianNB(), param_grid = param_grid,\n",
    "                    cv = list(StratifiedKFold(n_splits=3).split(X_train_df, y_train)),n_jobs=2)\n",
    " \n",
    "%time grid.fit(X_train_df, y_train)\n",
    "best_params[\"GaussianNB\"] = grid.best_params_\n",
    "print('최적 하이퍼 파라미터: ', grid.best_params_)\n",
    "print('최고 예측 정확도: {:.4f}'.format(grid.best_score_))\n",
    "    "
   ]
  },
  {
   "cell_type": "markdown",
   "id": "ea5d5542",
   "metadata": {},
   "source": [
    "## SVC 튜닝"
   ]
  },
  {
   "cell_type": "code",
   "execution_count": 68,
   "id": "3cfa708c",
   "metadata": {
    "ExecuteTime": {
     "end_time": "2021-12-19T06:57:57.261953Z",
     "start_time": "2021-12-19T06:56:01.666506Z"
    }
   },
   "outputs": [
    {
     "name": "stdout",
     "output_type": "stream",
     "text": [
      "Wall time: 1min 55s\n"
     ]
    },
    {
     "data": {
      "text/plain": [
       "GridSearchCV(cv=3, estimator=SVC(), n_jobs=-1,\n",
       "             param_grid=array([{'C': [0.001, 0.01, 0.1, 1, 10, 25, 50, 100], 'kernel': ['linear']},\n",
       "       {'C': [0.001, 0.01, 0.1, 1, 10, 25, 50, 100], 'gamma': ['auto'], 'kernel': ['rbf']}],\n",
       "      dtype=object))"
      ]
     },
     "execution_count": 68,
     "metadata": {},
     "output_type": "execute_result"
    }
   ],
   "source": [
    "from sklearn.svm import SVC\n",
    "# sklearn v0.20 기준\n",
    "from sklearn.model_selection import StratifiedKFold\n",
    "\n",
    "C_range = [0.001, 0.01, 0.1, 1, 10, 25, 50, 100]\n",
    " \n",
    "param_grid = np.array([dict(C=C_range, kernel=[\"linear\"]), dict(C=C_range, gamma = ['auto'], kernel = [\"rbf\"])])\n",
    "                           # cf. 구형 (v0.20 이전) : cv = StratifiedKFold(y=dfy_train, n_folds=5)\n",
    "grid = GridSearchCV(SVC(), param_grid = param_grid,\n",
    "                    cv = 3,n_jobs=-1)\n",
    "%time grid.fit(X_train_df, y_train)"
   ]
  },
  {
   "cell_type": "code",
   "execution_count": 69,
   "id": "9c98cbd0",
   "metadata": {
    "ExecuteTime": {
     "end_time": "2021-12-19T06:57:57.470163Z",
     "start_time": "2021-12-19T06:57:57.456131Z"
    }
   },
   "outputs": [
    {
     "name": "stdout",
     "output_type": "stream",
     "text": [
      "최적 하이퍼 파라미터:  {'C': 100, 'gamma': 'auto', 'kernel': 'rbf', 'probability': True}\n",
      "최고 예측 정확도: 0.8241\n"
     ]
    }
   ],
   "source": [
    "# 별도의 변수에 저장 (뒤에서 비교 위함)\n",
    "best_dict = grid.best_params_\n",
    "best_dict[\"probability\"] = True\n",
    "best_params[\"SVC\"] = best_dict\n",
    "print('최적 하이퍼 파라미터: ', grid.best_params_)\n",
    "print('최고 예측 정확도: {:.4f}'.format(grid.best_score_))"
   ]
  },
  {
   "cell_type": "code",
   "execution_count": 71,
   "id": "867627c1",
   "metadata": {
    "ExecuteTime": {
     "end_time": "2021-12-19T06:57:57.886052Z",
     "start_time": "2021-12-19T06:57:57.872530Z"
    }
   },
   "outputs": [
    {
     "data": {
      "text/plain": [
       "{'LGBMClassifier': {'n_estimators': 120, 'max_depth': 30},\n",
       " 'XGBClassifier': {'random_state': 2,\n",
       "  'nthread': 4,\n",
       "  'n_estimators': 50,\n",
       "  'min_child_weight': 3,\n",
       "  'max_depth': 8,\n",
       "  'gamma': 3,\n",
       "  'colsample_bytree': 0.5,\n",
       "  'colsample_bylevel': 0.9,\n",
       "  'eval_metric': 'logloss'},\n",
       " 'RandomForestClassifier': {'max_depth': 21,\n",
       "  'min_samples_leaf': 3,\n",
       "  'min_samples_split': 3,\n",
       "  'n_estimators': 250},\n",
       " 'GaussianNB': {'priors': [0.02, 0.98]},\n",
       " 'SVC': {'C': 100, 'gamma': 'auto', 'kernel': 'rbf', 'probability': True}}"
      ]
     },
     "execution_count": 71,
     "metadata": {},
     "output_type": "execute_result"
    }
   ],
   "source": [
    "best_params"
   ]
  },
  {
   "cell_type": "markdown",
   "id": "7d70acd2",
   "metadata": {},
   "source": [
    "## 하이퍼파라미터 튜닝 결과 저장"
   ]
  },
  {
   "cell_type": "code",
   "execution_count": 56,
   "id": "28eefff0",
   "metadata": {
    "ExecuteTime": {
     "end_time": "2021-12-19T09:37:05.499600Z",
     "start_time": "2021-12-19T09:37:05.482563Z"
    }
   },
   "outputs": [],
   "source": [
    "import pickle"
   ]
  },
  {
   "cell_type": "code",
   "execution_count": 57,
   "id": "e408dd70",
   "metadata": {
    "ExecuteTime": {
     "end_time": "2021-12-19T09:37:07.139562Z",
     "start_time": "2021-12-19T09:37:07.124649Z"
    }
   },
   "outputs": [],
   "source": [
    "# # save data\n",
    "# with open(SAVEDIR+'best_params.pickle','wb') as fw:\n",
    "#     pickle.dump(best_params, fw)"
   ]
  },
  {
   "cell_type": "code",
   "execution_count": 58,
   "id": "29bb768a",
   "metadata": {
    "ExecuteTime": {
     "end_time": "2021-12-19T09:37:08.666000Z",
     "start_time": "2021-12-19T09:37:08.651991Z"
    }
   },
   "outputs": [],
   "source": [
    "SAVEDIR = \"models/\""
   ]
  },
  {
   "cell_type": "code",
   "execution_count": 59,
   "id": "c9701ea0",
   "metadata": {
    "ExecuteTime": {
     "end_time": "2021-12-19T09:37:15.764348Z",
     "start_time": "2021-12-19T09:37:15.748472Z"
    }
   },
   "outputs": [],
   "source": [
    "# load data\n",
    "with open(SAVEDIR+'best_params.pickle', 'rb') as fr:\n",
    "    best_params = pickle.load(fr)"
   ]
  },
  {
   "cell_type": "markdown",
   "id": "ba4cd13b",
   "metadata": {},
   "source": [
    "## 앙상블 - Bagging (Random Forest)"
   ]
  },
  {
   "cell_type": "markdown",
   "id": "a3c287f0",
   "metadata": {},
   "source": [
    "# 6개의 재료 모델"
   ]
  },
  {
   "cell_type": "code",
   "execution_count": 60,
   "id": "b8baf3ce",
   "metadata": {
    "ExecuteTime": {
     "end_time": "2021-12-19T09:37:19.984221Z",
     "start_time": "2021-12-19T09:37:19.978849Z"
    }
   },
   "outputs": [],
   "source": [
    "from sklearn.ensemble import RandomForestClassifier\n",
    "from lightgbm import LGBMClassifier\n",
    "from xgboost import XGBClassifier\n",
    "from sklearn.naive_bayes import GaussianNB\n",
    "from sklearn.svm import SVC\n",
    "from sklearn.ensemble import VotingClassifier\n",
    "from sklearn.ensemble import StackingClassifier"
   ]
  },
  {
   "cell_type": "markdown",
   "id": "d0954d17",
   "metadata": {},
   "source": [
    "- 훈련되지 않은 새로운 재료 모델 (5개) 선언"
   ]
  },
  {
   "cell_type": "code",
   "execution_count": 61,
   "id": "b866a4b7",
   "metadata": {
    "ExecuteTime": {
     "end_time": "2021-12-19T09:37:22.453824Z",
     "start_time": "2021-12-19T09:37:22.436345Z"
    }
   },
   "outputs": [],
   "source": [
    "def make_ensemble_model():\n",
    "    global best_params\n",
    "    model_list = []\n",
    "\n",
    "    # xgb\n",
    "    xgb = XGBClassifier(**best_params[\"XGBClassifier\"])\n",
    "    model_list.append(xgb)\n",
    "\n",
    "    # lgbm\n",
    "    lgbm = LGBMClassifier(**best_params[\"LGBMClassifier\"])\n",
    "    model_list.append(lgbm)\n",
    "\n",
    "    # bern\n",
    "    gaus = GaussianNB(**best_params[\"GaussianNB\"])\n",
    "    model_list.append(gaus)\n",
    "\n",
    "    #rfr\n",
    "    rfr = RandomForestClassifier(**best_params[\"RandomForestClassifier\"])\n",
    "    model_list.append(rfr)\n",
    "\n",
    "    #SVC\n",
    "    svc = SVC(**best_params[\"SVC\"])\n",
    "    model_list.append(svc)\n",
    "    \n",
    "    ensemble_list = []\n",
    "    for model in model_list:\n",
    "        ensemble_list.append((model.__class__.__name__, model))\n",
    "    \n",
    "    \n",
    "    return ensemble_list"
   ]
  },
  {
   "cell_type": "markdown",
   "id": "c3ab6c82",
   "metadata": {},
   "source": [
    "## K-fold"
   ]
  },
  {
   "cell_type": "code",
   "execution_count": 62,
   "id": "385e86a0",
   "metadata": {
    "ExecuteTime": {
     "end_time": "2021-12-19T09:37:29.919168Z",
     "start_time": "2021-12-19T09:37:29.869167Z"
    }
   },
   "outputs": [],
   "source": [
    "import numpy as np\n",
    "import pandas as pd\n",
    "import matplotlib.pyplot as plt\n",
    "import seaborn as sns\n",
    "from sklearn.datasets import make_classification\n",
    "from sklearn.ensemble import RandomForestClassifier\n",
    "from sklearn.model_selection import train_test_split\n",
    "from sklearn.metrics import roc_curve, roc_auc_score\n",
    "from sklearn.model_selection import cross_val_score\n",
    "def plot_roc_curve(fper, tper,name = \"\"):\n",
    "    plt.plot(fper, tper, label=name)\n",
    "    plt.plot([0, 1], [0, 1], color='green', linestyle='--')\n",
    "    plt.xlabel('False Positive Rate')\n",
    "    plt.ylabel('True Positive Rate')\n",
    "    plt.title('Receiver Operating Characteristic Curve')\n",
    "    plt.legend(title='ROC')\n",
    "#     plt.show()"
   ]
  },
  {
   "cell_type": "code",
   "execution_count": 63,
   "id": "341c4bde",
   "metadata": {
    "ExecuteTime": {
     "end_time": "2021-12-19T09:37:31.478037Z",
     "start_time": "2021-12-19T09:37:31.463024Z"
    }
   },
   "outputs": [],
   "source": [
    "from sklearn.model_selection import KFold\n",
    "n_splits = 5\n",
    "kfold = KFold(n_splits=n_splits)"
   ]
  },
  {
   "cell_type": "markdown",
   "id": "d07e086e",
   "metadata": {},
   "source": [
    "## Stacking Classifier"
   ]
  },
  {
   "cell_type": "code",
   "execution_count": 64,
   "id": "f8788403",
   "metadata": {
    "ExecuteTime": {
     "end_time": "2021-12-19T09:37:33.016756Z",
     "start_time": "2021-12-19T09:37:33.004587Z"
    }
   },
   "outputs": [],
   "source": [
    "ensemble_models = make_ensemble_model()"
   ]
  },
  {
   "cell_type": "markdown",
   "id": "1dc342f7",
   "metadata": {},
   "source": [
    "- 약한 학습기가 순서대로 배치되어 속도가 느린 boosting 계열의 단점 보완 : \n",
    "    - LightGBM을 평가모델로 사용"
   ]
  },
  {
   "cell_type": "code",
   "execution_count": 65,
   "id": "cc07daeb",
   "metadata": {
    "ExecuteTime": {
     "end_time": "2021-12-19T09:40:11.455051Z",
     "start_time": "2021-12-19T09:37:36.055998Z"
    }
   },
   "outputs": [
    {
     "name": "stdout",
     "output_type": "stream",
     "text": [
      "Wall time: 2min 33s\n"
     ]
    }
   ],
   "source": [
    "rfc = LGBMClassifier(**best_params[\"LGBMClassifier\"])\n",
    "StackingClassifier = StackingClassifier(ensemble_models, final_estimator=rfc, n_jobs=6)\n",
    "%time stack_classifier.fit(X_train_df,y_train)\n",
    "stack_pred = stack_classifier.predict( X_test_df)"
   ]
  },
  {
   "cell_type": "code",
   "execution_count": 66,
   "id": "01c9c4cd",
   "metadata": {
    "ExecuteTime": {
     "end_time": "2021-12-19T09:40:13.238449Z",
     "start_time": "2021-12-19T09:40:13.224430Z"
    }
   },
   "outputs": [],
   "source": [
    "from sklearn.metrics import accuracy_score"
   ]
  },
  {
   "cell_type": "code",
   "execution_count": 67,
   "id": "70552e6d",
   "metadata": {
    "ExecuteTime": {
     "end_time": "2021-12-19T09:40:15.040043Z",
     "start_time": "2021-12-19T09:40:15.026040Z"
    }
   },
   "outputs": [
    {
     "data": {
      "text/plain": [
       "((14868, 28), (14868,))"
      ]
     },
     "execution_count": 67,
     "metadata": {},
     "output_type": "execute_result"
    }
   ],
   "source": [
    "X_train_df.shape, y_train.shape"
   ]
  },
  {
   "cell_type": "code",
   "execution_count": 78,
   "id": "afa08bc4",
   "metadata": {
    "ExecuteTime": {
     "end_time": "2021-12-19T10:29:31.005512Z",
     "start_time": "2021-12-19T10:22:30.285098Z"
    }
   },
   "outputs": [
    {
     "name": "stdout",
     "output_type": "stream",
     "text": [
      "Fold = 1, prediction score = 0.93\n",
      "Fold = 2, prediction score = 0.94\n",
      "Fold = 3, prediction score = 0.95\n",
      "Fold = 4, prediction score = 0.99\n",
      "Fold = 5, prediction score = 1.00\n",
      "------------------------------\n",
      "Average Accuracy: 0.9618686085552307\n"
     ]
    }
   ],
   "source": [
    "i = 1\n",
    "total_acc = 0\n",
    "for train_index, test_index in kfold.split(X_train_df,y_train):\n",
    "    x_train_fold, x_valid_fold = X_train_df.iloc[train_index], X_train_df.iloc[test_index]\n",
    "    y_train_fold, y_valid_fold = y_train.iloc[train_index], y_train.iloc[test_index]\n",
    "    stacking_pred_fold = StackingClassifier.fit(x_train_fold, y_train_fold).predict(x_valid_fold)\n",
    "    acc= accuracy_score(stacking_pred_fold, y_valid_fold)\n",
    "    print('Fold = {}, prediction score = {:.2f}'.format(i, acc))\n",
    "    total_acc += acc\n",
    "    i+=1\n",
    "print('---'*10)\n",
    "print('Average Accuracy: %s' % (total_acc / n_splits))"
   ]
  },
  {
   "cell_type": "code",
   "execution_count": 76,
   "id": "1252fb22",
   "metadata": {
    "ExecuteTime": {
     "end_time": "2021-12-19T10:18:34.587215Z",
     "start_time": "2021-12-19T10:18:34.509147Z"
    }
   },
   "outputs": [],
   "source": [
    "SAVEDIR = \"models/\"\n",
    "# save data\n",
    "# with open(SAVEDIR+'StackingClassifier.pickle','wb') as fw:\n",
    "#     pickle.dump(stack_classifier, fw)\n",
    "\n",
    "# load data\n",
    "with open(SAVEDIR+'StackingClassifier.pickle', 'rb') as fr:\n",
    "    StackingClassifier = pickle.load(fr)"
   ]
  },
  {
   "cell_type": "code",
   "execution_count": 77,
   "id": "0e6efb78",
   "metadata": {
    "ExecuteTime": {
     "end_time": "2021-12-19T10:18:40.898089Z",
     "start_time": "2021-12-19T10:18:39.173497Z"
    }
   },
   "outputs": [
    {
     "name": "stderr",
     "output_type": "stream",
     "text": [
      "No handles with labels found to put in legend.\n"
     ]
    },
    {
     "name": "stdout",
     "output_type": "stream",
     "text": [
      "0.724546866118061\n"
     ]
    },
    {
     "data": {
      "image/png": "[encoded data removed]",
      "text/plain": [
       "<Figure size 432x288 with 1 Axes>"
      ]
     },
     "metadata": {
      "needs_background": "light"
     },
     "output_type": "display_data"
    }
   ],
   "source": [
    "prob_list = []\n",
    "probs = StackingClassifier.predict_proba(X_test_df)\n",
    "prob = probs[:, 1]\n",
    "prob_list.append((\"StackingClassifier\",probs[:, 1]))\n",
    "fper, tper, thresholds = roc_curve(y_test, prob)\n",
    "plot_roc_curve(fper, tper)\n",
    "print(roc_auc_score(y_test, prob))"
   ]
  },
  {
   "cell_type": "markdown",
   "id": "449997f9",
   "metadata": {},
   "source": [
    "## Voting Classifier"
   ]
  },
  {
   "cell_type": "code",
   "execution_count": 101,
   "id": "9224bb44",
   "metadata": {
    "ExecuteTime": {
     "end_time": "2021-12-19T11:06:22.809559Z",
     "start_time": "2021-12-19T11:06:22.798549Z"
    }
   },
   "outputs": [],
   "source": [
    "voting_models = make_ensemble_model()"
   ]
  },
  {
   "cell_type": "code",
   "execution_count": 104,
   "id": "fc702b1b",
   "metadata": {
    "ExecuteTime": {
     "end_time": "2021-12-19T11:08:30.092412Z",
     "start_time": "2021-12-19T11:08:30.080041Z"
    }
   },
   "outputs": [],
   "source": [
    "VotingClassifier = VotingClassifier(voting_models, n_jobs=-1,voting=\"soft\")"
   ]
  },
  {
   "cell_type": "code",
   "execution_count": 105,
   "id": "39d7a6bd",
   "metadata": {
    "ExecuteTime": {
     "end_time": "2021-12-19T11:12:09.728750Z",
     "start_time": "2021-12-19T11:08:33.119829Z"
    }
   },
   "outputs": [
    {
     "name": "stdout",
     "output_type": "stream",
     "text": [
      "Fold = 1, prediction score = 0.83\n",
      "Fold = 2, prediction score = 0.84\n",
      "Fold = 3, prediction score = 0.90\n",
      "Fold = 4, prediction score = 1.00\n",
      "Fold = 5, prediction score = 1.00\n",
      "------------------------------\n",
      "Average Accuracy: 0.9130460854708742\n"
     ]
    }
   ],
   "source": [
    "i = 1\n",
    "total_acc = 0\n",
    "for train_index, test_index in kfold.split(X_train_df,y_train):\n",
    "    x_train_fold, x_valid_fold = X_train_df.iloc[train_index], X_train_df.iloc[test_index]\n",
    "    y_train_fold, y_valid_fold = y_train.iloc[train_index], y_train.iloc[test_index]\n",
    "    voting_pred_fold = VotingClassifier.fit(x_train_fold, y_train_fold).predict(x_valid_fold)\n",
    "    acc= accuracy_score(voting_pred_fold, y_valid_fold)\n",
    "    print('Fold = {}, prediction score = {:.2f}'.format(i, acc))\n",
    "    total_acc += acc\n",
    "    i+=1\n",
    "print('---'*10)\n",
    "print('Average Accuracy: %s' % (total_acc / n_splits))"
   ]
  },
  {
   "cell_type": "code",
   "execution_count": 106,
   "id": "ba13bf80",
   "metadata": {
    "ExecuteTime": {
     "end_time": "2021-12-19T11:12:12.399713Z",
     "start_time": "2021-12-19T11:12:12.336643Z"
    }
   },
   "outputs": [],
   "source": [
    "# save data\n",
    "# with open(SAVEDIR+'VotingClassifier.pickle','wb') as fw:\n",
    "#     pickle.dump(VotingClassifier, fw)\n",
    "\n",
    "    \n",
    "# load data\n",
    "with open(SAVEDIR+'VotingClassifier.pickle', 'rb') as fr:\n",
    "    VotingClassifier = pickle.load(fr)"
   ]
  },
  {
   "cell_type": "code",
   "execution_count": 108,
   "id": "f53d8cf1",
   "metadata": {
    "ExecuteTime": {
     "end_time": "2021-12-19T11:21:38.999233Z",
     "start_time": "2021-12-19T11:21:37.623217Z"
    }
   },
   "outputs": [],
   "source": [
    "probs = VotingClassifier.predict_proba(X_test_df)\n",
    "prob = probs[:, 1]\n",
    "prob_list.append((\"VotingClassifier\",probs[:, 1]))\n"
   ]
  },
  {
   "cell_type": "markdown",
   "id": "1ac392cd",
   "metadata": {},
   "source": [
    "## final model"
   ]
  },
  {
   "cell_type": "code",
   "execution_count": 110,
   "id": "88203d43",
   "metadata": {
    "ExecuteTime": {
     "end_time": "2021-12-19T11:22:25.150714Z",
     "start_time": "2021-12-19T11:22:25.142699Z"
    }
   },
   "outputs": [],
   "source": [
    "final_models = [StackingClassifier,VotingClassifier]"
   ]
  },
  {
   "cell_type": "code",
   "execution_count": 111,
   "id": "9a2df3f9",
   "metadata": {
    "ExecuteTime": {
     "end_time": "2021-12-19T11:22:28.214662Z",
     "start_time": "2021-12-19T11:22:28.199641Z"
    }
   },
   "outputs": [],
   "source": [
    "# final_model = LogisticRegression(C=10)\n",
    "final_model = LGBMClassifier(**best_params[\"LGBMClassifier\"])"
   ]
  },
  {
   "cell_type": "code",
   "execution_count": 112,
   "id": "3990a48c",
   "metadata": {
    "ExecuteTime": {
     "end_time": "2021-12-19T11:22:33.856073Z",
     "start_time": "2021-12-19T11:22:31.112485Z"
    }
   },
   "outputs": [],
   "source": [
    "final_preds = []\n",
    "final_probs = []\n",
    "for model in final_models:\n",
    "    fpred = model.predict(X_test_df)\n",
    "#     fprob = model.predict(CXtest_robustScaled_df)\n",
    "    final_preds.append(fpred)\n",
    "#     final_probs.append(fprob)"
   ]
  },
  {
   "cell_type": "code",
   "execution_count": 113,
   "id": "3253071c",
   "metadata": {
    "ExecuteTime": {
     "end_time": "2021-12-19T11:23:31.580089Z",
     "start_time": "2021-12-19T11:23:31.415908Z"
    }
   },
   "outputs": [
    {
     "name": "stdout",
     "output_type": "stream",
     "text": [
      "최종 메타 모델의 예측 정확도 :  0.9295\n"
     ]
    }
   ],
   "source": [
    "metamodel_preds = pd.DataFrame(final_preds).T\n",
    "final_model.fit(metamodel_preds,y_test)\n",
    "final_acc = np.mean(cross_val_score(final_model,metamodel_preds,y_test,cv=5))\n",
    "print(\"최종 메타 모델의 예측 정확도 : \" , final_acc )"
   ]
  },
  {
   "cell_type": "code",
   "execution_count": 115,
   "id": "8c5daf0c",
   "metadata": {
    "ExecuteTime": {
     "end_time": "2021-12-19T11:24:01.955626Z",
     "start_time": "2021-12-19T11:24:01.947615Z"
    }
   },
   "outputs": [],
   "source": [
    "probs = FinalClassifier.predict_proba(metamodel_preds)\n",
    "prob = probs[:, 1]\n",
    "prob_list.append((\"FinalClassifier\",probs[:, 1]))"
   ]
  },
  {
   "cell_type": "code",
   "execution_count": 100,
   "id": "244e71cd",
   "metadata": {
    "ExecuteTime": {
     "end_time": "2021-12-19T08:44:13.556850Z",
     "start_time": "2021-12-19T08:44:13.541825Z"
    }
   },
   "outputs": [],
   "source": [
    "from sklearn.metrics import confusion_matrix\n",
    "cof_list = []"
   ]
  },
  {
   "cell_type": "code",
   "execution_count": 101,
   "id": "31f68dff",
   "metadata": {
    "ExecuteTime": {
     "end_time": "2021-12-19T08:44:18.050537Z",
     "start_time": "2021-12-19T08:44:18.036884Z"
    }
   },
   "outputs": [],
   "source": [
    "final = FinalClassifier.predict(metamodel_preds)"
   ]
  },
  {
   "cell_type": "code",
   "execution_count": 103,
   "id": "3b3e8317",
   "metadata": {
    "ExecuteTime": {
     "end_time": "2021-12-19T08:44:24.195281Z",
     "start_time": "2021-12-19T08:44:24.182261Z"
    }
   },
   "outputs": [],
   "source": [
    "final_matrix = confusion_matrix(y_test , final)"
   ]
  },
  {
   "cell_type": "markdown",
   "id": "efce709a",
   "metadata": {},
   "source": [
    "# Confusion Matrix"
   ]
  },
  {
   "cell_type": "code",
   "execution_count": 125,
   "id": "d63b07f7",
   "metadata": {
    "ExecuteTime": {
     "end_time": "2021-12-19T11:53:08.301394Z",
     "start_time": "2021-12-19T11:53:08.291228Z"
    }
   },
   "outputs": [],
   "source": [
    "from sklearn.metrics import plot_confusion_matrix"
   ]
  },
  {
   "cell_type": "code",
   "execution_count": 107,
   "id": "32d32019",
   "metadata": {
    "ExecuteTime": {
     "end_time": "2021-12-19T08:45:37.802472Z",
     "start_time": "2021-12-19T08:45:36.043839Z"
    }
   },
   "outputs": [
    {
     "data": {
      "image/png": "[encoded data removed]",
      "text/plain": [
       "<Figure size 432x288 with 2 Axes>"
      ]
     },
     "metadata": {
      "needs_background": "light"
     },
     "output_type": "display_data"
    }
   ],
   "source": [
    "#VotingClassifier\n",
    "plot_confusion_matrix(VotingClassifier,X_test_df, y_test,cmap=plt.cm.Blues)\n",
    "plt.show()"
   ]
  },
  {
   "cell_type": "code",
   "execution_count": 114,
   "id": "4ff68af4",
   "metadata": {
    "ExecuteTime": {
     "end_time": "2021-12-19T08:47:30.539602Z",
     "start_time": "2021-12-19T08:47:28.791283Z"
    }
   },
   "outputs": [
    {
     "data": {
      "image/png": "[encoded data removed]",
      "text/plain": [
       "<Figure size 432x288 with 2 Axes>"
      ]
     },
     "metadata": {
      "needs_background": "light"
     },
     "output_type": "display_data"
    }
   ],
   "source": [
    "#StackingClassifier\n",
    "plot_confusion_matrix(StackingClassifier,X_test_df, y_test,cmap=plt.cm.Blues)\n",
    "plt.show()"
   ]
  },
  {
   "cell_type": "markdown",
   "id": "90b552fb",
   "metadata": {},
   "source": [
    "5가지 모델\n",
    "- XGBClassifier\n",
    "- LGBMClassifier\n",
    "- BernoulliNB\n",
    "- RandomForestClassifier\n",
    "- SVC\n",
    "\n",
    "2가지의 메타모델\n",
    "- VotingClassifier\n",
    "- StackingClassifier\n",
    "\n",
    "최종 모델\n",
    "- finalClassifier"
   ]
  },
  {
   "cell_type": "markdown",
   "id": "5db5c8d6",
   "metadata": {},
   "source": [
    "## final model 교차검증 정확도"
   ]
  },
  {
   "cell_type": "code",
   "execution_count": 116,
   "id": "3da5e103",
   "metadata": {
    "ExecuteTime": {
     "end_time": "2021-12-19T08:49:04.538191Z",
     "start_time": "2021-12-19T08:49:03.395182Z"
    }
   },
   "outputs": [
    {
     "name": "stdout",
     "output_type": "stream",
     "text": [
      "Fold = 1, prediction score = 0.92\n",
      "Fold = 2, prediction score = 0.93\n",
      "Fold = 3, prediction score = 0.95\n",
      "Fold = 4, prediction score = 0.99\n",
      "Fold = 5, prediction score = 1.00\n",
      "------------------------------\n",
      "Average Accuracy: 0.9573629375882607\n"
     ]
    }
   ],
   "source": [
    "i = 1\n",
    "total_acc = 0\n",
    "for train_index, test_index in kfold.split(X_train_df,y_train):\n",
    "    x_train_fold, x_valid_fold = X_train_df.iloc[train_index], X_train_df.iloc[test_index]\n",
    "    y_train_fold, y_valid_fold = y_train.iloc[train_index], y_train.iloc[test_index]\n",
    "    final_pred_fold = final_model.fit(x_train_fold, y_train_fold).predict(x_valid_fold)\n",
    "#     lgbm_pred_fold = lgbm_fold.fit(x_train_fold, y_train_fold).predict(x_valid_fold)\n",
    "    acc= accuracy_score(final_pred_fold, y_valid_fold)\n",
    "    print('Fold = {}, prediction score = {:.2f}'.format(i, acc))\n",
    "    total_acc += acc\n",
    "    i+=1\n",
    "print('---'*10)\n",
    "print('Average Accuracy: %s' % (total_acc / n_splits))"
   ]
  },
  {
   "cell_type": "code",
   "execution_count": 161,
   "id": "484123fa",
   "metadata": {
    "ExecuteTime": {
     "end_time": "2021-12-19T09:34:24.909144Z",
     "start_time": "2021-12-19T09:34:24.900136Z"
    }
   },
   "outputs": [],
   "source": [
    "SAVEDIR = \"models/\"\n",
    "# save data\n",
    "# with open(SAVEDIR+'FinalClassifier.pickle','wb') as fw:\n",
    "#     pickle.dump(final_model, fw)\n",
    "\n",
    "# load data\n",
    "with open(SAVEDIR+'FinalClassifier.pickle', 'rb') as fr:\n",
    "    FinalClassifier = pickle.load(fr)"
   ]
  },
  {
   "cell_type": "code",
   "execution_count": 130,
   "id": "4c887306",
   "metadata": {
    "ExecuteTime": {
     "end_time": "2021-12-19T11:58:55.085203Z",
     "start_time": "2021-12-19T11:58:55.071992Z"
    }
   },
   "outputs": [
    {
     "data": {
      "text/plain": [
       "[('StackingClassifier',\n",
       "  array([1.48462450e-03, 4.52813529e-04, 8.01681155e-03, ...,\n",
       "         1.43975113e-04, 2.16960352e-03, 2.13715291e-05])),\n",
       " ('VotingClassifier',\n",
       "  array([4.28959296e-01, 3.92480135e-01, 3.60400317e-01, ...,\n",
       "         2.62559851e-01, 2.62170757e-01, 8.06082836e-05])),\n",
       " ('FinalClassifier',\n",
       "  array([0.05837842, 0.05837842, 0.05837842, ..., 0.05837842, 0.05837842,\n",
       "         0.05837842])),\n",
       " ('var3_RandomForest',\n",
       "  array([1.72620321e-03, 1.44284168e-01, 2.63911192e-01, ...,\n",
       "         4.09546034e-03, 0.00000000e+00, 3.07692308e-06]))]"
      ]
     },
     "execution_count": 130,
     "metadata": {},
     "output_type": "execute_result"
    }
   ],
   "source": [
    "prob_list"
   ]
  },
  {
   "cell_type": "markdown",
   "id": "ca593e91",
   "metadata": {},
   "source": [
    "## 변수 3개 모델 : RandomForestClassifier"
   ]
  },
  {
   "cell_type": "code",
   "execution_count": 137,
   "id": "0f0dec9c",
   "metadata": {
    "ExecuteTime": {
     "end_time": "2021-12-19T09:16:07.040870Z",
     "start_time": "2021-12-19T09:16:07.033852Z"
    }
   },
   "outputs": [
    {
     "data": {
      "text/plain": [
       "(10000, 28)"
      ]
     },
     "execution_count": 137,
     "metadata": {},
     "output_type": "execute_result"
    }
   ],
   "source": [
    "df_imputed.shape"
   ]
  },
  {
   "cell_type": "code",
   "execution_count": 117,
   "id": "843ba644",
   "metadata": {
    "ExecuteTime": {
     "end_time": "2021-12-19T11:24:42.576593Z",
     "start_time": "2021-12-19T11:24:42.561576Z"
    }
   },
   "outputs": [],
   "source": [
    "from sklearn.preprocessing import StandardScaler"
   ]
  },
  {
   "cell_type": "code",
   "execution_count": 118,
   "id": "4aade305",
   "metadata": {
    "ExecuteTime": {
     "end_time": "2021-12-19T11:24:45.814248Z",
     "start_time": "2021-12-19T11:24:45.799208Z"
    }
   },
   "outputs": [],
   "source": [
    "X3_train, X3_test, y3_train,y3_test = train_test_split(df_imputed[[\"T_AGE\", \"T_BMI\", \"T_INCOME\"]],target_TDM,test_size = 0.2, stratify=target_TDM,random_state=42) "
   ]
  },
  {
   "cell_type": "code",
   "execution_count": 119,
   "id": "38514b5c",
   "metadata": {
    "ExecuteTime": {
     "end_time": "2021-12-19T11:24:48.957455Z",
     "start_time": "2021-12-19T11:24:48.943431Z"
    }
   },
   "outputs": [],
   "source": [
    "stdX3_train = copy.deepcopy(X3_train)\n",
    "stdX3_test = copy.deepcopy(X3_test)"
   ]
  },
  {
   "cell_type": "code",
   "execution_count": 120,
   "id": "88b66c04",
   "metadata": {
    "ExecuteTime": {
     "end_time": "2021-12-19T11:24:52.266234Z",
     "start_time": "2021-12-19T11:24:52.251214Z"
    }
   },
   "outputs": [],
   "source": [
    "stdScaler = StandardScaler()\n",
    "stdScaler.fit(stdX3_train)\n",
    "std_X3_train = pd.DataFrame(stdScaler.transform(stdX3_train), columns = X3_train.columns)\n",
    "std_X3_test = pd.DataFrame(stdScaler.transform(stdX3_test),columns=X3_test.columns)"
   ]
  },
  {
   "cell_type": "code",
   "execution_count": 121,
   "id": "46acf142",
   "metadata": {
    "ExecuteTime": {
     "end_time": "2021-12-19T11:24:56.850258Z",
     "start_time": "2021-12-19T11:24:55.586092Z"
    }
   },
   "outputs": [
    {
     "data": {
      "image/png": "[encoded data removed]",
      "text/plain": [
       "<Figure size 792x576 with 1 Axes>"
      ]
     },
     "metadata": {
      "needs_background": "light"
     },
     "output_type": "display_data"
    },
    {
     "name": "stdout",
     "output_type": "stream",
     "text": [
      "                      model  accuracy\n",
      "0  RandomForest Classifier3     0.928\n"
     ]
    },
    {
     "data": {
      "image/png": "[encoded data removed]",
      "text/plain": [
       "<Figure size 648x36 with 1 Axes>"
      ]
     },
     "metadata": {
      "needs_background": "light"
     },
     "output_type": "display_data"
    }
   ],
   "source": [
    "rfr3 = RandomForestClassifier(**best_params[\"RandomForestClassifier\"])\n",
    "rfr3.fit(std_X3_train,y3_train)\n",
    "rfr_pred3 = rfr3.predict(std_X3_test)\n",
    "acc_eval('RandomForest Classifier3', rfr_pred3, y3_test,True)"
   ]
  },
  {
   "cell_type": "code",
   "execution_count": 122,
   "id": "add8e11c",
   "metadata": {
    "ExecuteTime": {
     "end_time": "2021-12-19T11:25:00.443110Z",
     "start_time": "2021-12-19T11:25:00.204383Z"
    },
    "scrolled": true
   },
   "outputs": [
    {
     "name": "stderr",
     "output_type": "stream",
     "text": [
      "No handles with labels found to put in legend.\n"
     ]
    },
    {
     "data": {
      "image/png": "[encoded data removed]",
      "text/plain": [
       "<Figure size 432x288 with 1 Axes>"
      ]
     },
     "metadata": {
      "needs_background": "light"
     },
     "output_type": "display_data"
    }
   ],
   "source": [
    "probs = rfr3.predict_proba(std_X3_test)\n",
    "fper, tper, thresholds = roc_curve(y3_test, probs[:, 1])\n",
    "prob_list.append((\"var3_RandomForest\",probs[:, 1]))\n",
    "plot_roc_curve(fper, tper)"
   ]
  },
  {
   "cell_type": "code",
   "execution_count": 158,
   "id": "329dd9f1",
   "metadata": {
    "ExecuteTime": {
     "end_time": "2021-12-19T09:26:19.448325Z",
     "start_time": "2021-12-19T09:26:19.435054Z"
    }
   },
   "outputs": [
    {
     "data": {
      "text/plain": [
       "0.7196540502596149"
      ]
     },
     "execution_count": 158,
     "metadata": {},
     "output_type": "execute_result"
    }
   ],
   "source": [
    "roc_auc_score(y3_test, prob)"
   ]
  },
  {
   "cell_type": "markdown",
   "id": "7e256ff4",
   "metadata": {},
   "source": [
    "# 성능 비교"
   ]
  },
  {
   "cell_type": "markdown",
   "id": "64865461",
   "metadata": {},
   "source": [
    "## 분류모델 평가지표"
   ]
  },
  {
   "cell_type": "code",
   "execution_count": 163,
   "id": "e8205bb7",
   "metadata": {
    "ExecuteTime": {
     "end_time": "2021-12-19T12:15:07.679117Z",
     "start_time": "2021-12-19T12:15:07.667107Z"
    }
   },
   "outputs": [],
   "source": [
    "from sklearn.metrics import f1_score, accuracy_score, recall_score, precision_score,precision_recall_curve, plot_precision_recall_curve,precision_score"
   ]
  },
  {
   "cell_type": "code",
   "execution_count": 123,
   "id": "f59237cf",
   "metadata": {
    "ExecuteTime": {
     "end_time": "2021-12-19T11:25:45.717342Z",
     "start_time": "2021-12-19T11:25:45.497071Z"
    }
   },
   "outputs": [
    {
     "name": "stdout",
     "output_type": "stream",
     "text": [
      "StackingClassifier  :  0.724546866118061\n",
      "VotingClassifier  :  0.7830679958339533\n",
      "FinalClassifier  :  0.5855527451272132\n",
      "var3_RandomForest  :  0.7193526604328568\n"
     ]
    },
    {
     "data": {
      "image/png": "[encoded data removed]",
      "text/plain": [
       "<Figure size 432x288 with 1 Axes>"
      ]
     },
     "metadata": {
      "needs_background": "light"
     },
     "output_type": "display_data"
    }
   ],
   "source": [
    "for name, prob in prob_list:\n",
    "    fper, tper, thresholds = roc_curve(y_test, prob)\n",
    "    plot_roc_curve(fper, tper,name)\n",
    "    print(name,\" : \",roc_auc_score(y_test,prob))\n",
    "plt.show()"
   ]
  },
  {
   "cell_type": "code",
   "execution_count": 158,
   "id": "941b8541",
   "metadata": {
    "ExecuteTime": {
     "end_time": "2021-12-19T12:13:51.059581Z",
     "start_time": "2021-12-19T12:13:49.511719Z"
    }
   },
   "outputs": [],
   "source": [
    "accuracy_list = []\n",
    "recall_list = []\n",
    "f1_list = []\n",
    "precision_list = []\n",
    "pred = StackingClassifier.predict(X_test_df)\n",
    "pre = precision_score(y_test,pred)\n",
    "acc = accuracy_score(y_test,pred)\n",
    "rec = recall_score(y_test,pred)\n",
    "f1 = f1_score(y_test,pred)\n",
    "accuracy_list.append((\"StackingClassifier\",acc))\n",
    "recall_list.append((\"StackingClassifier\",rec))\n",
    "f1_list.append((\"StackingClassifier\",f1))\n",
    "precision_list.append((\"StackingClassifier\",pre))"
   ]
  },
  {
   "cell_type": "code",
   "execution_count": 159,
   "id": "011978dd",
   "metadata": {
    "ExecuteTime": {
     "end_time": "2021-12-19T12:13:56.473301Z",
     "start_time": "2021-12-19T12:13:55.049464Z"
    }
   },
   "outputs": [],
   "source": [
    "pred = VotingClassifier.predict(X_test_df)\n",
    "acc = accuracy_score(y_test,pred)\n",
    "pre = precision_score(y_test,pred)\n",
    "rec = recall_score(y_test,pred)\n",
    "f1 = f1_score(y_test,pred)\n",
    "accuracy_list.append((\"VotingClassifier\",acc))\n",
    "recall_list.append((\"VotingClassifier\",rec))\n",
    "f1_list.append((\"VotingClassifier\",f1))\n",
    "precision_list.append((\"VotingClassifier\",pre))"
   ]
  },
  {
   "cell_type": "code",
   "execution_count": 160,
   "id": "e03b6a60",
   "metadata": {
    "ExecuteTime": {
     "end_time": "2021-12-19T12:14:00.109164Z",
     "start_time": "2021-12-19T12:14:00.094144Z"
    }
   },
   "outputs": [],
   "source": [
    "pred = FinalClassifier.predict(metamodel_preds)\n",
    "acc = accuracy_score(y_test,pred)\n",
    "pre = precision_score(y_test,pred)\n",
    "rec = recall_score(y_test,pred)\n",
    "f1 = f1_score(y_test,pred)\n",
    "accuracy_list.append((\"FinalClassifier\",acc))\n",
    "recall_list.append((\"FinalClassifier\",rec))\n",
    "f1_list.append((\"FinalClassifier\",f1))\n",
    "precision_list.append((\"FinalClassifier\",pre))"
   ]
  },
  {
   "cell_type": "code",
   "execution_count": 161,
   "id": "ff5874e0",
   "metadata": {
    "ExecuteTime": {
     "end_time": "2021-12-19T12:14:03.726240Z",
     "start_time": "2021-12-19T12:14:03.711127Z"
    }
   },
   "outputs": [
    {
     "data": {
      "text/plain": [
       "([('StackingClassifier', 0.927),\n",
       "  ('VotingClassifier', 0.8875),\n",
       "  ('FinalClassifier', 0.9295)],\n",
       " [('StackingClassifier', 0.0070921985815602835),\n",
       "  ('VotingClassifier', 0.23404255319148937),\n",
       "  ('FinalClassifier', 0.0)],\n",
       " [('StackingClassifier', 0.01351351351351351),\n",
       "  ('VotingClassifier', 0.2268041237113402),\n",
       "  ('FinalClassifier', 0.0)],\n",
       " [('StackingClassifier', 0.14285714285714285),\n",
       "  ('VotingClassifier', 0.22),\n",
       "  ('FinalClassifier', 0.0)])"
      ]
     },
     "execution_count": 161,
     "metadata": {},
     "output_type": "execute_result"
    }
   ],
   "source": [
    "accuracy_list, recall_list, f1_list,precision_list"
   ]
  },
  {
   "cell_type": "code",
   "execution_count": 164,
   "id": "3e837202",
   "metadata": {
    "ExecuteTime": {
     "end_time": "2021-12-19T12:15:43.856860Z",
     "start_time": "2021-12-19T12:15:42.117297Z"
    }
   },
   "outputs": [
    {
     "data": {
      "text/plain": [
       "<sklearn.metrics._plot.precision_recall_curve.PrecisionRecallDisplay at 0x1aa3fcd9fd0>"
      ]
     },
     "execution_count": 164,
     "metadata": {},
     "output_type": "execute_result"
    },
    {
     "data": {
      "image/png": "[encoded data removed]",
      "text/plain": [
       "<Figure size 432x288 with 1 Axes>"
      ]
     },
     "metadata": {
      "needs_background": "light"
     },
     "output_type": "display_data"
    }
   ],
   "source": [
    "plot_precision_recall_curve(StackingClassifier,X_test_df,y_test)"
   ]
  },
  {
   "cell_type": "code",
   "execution_count": 165,
   "id": "15703457",
   "metadata": {
    "ExecuteTime": {
     "end_time": "2021-12-19T12:15:54.777539Z",
     "start_time": "2021-12-19T12:15:53.217103Z"
    }
   },
   "outputs": [
    {
     "data": {
      "text/plain": [
       "<sklearn.metrics._plot.precision_recall_curve.PrecisionRecallDisplay at 0x1aa37a49550>"
      ]
     },
     "execution_count": 165,
     "metadata": {},
     "output_type": "execute_result"
    },
    {
     "data": {
      "image/png": "[encoded data removed]",
      "text/plain": [
       "<Figure size 432x288 with 1 Axes>"
      ]
     },
     "metadata": {
      "needs_background": "light"
     },
     "output_type": "display_data"
    }
   ],
   "source": [
    "plot_precision_recall_curve(VotingClassifier,X_test_df,y_test)"
   ]
  },
  {
   "cell_type": "code",
   "execution_count": 166,
   "id": "192818d5",
   "metadata": {
    "ExecuteTime": {
     "end_time": "2021-12-19T12:18:00.646960Z",
     "start_time": "2021-12-19T12:18:00.479370Z"
    },
    "scrolled": true
   },
   "outputs": [
    {
     "data": {
      "text/plain": [
       "<sklearn.metrics._plot.precision_recall_curve.PrecisionRecallDisplay at 0x1aa419bbd60>"
      ]
     },
     "execution_count": 166,
     "metadata": {},
     "output_type": "execute_result"
    },
    {
     "data": {
      "image/png": "[encoded data removed]",
      "text/plain": [
       "<Figure size 432x288 with 1 Axes>"
      ]
     },
     "metadata": {
      "needs_background": "light"
     },
     "output_type": "display_data"
    }
   ],
   "source": [
    "plot_precision_recall_curve(FinalClassifier,metamodel_preds,y_test)"
   ]
  },
  {
   "cell_type": "code",
   "execution_count": 175,
   "id": "6e970384",
   "metadata": {
    "ExecuteTime": {
     "end_time": "2021-12-19T12:21:02.696202Z",
     "start_time": "2021-12-19T12:21:02.170059Z"
    }
   },
   "outputs": [
    {
     "data": {
      "text/plain": [
       "<sklearn.metrics._plot.precision_recall_curve.PrecisionRecallDisplay at 0x1aa4e893ee0>"
      ]
     },
     "execution_count": 175,
     "metadata": {},
     "output_type": "execute_result"
    },
    {
     "data": {
      "image/png": "[encoded data removed]",
      "text/plain": [
       "<Figure size 432x288 with 1 Axes>"
      ]
     },
     "metadata": {
      "needs_background": "light"
     },
     "output_type": "display_data"
    }
   ],
   "source": [
    "plot_precision_recall_curve(rfr3,std_X3_train,y3_train)"
   ]
  },
  {
   "cell_type": "code",
   "execution_count": 126,
   "id": "3148d24e",
   "metadata": {
    "ExecuteTime": {
     "end_time": "2021-12-19T11:53:13.531241Z",
     "start_time": "2021-12-19T11:53:13.297915Z"
    }
   },
   "outputs": [
    {
     "data": {
      "image/png": "[encoded data removed]",
      "text/plain": [
       "<Figure size 432x288 with 2 Axes>"
      ]
     },
     "metadata": {
      "needs_background": "light"
     },
     "output_type": "display_data"
    }
   ],
   "source": [
    "plot_confusion_matrix(rfr3,std_X3_test, y3_test,cmap=plt.cm.Blues)\n",
    "plt.show()"
   ]
  },
  {
   "cell_type": "markdown",
   "id": "f0c6edb6",
   "metadata": {},
   "source": [
    "VotingClassifier의 성능이 가장 좋다."
   ]
  },
  {
   "cell_type": "markdown",
   "id": "6a3ee199",
   "metadata": {},
   "source": [
    "# 결과 해석"
   ]
  },
  {
   "cell_type": "markdown",
   "id": "3131bf5a",
   "metadata": {},
   "source": [
    "술과 술에 첨가된 물질에 의해 당을 섭취하기 쉽다는 사실은 이미 알려져 있다.\n",
    "설문에서도 술과 관련되어 아주 상세한 설문 문항이 있다. \n",
    "국립 보건원에서 이미 데이터로 검증하여 선정된 문항\n",
    "하지만 변수의 중요도가 낮게 평가 됐다.\n",
    "병원에서 물어보면 실제보다 낮춰서 쓰는 경향이 있기 떄문이다.\n"
   ]
  },
  {
   "cell_type": "markdown",
   "id": "207152e8",
   "metadata": {},
   "source": [
    "또한 높은 자기 객관성과 기억력이 필요하다.\n",
    "그래서 객관적인 수치인 임상조사와 키, 몸무게, 수입 등의 영향력이 크게 평가되었을 것이다. \n",
    "인터넷이나 앱으로 배포되어 병원에 가기 전 간단하게 자가 검진 할 수 있는 용도로 사용 될 수 있다.\n",
    "또한 온라인으로 설문을 받아서, 온라인으로 옮기는 추가적인 단계가 불필요해서,\n",
    "데이터 수집 수단으로도 유용하게 사용 될 것으로 기대된다."
   ]
  }
 ],
 "metadata": {
  "hide_input": false,
  "kernelspec": {
   "display_name": "Python 3 (ipykernel)",
   "language": "python",
   "name": "python3"
  },
  "language_info": {
   "codemirror_mode": {
    "name": "ipython",
    "version": 3
   },
   "file_extension": ".py",
   "mimetype": "text/x-python",
   "name": "python",
   "nbconvert_exporter": "python",
   "pygments_lexer": "ipython3",
   "version": "3.9.7"
  },
  "latex_envs": {
   "LaTeX_envs_menu_present": true,
   "autoclose": false,
   "autocomplete": true,
   "bibliofile": "biblio.bib",
   "cite_by": "apalike",
   "current_citInitial": 1,
   "eqLabelWithNumbers": true,
   "eqNumInitial": 1,
   "hotkeys": {
    "equation": "Ctrl-E",
    "itemize": "Ctrl-I"
   },
   "labels_anchors": false,
   "latex_user_defs": false,
   "report_style_numbering": false,
   "user_envs_cfg": false
  },
  "toc": {
   "base_numbering": 1,
   "nav_menu": {},
   "number_sections": true,
   "sideBar": true,
   "skip_h1_title": false,
   "title_cell": "Table of Contents",
   "title_sidebar": "Contents",
   "toc_cell": false,
   "toc_position": {
    "height": "calc(100% - 180px)",
    "left": "10px",
    "top": "150px",
    "width": "307.188px"
   },
   "toc_section_display": true,
   "toc_window_display": true
  },
  "varInspector": {
   "cols": {
    "lenName": 16,
    "lenType": 16,
    "lenVar": 40
   },
   "kernels_config": {
    "python": {
     "delete_cmd_postfix": "",
     "delete_cmd_prefix": "del ",
     "library": "var_list.py",
     "varRefreshCmd": "print(var_dic_list())"
    },
    "r": {
     "delete_cmd_postfix": ") ",
     "delete_cmd_prefix": "rm(",
     "library": "var_list.r",
     "varRefreshCmd": "cat(var_dic_list()) "
    }
   },
   "oldHeight": 387.844,
   "position": {
    "height": "471.844px",
    "left": "2039px",
    "right": "20px",
    "top": "96px",
    "width": "422px"
   },
   "types_to_exclude": [
    "module",
    "function",
    "builtin_function_or_method",
    "instance",
    "_Feature"
   ],
   "varInspector_section_display": "block",
   "window_display": true
  }
 },
 "nbformat": 4,
 "nbformat_minor": 5
}
